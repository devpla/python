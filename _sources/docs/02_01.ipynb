{
 "cells": [
  {
   "cell_type": "markdown",
   "id": "c02b8a92-8d72-4db3-b26e-4d04a4b741f3",
   "metadata": {},
   "source": [
    "# 조건문\n",
    "\n",
    "```{admonition} 조건문 (Conditional Statement)\n",
    ":class: note\n",
    "- if 조건문\n",
    "- elif 복수 조건\n",
    "```"
   ]
  },
  {
   "cell_type": "markdown",
   "id": "b5329f0e-66a5-4d2e-a8b8-937b0b37bce5",
   "metadata": {},
   "source": [
    "## if 조건문\n",
    "\n",
    "`if` 문은 반드시 **참/거짓을 판단할 수 있는 조건**과 함께 사용이 되어야합니다.\n",
    "\n",
    "### 활용법\n",
    "\n",
    "#### 문법\n",
    "\n",
    "```python\n",
    "if <expression>:\n",
    "    <코드 블럭>\n",
    "else:\n",
    "    <코드 블럭>\n",
    "```\n",
    "\n",
    "* `expression`에는 일반적으로 참/거짓에 대한 조건식이 들어갑니다.\n",
    "\n",
    "* **조건**이 **참**인 경우 `:` 이후의 문장을 수행합니다.\n",
    "\n",
    "* **조건**이 **거짓**인 경우 `else:` 이후의 문장을 수행합니다.\n",
    "\n",
    "* 여러 개의 `elif` 부가 있을 수 있고(없거나), `else`는 선택적으로 사용합니다.\n",
    "\n",
    "#### 예시\n",
    "\n",
    "```python\n",
    "if a > 0:\n",
    "    print('양수입니다.')\n",
    "else:\n",
    "    print('음수입니다.')\n",
    "```\n",
    "\n",
    "\n",
    "```{warning}\n",
    "* 이때 반드시 **들여쓰기**를 유의해야합니다. \n",
    "    - 파이썬에서는 코드 블록을 자바나 C언어의 `{}`와 달리 **들여쓰기**로 판단하기 때문입니다.\n",
    "* 앞으로 우리는 [PEP 8](https://www.python.org/dev/peps/pep-0008/#indentation)에서 권장하는 **4spaces**를 사용합니다.\n",
    "<center>\n",
    "<img src=\"https://user-images.githubusercontent.com/18046097/61180564-3a2c7800-a653-11e9-9fba-d60d2688ed3a.png\", alt=\"if style\", width = 300px/>\n",
    "</center>\n",
    "```"
   ]
  },
  {
   "cell_type": "markdown",
   "id": "55450a23-68d9-40f6-967d-1b4a32e209e9",
   "metadata": {},
   "source": [
    "<br>\n",
    "\n",
    "<center>\n",
    "    <img src=\"https://user-images.githubusercontent.com/18046097/61180566-3ac50e80-a653-11e9-81a6-2f195eeb0a65.png\", alt=\"[space vs tab]\"/>\n",
    "</center>    \n",
    "\n",
    "\n",
    "\n",
    "\n",
    "[출처 : 400,000 GitHub repositories, 1 billion files, 14 terabytes of code: Spaces or Tabs?](https://medium.com/@hoffa/400-000-github-repositories-1-billion-files-14-terabytes-of-code-spaces-or-tabs-7cfe0b5dd7fd)\n"
   ]
  },
  {
   "cell_type": "markdown",
   "id": "792ecf87-18ce-4bf3-9560-7e138341b460",
   "metadata": {},
   "source": [
    "### [연습] 크리스마스 판독기\n",
    "> 조건문을 통해 사용자가 입력한 날짜가 크리스마스인지 확인하세요.\n",
    "\n",
    "---\n",
    "\n",
    "**[입력 예시]**\n",
    "\n",
    "12/25\n",
    "\n",
    "**[출력 예시]**\n",
    "\n",
    "크리스마스입니다."
   ]
  },
  {
   "cell_type": "code",
   "execution_count": 1,
   "id": "2f7c033a-8bb4-4bed-b2f8-f8a72f1e312f",
   "metadata": {},
   "outputs": [
    {
     "name": "stdin",
     "output_type": "stream",
     "text": [
      "날짜를 입력해주세요 ex)12/24 :  07/21\n"
     ]
    }
   ],
   "source": [
    "is_christmas = input('날짜를 입력해주세요 ex)12/24 : ')"
   ]
  },
  {
   "cell_type": "code",
   "execution_count": 2,
   "id": "e4c336d2-3639-47ae-bc43-1d4975eff0ab",
   "metadata": {},
   "outputs": [
    {
     "name": "stdout",
     "output_type": "stream",
     "text": [
      "크리스마스가 아닙니다 :(\n"
     ]
    }
   ],
   "source": [
    "# 아래에 코드를 작성하세요.\n",
    "# if 문을 활용해봅시다.\n",
    "# is_christmas에 할당된 값이 '12/25'인 경우에는\n",
    "# '크리스마스입니다 :)' 를 출력하고\n",
    "# 그외의 경우에는 '크리스마스가 아닙니다 :(' 를 출력하는 코드를 작성하세요.\n",
    "\n",
    "if is_christmas == '12/25':\n",
    "    print('크리스마스입니다 :)')\n",
    "else:\n",
    "    print('크리스마스가 아닙니다 :(')"
   ]
  },
  {
   "cell_type": "markdown",
   "id": "d8031bc0-b909-444f-a2ab-2f51d0e50e96",
   "metadata": {},
   "source": [
    "### [실습] 홀/짝 판독기\n",
    "\n",
    "\n",
    "> 조건문을 통해 변수 num의 값과 홀수/짝수 여부를 출력하세요.\n",
    "\n",
    "---\n",
    "\n",
    "**[입력 예시]**\n",
    "\n",
    "3\n",
    "\n",
    "**[출력 예시]**\n",
    "\n",
    "홀수입니다."
   ]
  },
  {
   "cell_type": "code",
   "execution_count": 3,
   "id": "b922e6ff-9d69-4b0b-b560-b80fa8e6d770",
   "metadata": {},
   "outputs": [
    {
     "name": "stdin",
     "output_type": "stream",
     "text": [
      "숫자를 입력하세요 :  3\n"
     ]
    }
   ],
   "source": [
    "num = int(input('숫자를 입력하세요 : '))"
   ]
  },
  {
   "cell_type": "code",
   "execution_count": 4,
   "id": "30385377-624b-42b3-a421-f8ca00c04005",
   "metadata": {},
   "outputs": [
    {
     "name": "stdout",
     "output_type": "stream",
     "text": [
      "홀수입니다.\n"
     ]
    }
   ],
   "source": [
    "# 아래에 코드를 작성하세요.\n",
    "# if 문을 활용해봅시다.\n",
    "# num에 할당된 값을 2로 나누었을때 나머지가 있는 경우에는 '홀수입니다.'를 출력하고\n",
    "# num에 할당된 값이 2로 나누어 떨어지는 경우에는 '짝수입니다.'를 출력하는 코드를 작성하세요.\n",
    "\n",
    "if num % 2:           # 1이면 True 이므로\n",
    "    print('홀수입니다.')\n",
    "else:\n",
    "    print('짝수입니다.')"
   ]
  },
  {
   "cell_type": "markdown",
   "id": "bc966640-0834-4a3b-966b-807469d162bc",
   "metadata": {},
   "source": [
    "## elif 복수 조건\n",
    "\n",
    "2개 이상의 조건을 활용할 경우 `elif <조건>:`을 활용합니다.\n",
    "\n",
    "```python\n",
    "if dust > 150:\n",
    "    print(\"매우나쁨\")\n",
    "elif <조건식>:\n",
    "    print(\"나쁨\")\n",
    "elif <조건식>:\n",
    "    print(\"보통\")\n",
    "else:\n",
    "    print(\"좋음\")\n",
    "```"
   ]
  },
  {
   "cell_type": "markdown",
   "id": "d98699fc-60d3-4edc-bed7-695da410647a",
   "metadata": {},
   "source": [
    "### [연습] 복수 조건문 연습\n",
    "\n",
    "> 조건문을 통해 변수 score에 따른 평점을 출력하세요.\n",
    "\n",
    "|점수|등급|\n",
    "|---|---|\n",
    "|90점 이상|A|\n",
    "|80점 이상|B|\n",
    "|70점 이상|C|\n",
    "|60점 이상|D|\n",
    "|60점 미만|F|\n",
    "\n",
    "--- \n",
    "\n",
    "**[입력 예시]**\n",
    "\n",
    "85\n",
    "\n",
    "**[출력 예시]**\n",
    "\n",
    "B"
   ]
  },
  {
   "cell_type": "code",
   "execution_count": 13,
   "id": "57cf0cf4-43d3-4e7a-accb-035e635819b1",
   "metadata": {},
   "outputs": [
    {
     "name": "stdin",
     "output_type": "stream",
     "text": [
      "점수를 입력하세요 :  85\n"
     ]
    }
   ],
   "source": [
    "score = int(input('점수를 입력하세요 : '))"
   ]
  },
  {
   "cell_type": "code",
   "execution_count": 14,
   "id": "da3064e5-9c2c-468e-8b26-e14428cbdc04",
   "metadata": {},
   "outputs": [
    {
     "name": "stdout",
     "output_type": "stream",
     "text": [
      "B\n"
     ]
    }
   ],
   "source": [
    "# 아래에 코드를 작성하세요.\n",
    "# if, elif, else 문을 활용해봅시다.\n",
    "# score에 할당된 값이 90 이상인 경우에는 'A'를 출력하고,\n",
    "# score에 할당된 값이 90 미만, 80 이상인 경우에는 'B'를 출력하고,\n",
    "# score에 할당된 값이 80 미만, 70 이상인 경우에는 'C'를 출력하고,\n",
    "# score에 할당된 값이 70 미만, 60 이상인 경우에는 'D'를 출력하고,\n",
    "# score에 할당된 값이 60 미만인 경우에는 'F'를 출력하는 코드를 작성하시오.\n",
    "\n",
    "if score >= 90:\n",
    "    print('A')\n",
    "elif score >= 80:\n",
    "    print('B')\n",
    "elif score >= 70:\n",
    "    print('C')\n",
    "elif score >= 60:\n",
    "    print('D')\n",
    "else:\n",
    "    print('F')"
   ]
  },
  {
   "cell_type": "code",
   "execution_count": 15,
   "id": "508c92a0-caa5-4bcc-ae29-e20efc4019ee",
   "metadata": {},
   "outputs": [
    {
     "name": "stdout",
     "output_type": "stream",
     "text": [
      "D학점 이상\n"
     ]
    }
   ],
   "source": [
    "# 조건문은 순서대로 조건식을 검증하므로 순서에 유의해야 한다.\n",
    "# score 가 80점이지만 조건문의 순서에 따라 'B'를 출력하지 못하고 'D학점 이상'을 출력한다.\n",
    "\n",
    "score = 80\n",
    "\n",
    "if score >= 90:\n",
    "    print('A')\n",
    "elif score >= 60:\n",
    "    print('D학점 이상')\n",
    "elif score >= 80:\n",
    "    print('B')"
   ]
  },
  {
   "cell_type": "markdown",
   "id": "705ad675-842a-438c-acbe-15911fd7ca3c",
   "metadata": {},
   "source": [
    "## 중첩 조건문\n",
    "\n",
    "조건문은 다른 조건문에 중첩될 수도 있습니다. 이를 **중첩 조건문**(Nested Conditional Statement)이라고 합니다."
   ]
  },
  {
   "cell_type": "markdown",
   "id": "a2c51d58-24c2-4a98-9a44-b62a2f13de3b",
   "metadata": {},
   "source": [
    "### [연습] 중첩 조건문 활용\n",
    "\n",
    "> 위 실습문제 2개 코드를 활용하여 \n",
    "95점 이상이면, \"참 잘했어요\"도 함께 출력해주세요.\n",
    "\n",
    "--- \n",
    "**[출력 예시]**\n",
    "\n",
    "A\n",
    "\n",
    "참잘했어요."
   ]
  },
  {
   "cell_type": "code",
   "execution_count": 17,
   "id": "3ef5461b-ca55-4909-9e94-e706957ff362",
   "metadata": {},
   "outputs": [],
   "source": [
    "score = 96"
   ]
  },
  {
   "cell_type": "code",
   "execution_count": 18,
   "id": "ba396480-0ed0-4209-a209-8159b20508d5",
   "metadata": {},
   "outputs": [
    {
     "name": "stdout",
     "output_type": "stream",
     "text": [
      "A\n",
      "참 잘했어요.\n"
     ]
    }
   ],
   "source": [
    "# 아래에 코드를 작성하세요.\n",
    "# if, elif, else 문을 상황에 따라 중첩해서 활용해봅시다.\n",
    "# score에 할당된 값이 90 이상인 경우에 일단 'A'를 출력하고,\n",
    "# score에 할당된 값이 95 이상인 경우에는 추가적으로 '참 잘했어요.'를 출력하고,\n",
    "# score에 할당된 값이 90 미만, 80 이상인 경우에는 'B'를 출력하고,\n",
    "# score에 할당된 값이 80 미만, 70 이상인 경우에는 'C'를 출력하고,\n",
    "# score에 할당된 값이 70 미만, 60 이상인 경우에는 'D'를 출력하고,\n",
    "# score에 할당된 값이 60 미만인 경우에는 'F'를 출력하는 코드를 작성하시오.\n",
    "\n",
    "if score >= 90:\n",
    "    print('A')\n",
    "    if score >= 95:\n",
    "        print('참 잘했어요.')\n",
    "elif score >= 80:\n",
    "    print('B')\n",
    "elif score >= 70:\n",
    "    print('C')\n",
    "elif score >= 60:\n",
    "    print('D')\n",
    "else:\n",
    "    print('F')"
   ]
  },
  {
   "cell_type": "markdown",
   "id": "1cfbecbb-f9a8-4e66-bcab-19f4e6b5c0ec",
   "metadata": {},
   "source": [
    "## 조건 표현식\n",
    "\n",
    "* **조건 표현식**(Conditional Expression)은 일반적으로 조건에 따라 값을 정할 때 활용됩니다.\n",
    "\n",
    "* **삼항 연산자**(Ternary Operator)라고 부르기도 합니다.\n",
    "\n",
    "---\n",
    "\n",
    "### 활용법\n",
    "\n",
    "```python\n",
    "true_value if <조건식> else false_value\n",
    "```"
   ]
  },
  {
   "cell_type": "code",
   "execution_count": 13,
   "id": "d40192a5-d85a-497f-b7b5-ee744b3fa7bc",
   "metadata": {},
   "outputs": [
    {
     "name": "stdin",
     "output_type": "stream",
     "text": [
      "숫자를 입력하세요 :  2\n"
     ]
    },
    {
     "name": "stdout",
     "output_type": "stream",
     "text": [
      "0 보다 큼\n"
     ]
    }
   ],
   "source": [
    "num = int(input('숫자를 입력하세요 : '))\n",
    "\n",
    "print('0 보다 큼') if num > 0 else print('0 보다 크지않음')"
   ]
  },
  {
   "cell_type": "code",
   "execution_count": 2,
   "id": "7bdcf6dd-37c1-44b2-8c67-0fa1b9e56fce",
   "metadata": {},
   "outputs": [
    {
     "name": "stdin",
     "output_type": "stream",
     "text": [
      "숫자를 입력하세요 :  -1\n"
     ]
    },
    {
     "name": "stdout",
     "output_type": "stream",
     "text": [
      "1\n"
     ]
    }
   ],
   "source": [
    "# 아래의 코드는 무엇을 위한 코드일까요?\n",
    "\n",
    "num = int(input('숫자를 입력하세요 : '))\n",
    "value = num if num >= 0 else -num\n",
    "print(value)"
   ]
  },
  {
   "cell_type": "code",
   "execution_count": null,
   "id": "52205fb4-fee9-45a1-9bbb-d52992e2892e",
   "metadata": {},
   "outputs": [],
   "source": [
    "# 아래에 주석으로 답변을 작성하세요.\n",
    "\n",
    "# 절댓값 도출"
   ]
  },
  {
   "cell_type": "markdown",
   "id": "9dcc8b7d-7e3d-4c16-a250-adc92312af25",
   "metadata": {},
   "source": [
    "### [연습] 조건 표현식 작성하기\n",
    "\n",
    "> 다음의 코드와 동일한 조건 표현식을 작성해보세요.\n",
    "\n",
    "```python\n",
    "num = 2\n",
    "if num % 2:\n",
    "    result = '홀수입니다.'\n",
    "else:\n",
    "    result = '짝수입니다.'\n",
    "print(result)\n",
    "```\n",
    "---\n",
    "\n",
    "**[출력 예시]**\n",
    "```\n",
    "짝수입니다.\n",
    "```"
   ]
  },
  {
   "cell_type": "code",
   "execution_count": 9,
   "id": "ddf3fbf7-8df3-4b7b-9af3-68c9d85654f6",
   "metadata": {},
   "outputs": [
    {
     "name": "stdout",
     "output_type": "stream",
     "text": [
      "짝수입니다.\n"
     ]
    }
   ],
   "source": [
    "# 아래에 코드를 작성하세요.\n",
    "# 위의 조건문을 조건 표현식으로 바꿔보세요.\n",
    "\n",
    "num = 2\n",
    "result = '홀수입니다.' if num % 2 else '짝수입니다.'\n",
    "print(result)"
   ]
  },
  {
   "cell_type": "markdown",
   "id": "675ba61d-3417-4525-9b83-0158151e4a67",
   "metadata": {},
   "source": [
    "### [실습] 조건 표현식과 동일한 if 문 작성하기\n",
    "\n",
    "> 다음의 코드와 동일한 `if`문을 작성해보세요.\n",
    "\n",
    "```python\n",
    "num = -5\n",
    "value = num if num >= 0 else 0\n",
    "print(value)\n",
    "```\n",
    "---\n",
    "**[출력 예시]**\n",
    "\n",
    "0"
   ]
  },
  {
   "cell_type": "code",
   "execution_count": 11,
   "id": "a79acd46-a73a-419c-b2cd-34960589427e",
   "metadata": {},
   "outputs": [],
   "source": [
    "# 아래에 코드를 작성하세요.\n",
    "# 위의 조건 표현식을 if 문으로 바꿔보세요."
   ]
  },
  {
   "cell_type": "code",
   "execution_count": 10,
   "id": "2119c6cb-cd61-462c-89ed-7f505798b097",
   "metadata": {},
   "outputs": [
    {
     "name": "stdout",
     "output_type": "stream",
     "text": [
      "0\n"
     ]
    }
   ],
   "source": [
    "num = -5\n",
    "if num >= 0:\n",
    "    value = num\n",
    "else:\n",
    "    value = 0\n",
    "print(value)"
   ]
  },
  {
   "cell_type": "markdown",
   "id": "39f36e0a-3fbe-4aa5-aeb3-02660366e4b3",
   "metadata": {},
   "source": [
    "---"
   ]
  }
 ],
 "metadata": {
  "kernelspec": {
   "display_name": "Python 3 (ipykernel)",
   "language": "python",
   "name": "python3"
  },
  "language_info": {
   "codemirror_mode": {
    "name": "ipython",
    "version": 3
   },
   "file_extension": ".py",
   "mimetype": "text/x-python",
   "name": "python",
   "nbconvert_exporter": "python",
   "pygments_lexer": "ipython3",
   "version": "3.9.6"
  }
 },
 "nbformat": 4,
 "nbformat_minor": 5
}
