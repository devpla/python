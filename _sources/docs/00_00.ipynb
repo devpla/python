{
 "cells": [
  {
   "cell_type": "markdown",
   "id": "cd31d1da-c3e7-4533-bfe8-9916d1a51f48",
   "metadata": {},
   "source": [
    "# 00. Python 기초\n",
    "\n",
    "```{admonition} Python 특징\n",
    ":class: note\n",
    "- **인터프리터 언어**(Interpreter)\n",
    "  - 소스 코드를 컴파일하지 않고, 한 줄씩 소스코드를 읽어서 바로 실행\n",
    "  - 컴파일 언어에 비해 느릴 수 있지만 빌드 과정이 없이 바로 실행 가능함.\n",
    "- **객체 지향 프로그래밍**(Object Oriented Programming)\n",
    "  - 파이썬은 모두 객체로 이뤄져 있음.\n",
    "- **동적 타이핑**(Dynamic Typing)\n",
    "  - 변수에 별도의 타입 지정이 필요 없음.\n",
    "```\n",
    "\n",
    "## Python 개발 환경\n",
    "\n",
    "- **대화형 환경**\n",
    "  - Python 기본 Interpreter\n",
    "  - Python Jupyter Notebook\n",
    "- **스크립트 실행**\n",
    "  - .py 파일을 작성하고 IDE 혹은 Text editor 활용\n",
    "\n",
    "- **Python Interpreter / IDLE**\n",
    "    - 인터프리터가 대화형 모드로 동작함\n",
    "      - 프롬포트(`>>>`)에 코드를 작성하면 해당 코드가 실행됨.\n",
    "      - 여러 줄의 코드가 작성되는 경우 보조 프롬포트(`...`)가 사용됨.\n",
    "    - Python이 설치된 환경에서는 기본적으로 활용 가능하나 디버깅 및 코드 편집, 반복 실행이 어려움.\n",
    "\n",
    "\n",
    "- **Python Jupyter Lab**\n",
    "    - 웹 브라우저 환경에서 코드를 작성할 수 있는 오픈소스\n",
    "      - Syntax Highlighting, Indentation, Tab completion 등 편의기능 제공함.\n",
    "      - 브라우저에서 코드를 실행하고 결과를 확인할 수 있음\n",
    "      - HTML, LaTex, PNG, SVG을 바탕으로 다양한 표현이 가능함.\n",
    "      - Markdown을 기반으로 문서를 작성할 수 있음.\n"
   ]
  },
  {
   "cell_type": "markdown",
   "id": "1bbc8b88-324a-4ccc-beec-72b9652fcb1e",
   "metadata": {},
   "source": [
    "## 기초 문법 (Syntax)"
   ]
  },
  {
   "cell_type": "markdown",
   "id": "fe1ba8d5-cbb6-49f0-89cf-ae3557b27310",
   "metadata": {
    "id": "TBtwm4VbNWmM"
   },
   "source": [
    "```{admonition} 코드 스타일 가이드\n",
    ":class: note\n",
    "코드를 '**어떻게 작성할지**'에 대한 가이드라인\n",
    "\n",
    "- PEP8 (https://www.python.org/dev/peps/pep-0008/) - 파이썬에서 제안하는 스타일 가이드\n",
    "- Google Style guide (https://google.github.io/styleguide/pyguide.html) 등 기업, 오픈소스 등에서 사용되는 스타일 가이드\n",
    "```"
   ]
  },
  {
   "cell_type": "markdown",
   "id": "2c7e4156-34d6-444c-b2b5-ada3691f186a",
   "metadata": {},
   "source": [
    "## 주석\n",
    "\n",
    "### 주석 (Comment)\n",
    "\n",
    "**한 줄 주석**은 `#`으로 표현합니다. \n",
    "\n",
    "**여러 줄의 주석**은 \n",
    "\n",
    "1. 한 줄 씩 `#`을 사용해서 표현하거나,\n",
    "2. `\"\"\"` 또는 `'''` (여러줄 문자열, multiline string)으로 표현할 수 있습니다.\n",
    "    (multiline은 주로 함수/클래스를 설명 (docstring)하기 위해 활용됩니다.)"
   ]
  },
  {
   "cell_type": "code",
   "execution_count": 1,
   "id": "f07e3543-0693-4984-9474-5ab57f5c0c29",
   "metadata": {},
   "outputs": [
    {
     "name": "stdout",
     "output_type": "stream",
     "text": [
      "world\n"
     ]
    }
   ],
   "source": [
    "# 한줄 주석\n",
    "    \n",
    "# print('hello') # 이 줄은 실행되지 않습니다.\n",
    "print('world')"
   ]
  },
  {
   "cell_type": "code",
   "execution_count": 2,
   "id": "c48a1e2d-1ee6-42cd-98a7-699dd95dee24",
   "metadata": {},
   "outputs": [
    {
     "name": "stdout",
     "output_type": "stream",
     "text": [
      "world\n"
     ]
    }
   ],
   "source": [
    "# 여러줄 주석 (multiline string)\n",
    "\n",
    "\"\"\"\n",
    "이것은\n",
    "여러줄에 걸친\n",
    "주석을 만드는 코드입니다.\n",
    "\"\"\"\n",
    "print('world')"
   ]
  },
  {
   "cell_type": "code",
   "execution_count": 1,
   "id": "582156ed-f53b-4bce-bbc1-c02e0e5af664",
   "metadata": {},
   "outputs": [
    {
     "name": "stdout",
     "output_type": "stream",
     "text": [
      "이 함수는 foo입니다.\n",
      "    docstring으로 함수나 클래스의 기능을 설명합니다.\n"
     ]
    }
   ],
   "source": [
    "def foo():\n",
    "    '''이 함수는 foo입니다.\n",
    "    docstring으로 함수나 클래스의 기능을 설명합니다.'''\n",
    "\n",
    "print(foo.__doc__)"
   ]
  },
  {
   "cell_type": "markdown",
   "id": "35206eea-0578-4b26-9613-b7e5365cb0b7",
   "metadata": {},
   "source": [
    "## 코드 라인\n",
    "\n",
    "파이썬 코드는 '**1줄에 1문장**(statment)'이 원칙입니다.\n",
    "\n",
    "**문장**(statement)은 파이썬이 **실행 가능**(executable)한 최소한의 코드 단위입니다. \n",
    "\n",
    "```{Note}\n",
    "* 기본적으로 파이썬에서는 `;`을 작성하지 않습니다.\n",
    "* 한 줄로 표기할때는 `;`을 작성하여 표기할 수 있습니다. \n",
    "```"
   ]
  },
  {
   "cell_type": "code",
   "execution_count": 3,
   "id": "5f699425-e15f-42a7-ae6b-9f12c59629ed",
   "metadata": {},
   "outputs": [
    {
     "name": "stdout",
     "output_type": "stream",
     "text": [
      "hello\n",
      "world\n"
     ]
    }
   ],
   "source": [
    "# print문을 두 번 쓸 경우\n",
    "\n",
    "print('hello')\n",
    "print('world') "
   ]
  },
  {
   "cell_type": "code",
   "execution_count": 4,
   "id": "f76459a0-781d-4ca6-b304-5a7aef0d48a2",
   "metadata": {},
   "outputs": [
    {
     "ename": "SyntaxError",
     "evalue": "invalid syntax (Temp/ipykernel_28272/2492589894.py, line 4)",
     "output_type": "error",
     "traceback": [
      "\u001b[1;36m  File \u001b[1;32m\"C:\\Users\\User\\AppData\\Local\\Temp/ipykernel_28272/2492589894.py\"\u001b[1;36m, line \u001b[1;32m4\u001b[0m\n\u001b[1;33m    print('hello')print('world')\u001b[0m\n\u001b[1;37m                  ^\u001b[0m\n\u001b[1;31mSyntaxError\u001b[0m\u001b[1;31m:\u001b[0m invalid syntax\n"
     ]
    }
   ],
   "source": [
    "# print문 2개를 한 줄로 이어서 작성할 경우\n",
    "\n",
    "print('hello')print('world')"
   ]
  },
  {
   "cell_type": "code",
   "execution_count": 5,
   "id": "899efb1c-278b-4231-9863-31b00ea2db37",
   "metadata": {},
   "outputs": [
    {
     "name": "stdout",
     "output_type": "stream",
     "text": [
      "hello\n",
      "world\n"
     ]
    }
   ],
   "source": [
    "# ;을 통해 코드를 구분시켜 오류 해결\n",
    "\n",
    "print('hello'); print('world')\n",
    "\n",
    "# 하지만 위와 같이 한줄에 두 개 이상의 코드를 작성하는 작성법은 잘 쓰지 않습니다."
   ]
  },
  {
   "cell_type": "markdown",
   "id": "79ad39ea-2176-461e-9a68-2e3c70b880ad",
   "metadata": {},
   "source": [
    "**줄을 여러줄 작성할 때**는 역슬래시`\\`를 사용하여 아래와 같이 할 수 있다. "
   ]
  },
  {
   "cell_type": "code",
   "execution_count": 7,
   "id": "15f03452-7f0d-4398-bdcd-14ba3ab94656",
   "metadata": {},
   "outputs": [
    {
     "ename": "SyntaxError",
     "evalue": "EOL while scanning string literal (Temp/ipykernel_28272/2393845461.py, line 4)",
     "output_type": "error",
     "traceback": [
      "\u001b[1;36m  File \u001b[1;32m\"C:\\Users\\User\\AppData\\Local\\Temp/ipykernel_28272/2393845461.py\"\u001b[1;36m, line \u001b[1;32m4\u001b[0m\n\u001b[1;33m    print('hello\u001b[0m\n\u001b[1;37m                ^\u001b[0m\n\u001b[1;31mSyntaxError\u001b[0m\u001b[1;31m:\u001b[0m EOL while scanning string literal\n"
     ]
    }
   ],
   "source": [
    "# print문을 통해 하나의 문자열을 두 줄로 작성하여 실행해봅시다. \n",
    "# 아래의 코드를 실행시켜 오류 메시지를 확인해봅시다.\n",
    "\n",
    "print('hello\n",
    "world')"
   ]
  },
  {
   "cell_type": "code",
   "execution_count": 8,
   "id": "32f32b71-6f67-49b5-9c29-78ebcee536f0",
   "metadata": {},
   "outputs": [
    {
     "name": "stdout",
     "output_type": "stream",
     "text": [
      "helloworld\n"
     ]
    }
   ],
   "source": [
    "# print문을 통해 실행되는 코드 예시 작성해봅시다.\n",
    "# hello 뒤에 \\를 붙이고 다시 코드를 실행해봅시다.\n",
    "\n",
    "print('hello\\\n",
    "world')"
   ]
  },
  {
   "cell_type": "code",
   "execution_count": 9,
   "id": "9ef5663d-2f52-499a-a566-b3c9ef88f52f",
   "metadata": {},
   "outputs": [
    {
     "name": "stdout",
     "output_type": "stream",
     "text": [
      "hello\n",
      "world\n"
     ]
    }
   ],
   "source": [
    "# PEP-8 가이드에 따르면 여러줄 문자열은 아래와 같이 쓰는 게 관례(convention)입니다.\n",
    "\n",
    "print(\"\"\"hello\n",
    "world\"\"\")"
   ]
  },
  {
   "cell_type": "markdown",
   "id": "cb46e788-0e1d-46ac-a92c-1495e6a2a7e6",
   "metadata": {},
   "source": [
    "`[]` `{}` `()`는 `\\` 없이도 가능합니다."
   ]
  },
  {
   "cell_type": "code",
   "execution_count": 10,
   "id": "78c5510e-cdae-4ead-9e80-c7da6a0fdcc4",
   "metadata": {},
   "outputs": [],
   "source": [
    "# 대괄호를 사용한 list를 만들어봅시다.\n",
    "# list 대괄호 안에는 '짜장면', '짬뽕', '탕수육','군만두', '물만두', '왕만두'를 두 줄로 채워넣어 봅시다."
   ]
  },
  {
   "cell_type": "code",
   "execution_count": 11,
   "id": "9db9d9c2-d190-4bd7-a52f-235a68d406b2",
   "metadata": {},
   "outputs": [],
   "source": [
    "# 닫히는 대괄호의 위치 \n",
    "# (1). 첫번째 요소(짜장면)의 시작 위치\n",
    "lunch1 = [\n",
    "    '짜장면', '짬뽕', '탕수육',\n",
    "    '군만두', '물만두', '왕만두',\n",
    "    ] "
   ]
  },
  {
   "cell_type": "code",
   "execution_count": 12,
   "id": "f9fdf6c3-e77a-42b5-8db2-db9d93065a9c",
   "metadata": {},
   "outputs": [],
   "source": [
    "# (2) 생성자(lunch2)가 시작되는 위치\n",
    "lunch2 = [\n",
    "    '짜장면', '짬뽕', '탕수육',\n",
    "    '군만두', '물만두', '왕만두',\n",
    "]"
   ]
  },
  {
   "cell_type": "markdown",
   "id": "9b727de7-66e1-414f-ad92-962687e52880",
   "metadata": {},
   "source": [
    "```{Note}\n",
    "PEP-8 가이드에 따르면, list 가 여러 줄로 작성될 때 닫히는 대괄호의 위치는\n",
    "\n",
    "1. 첫번째 문자(요소) 위치에 오거나 \n",
    "2. 마지막 줄에서 생성자가 시작되는 첫번째 열에 위치합니다.\n",
    "\n",
    "다른 (소, 중)괄호도 동일한 컨벤션을 따릅니다.\n",
    "```"
   ]
  }
 ],
 "metadata": {
  "kernelspec": {
   "display_name": "Python 3 (ipykernel)",
   "language": "python",
   "name": "python3"
  },
  "language_info": {
   "codemirror_mode": {
    "name": "ipython",
    "version": 3
   },
   "file_extension": ".py",
   "mimetype": "text/x-python",
   "name": "python",
   "nbconvert_exporter": "python",
   "pygments_lexer": "ipython3",
   "version": "3.9.6"
  }
 },
 "nbformat": 4,
 "nbformat_minor": 5
}
