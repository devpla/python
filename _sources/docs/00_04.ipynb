{
 "cells": [
  {
   "cell_type": "markdown",
   "id": "e070f96d-e58a-40c5-ad3a-25bf3d84c641",
   "metadata": {},
   "source": [
    "# [참고] 표현식 & 문장\n"
   ]
  },
  {
   "cell_type": "markdown",
   "id": "ec11a036-4ef7-4957-a062-8b37b1dd21c8",
   "metadata": {},
   "source": [
    "## 표현식\n",
    "\n",
    "> 표현식 (Expression) => `evaluate` => 값\n",
    "\n",
    "* **하나의 값**(value)**으로 환원**(reduce)될 수 있는 문장을 의미합니다.\n",
    "* `식별자`, `값`(리터럴), `연산자`로 구성됩니다.\n",
    "* 표현식을 만드는 문법(syntax)은 일반적인 (중위표기) 수식의 규칙과 유사합니다.\n",
    "\n",
    "[파이썬 문서](https://docs.python.org/ko/3/reference/expressions.html)"
   ]
  },
  {
   "cell_type": "code",
   "execution_count": 114,
   "id": "3765512d-a067-4a3a-bfd7-f1a8979fcbab",
   "metadata": {},
   "outputs": [
    {
     "data": {
      "text/plain": [
       "'hello'"
      ]
     },
     "execution_count": 114,
     "metadata": {},
     "output_type": "execute_result"
    }
   ],
   "source": [
    "# 표현식에 대해 알아봅시다.\n",
    "# 하나의 값(value)도 표현식(expression)이 될 수 있습니다.\n",
    "\n",
    "'hello'"
   ]
  },
  {
   "cell_type": "code",
   "execution_count": 115,
   "id": "75f7cd08-a42e-4740-8593-ebe9525e476f",
   "metadata": {},
   "outputs": [],
   "source": [
    "# 표현식은 하나의 값으로 평가(evaluate)될 수 있어야 합니다. \n",
    "# 그러면 할당문(assignment statement)은 표현식일까요?\n",
    "\n",
    "radius = 10"
   ]
  },
  {
   "cell_type": "code",
   "execution_count": 116,
   "id": "b5052dc3-f4eb-434c-95f7-8add4fd11bab",
   "metadata": {},
   "outputs": [
    {
     "data": {
      "text/plain": [
       "78.5"
      ]
     },
     "execution_count": 116,
     "metadata": {},
     "output_type": "execute_result"
    }
   ],
   "source": [
    "# 식별자가 값이 할당되어 있는 경우 수식의 일부가 될 수 있습니다.\n",
    "\n",
    "3.14 * (radius - 5) ** 2"
   ]
  },
  {
   "cell_type": "code",
   "execution_count": 117,
   "id": "41e7f343-0ca9-4c48-8c97-1c526c320b94",
   "metadata": {},
   "outputs": [
    {
     "ename": "SyntaxError",
     "evalue": "invalid syntax (Temp/ipykernel_28272/2861836898.py, line 4)",
     "output_type": "error",
     "traceback": [
      "\u001b[1;36m  File \u001b[1;32m\"C:\\Users\\User\\AppData\\Local\\Temp/ipykernel_28272/2861836898.py\"\u001b[1;36m, line \u001b[1;32m4\u001b[0m\n\u001b[1;33m    4 +\u001b[0m\n\u001b[1;37m        ^\u001b[0m\n\u001b[1;31mSyntaxError\u001b[0m\u001b[1;31m:\u001b[0m invalid syntax\n"
     ]
    }
   ],
   "source": [
    "# 표현식을 만드는 문법(syntax)은 일반적인 (중위표기) 수식의 규칙과 유사합니다. \n",
    "# 아래와 같은 문장은 표현식이 될 수 없습니다.\n",
    "\n",
    "4 + "
   ]
  },
  {
   "cell_type": "markdown",
   "id": "32679e09-dddf-4bf1-9cf7-a4374a2ec5bd",
   "metadata": {},
   "source": [
    "## 문장\n",
    "\n",
    "* **문장**(Statement)은 파이썬이 실행 가능한 최소한의 코드 단위 (a syntatic unit of programming)입니다."
   ]
  },
  {
   "cell_type": "code",
   "execution_count": 118,
   "id": "d4f18e3f-c1c9-4a6a-a3a8-7e6160c685ca",
   "metadata": {},
   "outputs": [
    {
     "data": {
      "text/plain": [
       "'ssafy'"
      ]
     },
     "execution_count": 118,
     "metadata": {},
     "output_type": "execute_result"
    }
   ],
   "source": [
    "# 문장에 대해 알아봅시다.\n",
    "# 하나의 값(value)도 문장이 될 수 있습니다.\n",
    "\n",
    "'ssafy'"
   ]
  },
  {
   "cell_type": "code",
   "execution_count": 119,
   "id": "541c232b-237f-406b-a031-4e1486d1307c",
   "metadata": {},
   "outputs": [
    {
     "data": {
      "text/plain": [
       "101"
      ]
     },
     "execution_count": 119,
     "metadata": {},
     "output_type": "execute_result"
    }
   ],
   "source": [
    "# 표현식(expression)도 문장이 될 수 있습니다.\n",
    "\n",
    "5 * 21 - 4 "
   ]
  },
  {
   "cell_type": "code",
   "execution_count": 120,
   "id": "88041aa4-8957-4a52-827c-9f31ae372f58",
   "metadata": {},
   "outputs": [
    {
     "ename": "SyntaxError",
     "evalue": "EOL while scanning string literal (Temp/ipykernel_28272/953869807.py, line 3)",
     "output_type": "error",
     "traceback": [
      "\u001b[1;36m  File \u001b[1;32m\"C:\\Users\\User\\AppData\\Local\\Temp/ipykernel_28272/953869807.py\"\u001b[1;36m, line \u001b[1;32m3\u001b[0m\n\u001b[1;33m    name = '\u001b[0m\n\u001b[1;37m            ^\u001b[0m\n\u001b[1;31mSyntaxError\u001b[0m\u001b[1;31m:\u001b[0m EOL while scanning string literal\n"
     ]
    }
   ],
   "source": [
    "# 실행 가능(executable)해야 하기 때문에 아래의 코드는 문장이 될 수 없습니다.\n",
    "\n",
    "name = '"
   ]
  },
  {
   "cell_type": "markdown",
   "id": "f22f409b-9844-4738-b631-9cf6867d0f7b",
   "metadata": {},
   "source": [
    "## 문장과 표현식의 관계\n",
    "\n",
    "<center><img width=\"600\" height=\"300\" src=\"https://user-images.githubusercontent.com/9452521/87619771-f41f5e00-c757-11ea-9e4b-1f76e4ca0981.png\", alt=\"variable\"/></center>"
   ]
  }
 ],
 "metadata": {
  "kernelspec": {
   "display_name": "Python 3 (ipykernel)",
   "language": "python",
   "name": "python3"
  },
  "language_info": {
   "codemirror_mode": {
    "name": "ipython",
    "version": 3
   },
   "file_extension": ".py",
   "mimetype": "text/x-python",
   "name": "python",
   "nbconvert_exporter": "python",
   "pygments_lexer": "ipython3",
   "version": "3.9.6"
  }
 },
 "nbformat": 4,
 "nbformat_minor": 5
}
