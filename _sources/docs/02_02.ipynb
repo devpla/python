{
 "cells": [
  {
   "cell_type": "markdown",
   "id": "5809ec15-c294-4d46-babb-6b01f7b5f6ac",
   "metadata": {},
   "source": [
    "# 2.2 반복문\n",
    "\n",
    "```{admonition} 반복문 (Loop Statement)\n",
    ":class: note\n",
    "\n",
    "- while\n",
    "- for\n",
    "```"
   ]
  },
  {
   "cell_type": "markdown",
   "id": "639460c0-ecaf-428c-bee2-b18f6d27d843",
   "metadata": {},
   "source": [
    "## 2.2.1 while 반복문\n",
    "\n",
    "`while` 문은 조건식이 참(`True`)인 경우 반복적으로 코드를 실행합니다.\n",
    "\n",
    "\n",
    "### 활용법\n",
    "- **문법**\n",
    "\n",
    "```python\n",
    "while <조건식>:\n",
    "    <코드 블럭>\n",
    "```\n",
    "\n",
    "- 예시\n",
    "\n",
    "```python\n",
    "while True:\n",
    "    print('조건식이 참일 때까지')\n",
    "    print('계속 반복')\n",
    "```\n",
    "\n",
    "```{warning}\n",
    "* `while` 문 역시 조건식 뒤에 콜론(`:`)이 반드시 필요하며, 이후 실행될 코드 블럭은 **4spaces**로 **들여쓰기**를 합니다.\n",
    "* **반드시 종료조건을 설정해야 합니다.**\n",
    "<center>\n",
    "    <img src=\"https://user-images.githubusercontent.com/18046097/61180567-3ac50e80-a653-11e9-9f12-39c404f4be30.png\", alt=\"\", width=300px>\n",
    "</center>\n",
    "```\n",
    "\n",
    "<br>"
   ]
  },
  {
   "cell_type": "markdown",
   "id": "0070bcca-0f89-4a5b-9049-cf1db5796038",
   "metadata": {},
   "source": [
    "<br>\n",
    "<center>\n",
    "    <img src=\"https://user-images.githubusercontent.com/18046097/61180568-3ac50e80-a653-11e9-9960-ba15137290a6.png\", alt=\"while\"/>\n",
    "</center>"
   ]
  },
  {
   "cell_type": "code",
   "execution_count": 4,
   "id": "6571e1a4-807f-48e7-97a9-1d3660100b8b",
   "metadata": {},
   "outputs": [
    {
     "name": "stdout",
     "output_type": "stream",
     "text": [
      "0\n",
      "1\n",
      "2\n",
      "3\n",
      "4\n",
      "끝\n"
     ]
    }
   ],
   "source": [
    "# 위의 flow chart를 조건문을 통해 만들어봅시다.\n",
    "# 아래에 코드를 작성하세요.\n",
    "# while 문을 활용해봅시다.\n",
    "\n",
    "a = 0\n",
    "\n",
    "while a < 5:\n",
    "    print(a)\n",
    "    a += 1\n",
    "print('끝')"
   ]
  },
  {
   "cell_type": "markdown",
   "id": "2a4b35ca-c8b3-493c-beee-a93b25cfef64",
   "metadata": {},
   "source": [
    "### [연습] while 문 작성하기\n",
    "> 사용자가 \"안녕\"이라고 입력할 때까지 인사하는 코드를 작성해보세요."
   ]
  },
  {
   "cell_type": "code",
   "execution_count": 3,
   "id": "0c5eb61e-0105-405f-83b1-b3bd38ec3620",
   "metadata": {},
   "outputs": [
    {
     "name": "stdout",
     "output_type": "stream",
     "text": [
      "안녕?\n"
     ]
    },
    {
     "name": "stdin",
     "output_type": "stream",
     "text": [
      "말해봐 :  안녕\n"
     ]
    }
   ],
   "source": [
    "# 아래에 코드를 작성하세요.\n",
    "# while 문을 활용해봅시다.\n",
    "\n",
    "# user_input에 초기값으로 비어있는 문자열을로 초기화하고,\n",
    "\n",
    "# user_input에 할당되는 값이 '안녕'일 떄까지,\n",
    "    # '안녕?'을 출력하고\n",
    "    # user_input에 사용자의 입력값을 받는 코드를 작성하시오.\n",
    "    \n",
    "user_input = ''\n",
    "while user_input != '안녕':\n",
    "    print('안녕?')\n",
    "    user_input = input('말해봐 : ')"
   ]
  },
  {
   "cell_type": "markdown",
   "id": "65fd63a8-e495-4c2d-8cc3-11eea4ce1bc4",
   "metadata": {},
   "source": [
    "### [실습] 합(Summation)\n",
    "\n",
    "> 1부터 사용자가 입력한 양의 정수까지의 총합을 구하는 코드를 작성해보세요.\n",
    "\n",
    "---\n",
    "**[입력 예시]**\n",
    "\n",
    "10\n",
    "\n",
    "**[출력 예시]**\n",
    "\n",
    "55"
   ]
  },
  {
   "cell_type": "code",
   "execution_count": 41,
   "id": "36a359a4-560b-4103-b4d0-39cc01f7ec01",
   "metadata": {},
   "outputs": [
    {
     "name": "stdin",
     "output_type": "stream",
     "text": [
      " 10\n"
     ]
    },
    {
     "name": "stdout",
     "output_type": "stream",
     "text": [
      "55\n"
     ]
    }
   ],
   "source": [
    "# 아래에 코드를 작성하세요\n",
    "\n",
    "n = 0\n",
    "total = 0 \n",
    "user_input = int(input())\n",
    "while n <= user_input:\n",
    "    total += n\n",
    "    n += 1\n",
    "print(total)"
   ]
  },
  {
   "cell_type": "markdown",
   "id": "ba1ace62-de86-4c58-8b64-810ba27a5dfb",
   "metadata": {},
   "source": [
    "### [응용] 한자리 씩 출력하기\n",
    "\n",
    "> 사용자로부터 숫자 입력 받은 양의 정수의 각 자리 수를 1의 자리부터 차례대로 출력하는 코드를 작성해보세요.\n",
    "\n",
    "\n",
    "---\n",
    "**[입력 예시]**\n",
    "\n",
    "185\n",
    "\n",
    "**[출력 예시]**\n",
    "\n",
    "5\n",
    "\n",
    "8\n",
    "\n",
    "1"
   ]
  },
  {
   "cell_type": "code",
   "execution_count": 42,
   "id": "700ae614-d88b-49c8-a05d-586b94be2502",
   "metadata": {},
   "outputs": [
    {
     "name": "stdin",
     "output_type": "stream",
     "text": [
      " 185\n"
     ]
    },
    {
     "name": "stdout",
     "output_type": "stream",
     "text": [
      "5\n",
      "8\n",
      "1\n"
     ]
    }
   ],
   "source": [
    "# 아래에 코드를 작성하세요.\n",
    "\n",
    "n = int(input())\n",
    "while n > 0:\n",
    "    print(n % 10)\n",
    "    n = n // 10"
   ]
  },
  {
   "cell_type": "markdown",
   "id": "82e74a8c-8b1a-4491-a87e-46e6c5e6b8b5",
   "metadata": {},
   "source": [
    "## 2.2.2 for 문\n",
    "\n",
    "`for` 문은 시퀀스(string, tuple, list, range)를 포함한 순회가능한 객체(iterable)의 요소들을 순회합니다.\n",
    "\n",
    "---\n",
    "\n",
    "### 활용법\n",
    "- **문법**\n",
    "\n",
    "```python\n",
    "for <임시변수> in <순회가능한데이터(iterable)>:\n",
    "    <코드 블럭>\n",
    "```\n",
    "\n",
    "- **예시**\n",
    "\n",
    "```python\n",
    "for menu in ['김밥', '햄버거', '피자', '라면']:\n",
    "    print(menu)\n",
    "```"
   ]
  },
  {
   "cell_type": "markdown",
   "id": "181bb1e7-3904-4e94-afa8-f1acfdbc6b68",
   "metadata": {},
   "source": [
    "<center>\n",
    "    <img src=\"https://user-images.githubusercontent.com/18046097/61180565-3a2c7800-a653-11e9-806a-28838248de31.png\", alt=\"\">\n",
    "</center>"
   ]
  },
  {
   "cell_type": "code",
   "execution_count": 43,
   "id": "e9f91a1d-cdc0-40ab-a93f-93e6e80a84f1",
   "metadata": {},
   "outputs": [
    {
     "name": "stdout",
     "output_type": "stream",
     "text": [
      "1\n",
      "2\n",
      "3\n",
      "4\n",
      "5\n",
      "끝\n"
     ]
    }
   ],
   "source": [
    "# flowchart를 for문을 통해 코드로 작성해봅시다.\n",
    "# 아래에 코드를 작성하세요.\n",
    "\n",
    "for num in [1, 2, 3, 4, 5]:\n",
    "    print(num)\n",
    "print('끝')"
   ]
  },
  {
   "cell_type": "markdown",
   "id": "956e8ed1-376a-4276-ab85-8a946d55ec8c",
   "metadata": {},
   "source": [
    "![for animation](https://user-images.githubusercontent.com/18046097/61180563-3a2c7800-a653-11e9-8a7a-c7d6e6b30141.gif)"
   ]
  },
  {
   "cell_type": "markdown",
   "id": "bb039875-426e-4544-b156-f7cc66139213",
   "metadata": {},
   "source": [
    "`for` 문에서 요소 값에 다른 값을 할당해도 다음 반복구문에 영향을 주지 않습니다.\n",
    "\n",
    "다음 요소 값에 의해 덮어 씌워지기 때문입니다."
   ]
  },
  {
   "cell_type": "code",
   "execution_count": 7,
   "id": "7bb0bbc5-23f6-4796-9c91-43b0ec320cc1",
   "metadata": {},
   "outputs": [
    {
     "name": "stdout",
     "output_type": "stream",
     "text": [
      "0\n",
      "1\n",
      "2\n",
      "3\n",
      "4\n",
      "5\n",
      "6\n",
      "7\n",
      "8\n",
      "9\n"
     ]
    }
   ],
   "source": [
    "# for 문 안에서 임시 변수에 다른 값을 할당해도 반복구문에 영향을 주지 않습니다.\n",
    "\n",
    "for i in range(10):\n",
    "    print(i)\n",
    "    i = 5 "
   ]
  },
  {
   "cell_type": "markdown",
   "id": "a116ba35-3729-410a-88b8-a2fa0aa3f958",
   "metadata": {},
   "source": [
    "### [연습] for 문 작성하기\n",
    "> `for` 문을 활용하여 사용자가 입력한 문자를 한글자씩 출력해보세요.\n",
    "\n",
    "---\n",
    "**[입력 예시]**\n",
    "```\n",
    "문자를 입력하세요 : 안녕!\n",
    "```\n",
    "\n",
    "\n",
    "**[출력 예시]**\n",
    "\n",
    "```\n",
    "안\n",
    "녕\n",
    "!\n",
    "```"
   ]
  },
  {
   "cell_type": "code",
   "execution_count": 8,
   "id": "1f65778c-b05c-4d8e-ae96-3689d23f36be",
   "metadata": {},
   "outputs": [
    {
     "name": "stdin",
     "output_type": "stream",
     "text": [
      "문자를 입력하세요 :  안녕!\n"
     ]
    }
   ],
   "source": [
    "chars = input('문자를 입력하세요 : ')"
   ]
  },
  {
   "cell_type": "code",
   "execution_count": 9,
   "id": "98587f5a-8b10-4ff8-aed0-c3d557aec44c",
   "metadata": {},
   "outputs": [
    {
     "name": "stdout",
     "output_type": "stream",
     "text": [
      "안\n",
      "녕\n",
      "!\n"
     ]
    }
   ],
   "source": [
    "# 아래에 코드를 작성하세요.\n",
    "# for 문을 활용해봅시다.\n",
    "# 변수 char에 할당된 문자를 한글자씩 출력하는 for 반복문을 작성하시오.\n",
    "\n",
    "for char in chars:\n",
    "    print(char)"
   ]
  },
  {
   "cell_type": "markdown",
   "id": "41619c79-d35c-4a9c-aa45-ba1b5f6d0543",
   "metadata": {},
   "source": [
    "###  [실습] for 문과 if 문 작성하기\n",
    "\n",
    "> 반복문과 조건문만 활용하여 1~30까지 숫자 중에 홀수만 출력해보세요.\n",
    "\n",
    "---\n",
    "\n",
    "**[출력 예시]**\n",
    "\n",
    "```\n",
    "1\n",
    "3\n",
    "5\n",
    "...\n",
    "27\n",
    "29\n",
    "```"
   ]
  },
  {
   "cell_type": "code",
   "execution_count": 44,
   "id": "3069441b-521e-4435-ac70-85758a4cd96d",
   "metadata": {},
   "outputs": [
    {
     "name": "stdout",
     "output_type": "stream",
     "text": [
      "1\n",
      "3\n",
      "5\n",
      "7\n",
      "9\n",
      "11\n",
      "13\n",
      "15\n",
      "17\n",
      "19\n",
      "21\n",
      "23\n",
      "25\n",
      "27\n",
      "29\n"
     ]
    }
   ],
   "source": [
    "# 아래에 코드를 작성하세요.\n",
    "\n",
    "for i in range(1, 31):\n",
    "    if i % 2:\n",
    "        print(i)"
   ]
  },
  {
   "cell_type": "markdown",
   "id": "75405830-8ad6-4609-b7a4-4e900e5bb053",
   "metadata": {},
   "source": [
    "### 리스트(list) 순회에서 index의 활용하기\n",
    "\n",
    "#### range(리스트의 길이)\n",
    "`range()`와 순회할 list의 길이를 활용하여 index를 조작 가능합니다."
   ]
  },
  {
   "cell_type": "code",
   "execution_count": 10,
   "id": "89dfd9d3-1db7-40d6-b212-8aa22af5d516",
   "metadata": {},
   "outputs": [
    {
     "name": "stdout",
     "output_type": "stream",
     "text": [
      "0\n",
      "1\n",
      "2\n"
     ]
    }
   ],
   "source": [
    "# range 함수로 0~3 범위를 순회하여 출력하는 for 문을 작성해봅시다.\n",
    "\n",
    "for i in range(3):\n",
    "    print(i)"
   ]
  },
  {
   "cell_type": "code",
   "execution_count": 45,
   "id": "b76761e4-421d-46a0-8f81-d577ab1f5d21",
   "metadata": {},
   "outputs": [
    {
     "name": "stdout",
     "output_type": "stream",
     "text": [
      "0\n",
      "1\n",
      "2\n"
     ]
    }
   ],
   "source": [
    "# range(리스트의 길이)를 활용해서 출력해봅시다.\n",
    "# 0부터 리스트의 길이 만큼의 범위를 순회하면서 인덱스 숫자를 출력하는 for 문을 작성해봅시다.\n",
    "\n",
    "menus = ['짜장면', '초밥', '피자']\n",
    "for idx in range(len(menus)):\n",
    "    print(idx)"
   ]
  },
  {
   "cell_type": "code",
   "execution_count": 15,
   "id": "ca2f0995-e488-42b0-bfb8-cf30edfcb7c6",
   "metadata": {},
   "outputs": [
    {
     "name": "stdout",
     "output_type": "stream",
     "text": [
      "['짜장면', '샐러드', '피자', '샐러드', '햄버거', '샐러드', '소고기', '샐러드', '김치찌개']\n"
     ]
    }
   ],
   "source": [
    "# 홀수번째 메뉴를 샐러드로 바꾼다면?\n",
    "\n",
    "menus = ['짜장면', '초밥', '피자', '치킨', '햄버거', '곱창', '소고기', '삼겹살', '김치찌개']\n",
    "for idx in range(len(menus)):\n",
    "    if idx % 2:\n",
    "        menus[i] = '샐러드'\n",
    "print(menus)"
   ]
  },
  {
   "cell_type": "code",
   "execution_count": 46,
   "id": "7fdea08c-887a-49c4-9f82-7b882e54dce0",
   "metadata": {},
   "outputs": [
    {
     "name": "stdout",
     "output_type": "stream",
     "text": [
      "1번째 메뉴: 짜장면\n",
      "2번째 메뉴: 초밥\n",
      "3번째 메뉴: 피자\n"
     ]
    }
   ],
   "source": [
    "# 순서를 함께 출력해봅시다.\n",
    "# 출력 예) \n",
    "# 1번쨰 메뉴: 짜장면\n",
    "# 2번쨰 메뉴: 초밥\n",
    "# 3번쨰 메뉴: 피자\n",
    "# 리스트의 길이 만큼의 범위를 순회하면서 메뉴의 순서와 해당 순서의 메뉴를 출력하는 for 문을 작성해봅시다.\n",
    "\n",
    "menus = ['짜장면', '초밥', '피자']\n",
    "for idx in range(len(menus)):\n",
    "    print(f'{idx + 1}번째 메뉴: {menus[idx]}')"
   ]
  },
  {
   "cell_type": "markdown",
   "id": "f2516883-4fc9-48dd-a8fc-1a2d0aaca0be",
   "metadata": {},
   "source": [
    "#### enumerate()\n",
    "인덱스(index)와 값(value)을 함께 활용 가능합니다.\n",
    "\n",
    "> `enumerate()`를 활용하면, 추가적인 변수를 활용할 수 있습니다.\n",
    "- `enumerate()`는 [내장 함수](https://docs.python.org/ko/3.6/library/functions.html) 중 하나이며, 다음과 같이 구성되어 있습니다.\n",
    ">\n",
    "> <center>\n",
    "    <img src=\"https://user-images.githubusercontent.com/18046097/61180561-3993e180-a653-11e9-9558-085c9a0ad65d.png\", alt=\"enumerate\">\n",
    "</center>"
   ]
  },
  {
   "cell_type": "code",
   "execution_count": 20,
   "id": "7c474b88-a2f0-4d55-8cf0-f5e969bc18be",
   "metadata": {},
   "outputs": [
    {
     "name": "stdout",
     "output_type": "stream",
     "text": [
      "0 짜장면\n",
      "1 초밥\n",
      "2 피자\n"
     ]
    }
   ],
   "source": [
    "# enumerate()를 활용해서 출력해봅시다.\n",
    "\n",
    "lunchs = ['짜장면', '초밥', '피자']\n",
    "\n",
    "for idx, lunch in enumerate(lunchs):\n",
    "    print(idx, lunch)"
   ]
  },
  {
   "cell_type": "code",
   "execution_count": 22,
   "id": "c8e674e1-df9b-4e16-9fb0-eadd4b908aa8",
   "metadata": {},
   "outputs": [
    {
     "name": "stdout",
     "output_type": "stream",
     "text": [
      "0 짜장면\n",
      "1 초밥\n",
      "2 피자\n"
     ]
    }
   ],
   "source": [
    "# enumerate() 에 의해 반환되는 인덱스와 값(value)를 함께 출력하는 for 반복문을 작성해봅시다.\n",
    "\n",
    "for idx, lunch in enumerate(lunchs):\n",
    "    print(idx, lunch)"
   ]
  },
  {
   "cell_type": "code",
   "execution_count": 23,
   "id": "687e2e49-e4c5-41bd-badb-9551dcc8688f",
   "metadata": {},
   "outputs": [
    {
     "name": "stdout",
     "output_type": "stream",
     "text": [
      "<enumerate object at 0x000002534D39DAC0>\n",
      "[(0, '짜장면'), (1, '초밥'), (2, '피자')]\n"
     ]
    }
   ],
   "source": [
    "# enumerate()를 사용하였을 때 어떻게 표현이 되는지 확인해봅시다.\n",
    "\n",
    "print(enumerate(lunchs))\n",
    "print(list(enumerate(lunchs)))"
   ]
  },
  {
   "cell_type": "code",
   "execution_count": 24,
   "id": "7faba82a-0872-459a-9a9d-5d0567241325",
   "metadata": {},
   "outputs": [
    {
     "name": "stdout",
     "output_type": "stream",
     "text": [
      "(0, '짜장면')\n",
      "<class 'tuple'>\n"
     ]
    }
   ],
   "source": [
    "# 첫번쨰 항목의 type을 확인해봅시다.\n",
    "\n",
    "print(list(enumerate(lunchs))[0])\n",
    "print(type(list(enumerate(lunchs))[0]))"
   ]
  },
  {
   "cell_type": "markdown",
   "id": "c66342d7-7f1e-41e6-a1a2-8597b60b4847",
   "metadata": {},
   "source": [
    "* 숫자를 1부터 카운트 할 수도 있습니다."
   ]
  },
  {
   "cell_type": "code",
   "execution_count": 25,
   "id": "520a4c2a-30bc-40da-8a6d-a40ae8a7181d",
   "metadata": {},
   "outputs": [
    {
     "name": "stdout",
     "output_type": "stream",
     "text": [
      "1 짜장면\n",
      "2 초밥\n",
      "3 피자\n"
     ]
    }
   ],
   "source": [
    "# enumerate() 에 의해 반환되는 인덱스가 1로 시작하여 카운트되는 for 반복문을 작성해봅시다.\n",
    "\n",
    "for idx, lunch in enumerate(lunchs, start=1):\n",
    "    print(idx, lunch)"
   ]
  },
  {
   "cell_type": "markdown",
   "id": "61ee15d1-03e5-4696-bc11-fdedf5cef143",
   "metadata": {},
   "source": [
    "## 2.2.3 반복제어\n",
    "\n",
    "- `break`\n",
    "- `continue`\n",
    "- `for-else`"
   ]
  },
  {
   "cell_type": "markdown",
   "id": "fd40ceef-93aa-4a50-b2d5-47e5a4e4ca22",
   "metadata": {},
   "source": [
    "### break\n",
    "\n",
    "반복문을 종료합니다.\n",
    "\n",
    "* `for` 나 `while` 문에서 빠져나갑니다."
   ]
  },
  {
   "cell_type": "code",
   "execution_count": null,
   "id": "d6952e6d-a9f0-4dbd-aca0-d6c5d4ba03bd",
   "metadata": {},
   "outputs": [],
   "source": [
    "# while 문에서 break를 활용해봅시다."
   ]
  },
  {
   "cell_type": "code",
   "execution_count": 26,
   "id": "7a208b9a-cea7-45e8-9856-2751a6fe4ee0",
   "metadata": {},
   "outputs": [
    {
     "name": "stdout",
     "output_type": "stream",
     "text": [
      "0\n",
      "1\n",
      "2\n"
     ]
    }
   ],
   "source": [
    "# 종료 조건이 있는 while 문을 작성해봅시다.\n",
    "n = 0\n",
    "while n < 3:\n",
    "    print(n)\n",
    "    n += 1"
   ]
  },
  {
   "cell_type": "code",
   "execution_count": 27,
   "id": "d707576d-f3f2-45ac-807d-59b9b56f24d6",
   "metadata": {},
   "outputs": [
    {
     "name": "stdout",
     "output_type": "stream",
     "text": [
      "0\n",
      "1\n",
      "2\n"
     ]
    }
   ],
   "source": [
    "# 종료 조건이 없는 while 문을 break 를 활용해서 종료시키는 코드를 작성해봅시다.\n",
    "n = 0\n",
    "while True:\n",
    "    if n == 3:\n",
    "        break\n",
    "    print(n)\n",
    "    n += 1"
   ]
  },
  {
   "cell_type": "code",
   "execution_count": null,
   "id": "96d215c4-7948-4f24-a5d1-6b085e75b7da",
   "metadata": {},
   "outputs": [],
   "source": [
    "# for 문에서도 break를 사용할 수 있습니다."
   ]
  },
  {
   "cell_type": "code",
   "execution_count": 47,
   "id": "4e5725b8-31eb-4977-995f-cbda4e7b9dd2",
   "metadata": {},
   "outputs": [
    {
     "name": "stdout",
     "output_type": "stream",
     "text": [
      "0\n",
      "1\n",
      "1 초과\n"
     ]
    }
   ],
   "source": [
    "# 0부터 9까지 순회하는 for 반복문 안에서 \n",
    "# 1을 초과하는 경우 '1 초과' 를 출력하며 종료하는 코드를 작성해봅시다.\n",
    "\n",
    "for i in range(10):\n",
    "    if i > 1:\n",
    "        print('1 초과')\n",
    "        break\n",
    "    print(i)"
   ]
  },
  {
   "cell_type": "code",
   "execution_count": 33,
   "id": "2631448f-e347-4bd0-a83b-1b5e98eeabce",
   "metadata": {},
   "outputs": [
    {
     "name": "stdout",
     "output_type": "stream",
     "text": [
      "while\n",
      "for\n"
     ]
    }
   ],
   "source": [
    "# 이 무한루프는 끝나지 않는다. break는 바로 위에 있는 반복문만 제어\n",
    "\n",
    "# while True:\n",
    "#     print('while')\n",
    "#     for _ in range(10):\n",
    "#         print('for')\n",
    "#         break\n",
    "\n",
    "while True:\n",
    "    print('while')\n",
    "    for _ in range(10):\n",
    "        print('for')\n",
    "        break\n",
    "    break"
   ]
  },
  {
   "cell_type": "markdown",
   "id": "7cf092d5-7fe4-43e2-8651-1e8bd2d9f4fb",
   "metadata": {},
   "source": [
    "#### [연습] `break` 활용하기\n",
    "\n",
    "> 조건문과 반복문, `break`를 활용하여 리스트에서 쌀이 나왔을때 `for` 문을 멈추는 코드를 작성하세요.\n",
    "\n",
    "---\n",
    "\n",
    "**[출력 예시]**\n",
    "\n",
    "보리\n",
    "\n",
    "보리\n",
    "\n",
    "쌀\n",
    "\n",
    "잡았다!"
   ]
  },
  {
   "cell_type": "code",
   "execution_count": 48,
   "id": "89763e8d-d98d-41fd-9a6f-54f598e3810f",
   "metadata": {},
   "outputs": [
    {
     "name": "stdout",
     "output_type": "stream",
     "text": [
      "보리\n",
      "보리\n",
      "보리\n",
      "쌀\n",
      "잡았다!\n"
     ]
    }
   ],
   "source": [
    "rice = ['보리', '보리', '보리', '쌀', '보리']\n",
    "\n",
    "# 아래에 코드를 작성하세요.\n",
    "\n",
    "for i in rice:\n",
    "    print(i)\n",
    "    if i == '쌀':\n",
    "        print('잡았다!')\n",
    "        break"
   ]
  },
  {
   "cell_type": "markdown",
   "id": "c24aa7a0-0cfa-40a5-976b-dfa52a49228e",
   "metadata": {},
   "source": [
    "### continue\n",
    "\n",
    "`continue`문은 continue 이후의 코드를 수행하지 않고 *다음 요소부터 계속(continue)하여* 반복을 수행합니다."
   ]
  },
  {
   "cell_type": "code",
   "execution_count": 49,
   "id": "8ecd89fe-16b8-473e-acc8-e67b2d537035",
   "metadata": {
    "ExecuteTime": {
     "end_time": "2021-01-15T08:54:19.617198Z",
     "start_time": "2021-01-15T08:54:19.615196Z"
    }
   },
   "outputs": [
    {
     "name": "stdout",
     "output_type": "stream",
     "text": [
      "1는 홀수다.\n",
      "3는 홀수다.\n",
      "5는 홀수다.\n"
     ]
    }
   ],
   "source": [
    "for i in range(6):\n",
    "    if i % 2 == 0:\n",
    "        continue\n",
    "        # continue 이후의 코드는 실행되지 않습니다.\n",
    "    print(f'{i}는 홀수다.')"
   ]
  },
  {
   "cell_type": "markdown",
   "id": "abaf99fc-c616-4993-9378-5a37b897aa7a",
   "metadata": {},
   "source": [
    "#### [연습] `continue` 문 작성하기\n",
    "\n",
    "> 나이가 입력된 리스트가 있을때,\n",
    "> 조건문과 반복문, continue를 활용하여 20살 이상일때만 \"성인입니다\"라는 출력을 하는 코드를 작성하세요.\n",
    "\n",
    "---\n",
    "\n",
    "**[출력 예시]**\n",
    "\n",
    "23 살은 성인입니다.\n",
    "\n",
    "30 살은 성인입니다.\n",
    "\n",
    "25 살은 성인입니다.\n",
    "\n",
    "31 살은 성인입니다."
   ]
  },
  {
   "cell_type": "code",
   "execution_count": 50,
   "id": "fa8edd01-8eee-4bea-8ad0-1f8b87958332",
   "metadata": {},
   "outputs": [
    {
     "name": "stdout",
     "output_type": "stream",
     "text": [
      "23 살은 성인입니다.\n",
      "30 살은 성인입니다.\n",
      "25 살은 성인입니다.\n",
      "31 살은 성인입니다.\n"
     ]
    }
   ],
   "source": [
    "ages = [10, 23, 8, 30, 25, 31]\n",
    "\n",
    "# 아래에 코드를 작성하세요.\n",
    "\n",
    "for age in ages:\n",
    "    if age < 20:\n",
    "        continue\n",
    "    print(f'{age} 살은 성인입니다.')"
   ]
  },
  {
   "cell_type": "markdown",
   "id": "5fbbb272-e847-4d54-8781-e9ef86c63174",
   "metadata": {},
   "source": [
    "### else\n",
    "\n",
    "끝까지 반복문을 실행한 이후에 실행됩니다.\n",
    "- 반복에서 리스트의 소진이나 (`for` 의 경우) 조건이 거짓이 돼서 (`while` 의 경우) 종료할 때 실행됩니다. \n",
    "- 하지만 반복문이 **`break` 문으로 종료될 때는 실행되지 않습니다.** (즉, `break`를 통해 중간에 종료되지 않은 경우만 실행)"
   ]
  },
  {
   "cell_type": "code",
   "execution_count": 38,
   "id": "f6a6ba37-5898-478d-83ce-773f35a988b7",
   "metadata": {},
   "outputs": [
    {
     "name": "stdout",
     "output_type": "stream",
     "text": [
      "0\n",
      "1\n",
      "2\n",
      "break 실행안됨.\n"
     ]
    }
   ],
   "source": [
    "# break가 안되는 상황을 확인해봅시다.\n",
    "\n",
    "for i in range(3):\n",
    "    print(i)\n",
    "    if i == 100:\n",
    "        print(f'{i}에서 break 실행됨.')\n",
    "        break\n",
    "else:\n",
    "    print(\"break 실행안됨.\")"
   ]
  },
  {
   "cell_type": "code",
   "execution_count": 39,
   "id": "5f42d283-fd69-49e8-b6c3-517f1e45eb97",
   "metadata": {},
   "outputs": [
    {
     "name": "stdout",
     "output_type": "stream",
     "text": [
      "0\n",
      "1\n",
      "1에서 break 시행됨.\n"
     ]
    }
   ],
   "source": [
    "# break가 되는 상황을 확인해봅시다.\n",
    "\n",
    "for i in range(3):\n",
    "    print(i)\n",
    "    if i == 1:\n",
    "        print(f'{i}에서 break 시행됨.')\n",
    "        break\n",
    "else:\n",
    "    print('break 시행안됨.')"
   ]
  },
  {
   "cell_type": "markdown",
   "id": "6d265ffa-0d86-47a1-ba3c-612dc08e3708",
   "metadata": {},
   "source": [
    "#### [연습] `for-else` 활용하기\n",
    "\n",
    "> 조건문과 반복문, break, else 를 통해서 아래의 코드와 동일한 코드를 작성하세요.\n",
    "* numbers 리스트에 4가 있을 경우 `True`를 출력하고, 없을 경우 `False`를 출력한다.\n",
    "\n",
    "---\n",
    "\n",
    "**[출력 예시]**\n",
    "\n",
    "`False`\n"
   ]
  },
  {
   "cell_type": "code",
   "execution_count": 51,
   "id": "9f12e889-7012-45f2-9a95-f3ab4ca60058",
   "metadata": {},
   "outputs": [
    {
     "name": "stdout",
     "output_type": "stream",
     "text": [
      "False\n"
     ]
    }
   ],
   "source": [
    "numbers = [1, 3, 7, 9]\n",
    "\n",
    "# 아래에 코드를 작성하세요.\n",
    "\n",
    "for number in numbers:\n",
    "    if number == 4:\n",
    "        print('True')\n",
    "        break\n",
    "else:\n",
    "    print('False')"
   ]
  },
  {
   "cell_type": "markdown",
   "id": "cdb0f7e0-4d38-4d59-a0ef-0b0b765e2e9e",
   "metadata": {},
   "source": [
    "### pass\n",
    "아무것도 하지 않습니다.\n",
    "* 문법적으로 문장이 필요하지만, 프로그램이 특별히 할 일이 없을 때 자리를 채우는 용도로 사용할 수 있다."
   ]
  },
  {
   "cell_type": "markdown",
   "id": "bd8988fe-adf1-4c1a-bcfd-40fec1aef2c4",
   "metadata": {},
   "source": [
    "**`pass` 와 `continue` 차이**"
   ]
  },
  {
   "cell_type": "code",
   "execution_count": 36,
   "id": "63172ed7-107f-4409-891f-4c779e202724",
   "metadata": {
    "ExecuteTime": {
     "end_time": "2021-01-15T08:51:27.991236Z",
     "start_time": "2021-01-15T08:51:27.985231Z"
    }
   },
   "outputs": [
    {
     "name": "stdout",
     "output_type": "stream",
     "text": [
      "0\n",
      "1\n",
      "2\n",
      "3\n",
      "4\n"
     ]
    }
   ],
   "source": [
    "# pass\n",
    "# 0부터 4의 범위를 순회하며 출력하는 반복문 안에서 3이 나오는 경우 pass 하는 조건문을 작성해봅시다.\n",
    "\n",
    "for i in range(5):\n",
    "    if i == 3:\n",
    "        pass\n",
    "    print(i)"
   ]
  },
  {
   "cell_type": "code",
   "execution_count": 37,
   "id": "844c6cec-1519-4c75-9e8a-df4ff43531a6",
   "metadata": {
    "ExecuteTime": {
     "end_time": "2021-01-15T08:51:33.024403Z",
     "start_time": "2021-01-15T08:51:33.013393Z"
    }
   },
   "outputs": [
    {
     "name": "stdout",
     "output_type": "stream",
     "text": [
      "0\n",
      "1\n",
      "2\n",
      "4\n"
     ]
    }
   ],
   "source": [
    "# continue\n",
    "# 0부터 4의 범위를 순회하며 출력하는 반복문 안에서 3이 나오는 경우 continue 하는 조건문을 작성해봅시다.\n",
    "\n",
    "for i in range(5):\n",
    "    if i == 3:\n",
    "        continue\n",
    "    print(i)"
   ]
  }
 ],
 "metadata": {
  "kernelspec": {
   "display_name": "Python 3 (ipykernel)",
   "language": "python",
   "name": "python3"
  },
  "language_info": {
   "codemirror_mode": {
    "name": "ipython",
    "version": 3
   },
   "file_extension": ".py",
   "mimetype": "text/x-python",
   "name": "python",
   "nbconvert_exporter": "python",
   "pygments_lexer": "ipython3",
   "version": "3.9.6"
  }
 },
 "nbformat": 4,
 "nbformat_minor": 5
}
