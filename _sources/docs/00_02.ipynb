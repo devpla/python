{
 "cells": [
  {
   "cell_type": "markdown",
   "id": "ab5cfa59-b7e6-4fb6-b3fa-2d1299d788af",
   "metadata": {},
   "source": [
    "# 데이터 타입\n",
    "\n",
    "```{admonition} **데이터 타입** (Data Type)\n",
    ":class: note\n",
    "- **숫자** (Number)\n",
    "  - int (정수, integer)\n",
    "  - float (부동소수점, 실수, floating point number)\n",
    "  - complex (복소수, complex number)\n",
    "- **문자열** (String)\n",
    "- **참/거짓** (Boolean)\n",
    "- **None**\n",
    "```"
   ]
  },
  {
   "cell_type": "markdown",
   "id": "1386b4d7-68b6-41bb-81fe-3ec20f7337aa",
   "metadata": {},
   "source": [
    "## 1. 숫자\n",
    "[파이썬 문서](https://docs.python.org/ko/3/library/stdtypes.html#numeric-types-int-float-complex)"
   ]
  },
  {
   "cell_type": "markdown",
   "id": "a89ed384-53e3-4273-8543-95cfecb32e1b",
   "metadata": {},
   "source": [
    "###  (1) int\n",
    "\n",
    "모든 정수는 `int`(정수, ingteger)로 표현됩니다.\n",
    "\n",
    "Python3에서는 `long` 타입은 없고 모두 `int` 타입으로 표기 됩니다.\n",
    "\n",
    "* 보통 프로그래밍 언어 및 Python2에서의 long은 OS 기준 32/64비트입니다.\n",
    "* Python3에서는 모두 int로 통합되었습니다.\n",
    "\n",
    "8진수 : `0o` / 2진수 : `0b` / 16진수: `0x` 로도 표현 가능합니다. "
   ]
  },
  {
   "cell_type": "code",
   "execution_count": 28,
   "id": "c7efa415-a8c0-4110-bf61-ce115d5a81ea",
   "metadata": {},
   "outputs": [
    {
     "data": {
      "text/plain": [
       "int"
      ]
     },
     "execution_count": 28,
     "metadata": {},
     "output_type": "execute_result"
    }
   ],
   "source": [
    "# 변수 a에 정수 3을 넣고 해당 변수의 type을 알아봅시다.\n",
    "\n",
    "a = 3\n",
    "type(a)"
   ]
  },
  {
   "cell_type": "code",
   "execution_count": 29,
   "id": "c429ec0e-e4b9-48ed-87f3-3e844f02a7f7",
   "metadata": {},
   "outputs": [
    {
     "name": "stdout",
     "output_type": "stream",
     "text": [
      "18446744073709551616\n"
     ]
    },
    {
     "data": {
      "text/plain": [
       "int"
      ]
     },
     "execution_count": 29,
     "metadata": {},
     "output_type": "execute_result"
    }
   ],
   "source": [
    "# 변수 a에 2의 64제곱을 할당해줍니다.\n",
    "# print와 type을 이용하여 a의 값과 타입을 확인해봅시다.\n",
    "\n",
    "a = 2**64\n",
    "print(a)\n",
    "type(a)"
   ]
  },
  {
   "cell_type": "markdown",
   "id": "097b1346-46d9-4c77-ba73-3012efc3cedc",
   "metadata": {},
   "source": [
    "#### 파이썬에서 표현할 수 있는 가장 큰 수\n",
    "\n",
    "* 파이썬에서 가장 큰 숫자를 활용하기 위해 sys 모듈을 불러옵니다.\n",
    "* 파이썬은 기존 C 계열 프로그래밍 언어와 다르게 정수 자료형(integer)에서 오버플로우가 없습니다.\n",
    "* 임의 정밀도 산술(arbitrary-precision arithmetic)을 사용하기 때문입니다. \n",
    "\n",
    "> **오버플로우(overflow)**\n",
    "- 데이터 타입 별로 사용할 수 있는 메모리의 크기가 제한되어 있습니다.\n",
    "- 표현할 수 있는 수의 범위를 넘어가는 연산을 하게 되면, 기대했던 값이 출력되지 않는 현상, 즉 메모리를 넘어선 상황을 의미합니다.\n",
    "\n",
    "> **임의 정밀도 산술(arbitrary-precision arithmetic)**\n",
    "- 사용할 수 있는 메모리양이 정해져 있는 기존의 방식과 달리, 현재 남아있는 만큼의 가용 메모리를 모두 수 표현에 끌어다 쓸 수 있는 형태를 의미합니다.\n",
    "- 특정 값을 나타내는데 4바이트가 부족하다면 5바이트, 더 부족하면 6바이트까지 사용할 수 있게 유동적으로 운용합니다.\n"
   ]
  },
  {
   "cell_type": "code",
   "execution_count": 30,
   "id": "8d901977-b10c-4ece-a8b9-b0621ff5eb12",
   "metadata": {},
   "outputs": [
    {
     "name": "stdout",
     "output_type": "stream",
     "text": [
      "9223372036854775807\n",
      "85070591730234615847396907784232501249\n"
     ]
    }
   ],
   "source": [
    "# 파이썬이 얼만큼 큰 숫자까지 저장할 수 있는지 확인해봅시다.\n",
    "\n",
    "import sys\n",
    "max_int = sys.maxsize\n",
    "\n",
    "# sys.maxsize 의 값은 2**63 - 1 => 64비트에서 부호비트를 뺀 63개의 최대치\n",
    "\n",
    "print(max_int)\n",
    "super_max = sys.maxsize * sys.maxsize\n",
    "print(super_max)"
   ]
  },
  {
   "cell_type": "code",
   "execution_count": 31,
   "id": "4c82776c-019e-4c44-8e54-96e46133062f",
   "metadata": {},
   "outputs": [
    {
     "name": "stdout",
     "output_type": "stream",
     "text": [
      "\n",
      "2진수 : 2\n",
      "8진수 : 8\n",
      "10진수 : 10\n",
      "16진수 : 16\n",
      "\n"
     ]
    }
   ],
   "source": [
    "# n진수를 만들어봅시다.\n",
    "# 2진수는 binary_number에 0b10을 할당합니다.\n",
    "# 8진수는 octal_number에 0o10을 할당합니다.\n",
    "# 10진수는 decimal_number에 10을 할당합니다.\n",
    "# 16진수는 hexadecimal_number에 0x10을 할당합니다.\n",
    "# 그리고 결과를 print를 이용해서 여러줄로 출력해봅시다.\n",
    "\n",
    "binary_number = 0b10\n",
    "octal_number = 0o10\n",
    "decimal_number = 10\n",
    "hexadecimal_number = 0x10\n",
    "print(f\"\"\"\n",
    "2진수 : {binary_number}\n",
    "8진수 : {octal_number}\n",
    "10진수 : {decimal_number}\n",
    "16진수 : {hexadecimal_number}\n",
    "\"\"\")"
   ]
  },
  {
   "cell_type": "markdown",
   "id": "00e0df8f-3493-4ada-b124-64ba007892aa",
   "metadata": {},
   "source": [
    "### (2) float\n",
    "\n",
    "실수는 `float`(부동소수점, 실수, floating point number)로 표현됩니다. \n",
    "\n",
    "다만, 실수를 컴퓨터가 표현하는 과정에서 부동소수점을 사용하며, 항상 같은 값으로 일치되지 않습니다. (floating point rounding error)\n",
    "\n",
    "이는 컴퓨터가 2진수(비트)를 통해 숫자를 표현하는 과정에서 생기는 오류이며, 대부분의 경우는 중요하지 않으나 값을 같은지 비교하는 과정에서 문제가 발생할 수 있습니다."
   ]
  },
  {
   "cell_type": "code",
   "execution_count": 32,
   "id": "50f56e1e-b1f3-4c47-92ce-44e939ea6156",
   "metadata": {},
   "outputs": [
    {
     "data": {
      "text/plain": [
       "float"
      ]
     },
     "execution_count": 32,
     "metadata": {},
     "output_type": "execute_result"
    }
   ],
   "source": [
    "# 변수 a에 실수 3.5를 넣고 해당 변수의 type을 알아봅시다.\n",
    "\n",
    "a = 3.5\n",
    "type(a)"
   ]
  },
  {
   "cell_type": "markdown",
   "id": "516265c9-8a7d-42d6-8f13-8f63b3636e3d",
   "metadata": {},
   "source": [
    "#### 컴퓨터식 지수 표현 방식\n",
    "* e를 사용할 수도 있습니다. (e와 E 모두 사용 가능)"
   ]
  },
  {
   "cell_type": "code",
   "execution_count": 33,
   "id": "39677115-57da-4f04-be58-49c51ad96400",
   "metadata": {},
   "outputs": [
    {
     "name": "stdout",
     "output_type": "stream",
     "text": [
      "<class 'float'>\n",
      "3.14\n"
     ]
    }
   ],
   "source": [
    "# 컴퓨터식 지수 표현 방식을 사용해봅시다.\n",
    "# 변수 b에 지수 314e-2를 넣고 해당 변수의 type을 알아봅시다.\n",
    "# print를 이용해 변수 b의 값도 알아봅시다.\n",
    "\n",
    "b = 314e-2    # 314 ∗ 0.01 \n",
    "print(type(b))\n",
    "print(b)"
   ]
  },
  {
   "cell_type": "markdown",
   "id": "3248fbe0-381f-4cf6-b8e9-5becc1d533fc",
   "metadata": {},
   "source": [
    "#### 실수의 연산\n",
    "* 실수의 경우 실제로 값을 처리하기 위해서는 조심할 필요가 있습니다."
   ]
  },
  {
   "cell_type": "code",
   "execution_count": 34,
   "id": "ebab6318-b86e-4fac-9498-7d949b2c7d3e",
   "metadata": {},
   "outputs": [
    {
     "data": {
      "text/plain": [
       "6.7"
      ]
     },
     "execution_count": 34,
     "metadata": {},
     "output_type": "execute_result"
    }
   ],
   "source": [
    "# 실수의 덧셈을 해봅시다.\n",
    "# 실수 아무 값이나 두 개를 더해봅시다. (3.5 + 3.2)\n",
    "\n",
    "3.5 + 3.2"
   ]
  },
  {
   "cell_type": "code",
   "execution_count": 35,
   "id": "baad9ad9-79dc-44bf-aca0-cf84d346b889",
   "metadata": {},
   "outputs": [
    {
     "data": {
      "text/plain": [
       "0.3799999999999999"
      ]
     },
     "execution_count": 35,
     "metadata": {},
     "output_type": "execute_result"
    }
   ],
   "source": [
    "# 실수의 뺄셈을 해봅시다. (3.5 - 3.12)\n",
    "\n",
    "3.5 - 3.12"
   ]
  },
  {
   "cell_type": "code",
   "execution_count": 36,
   "id": "c2a7ccc9-6c46-4cb9-87c8-1f7b810152fd",
   "metadata": {},
   "outputs": [
    {
     "data": {
      "text/plain": [
       "0.38"
      ]
     },
     "execution_count": 36,
     "metadata": {},
     "output_type": "execute_result"
    }
   ],
   "source": [
    "# 우리가 원하는대로 반올림을 해봅시다.\n",
    "# round() 는 0~4는 내림, 5는 동일하게 작동하지 않고 반올림 방식에 따라 다릅니다.\n",
    "# 앞자리가 짝수면 5는 내림 / 앞자리가 홀수면 5는 올림\n",
    "# round(값, 소수점자릿수)\n",
    "# 3.5 - 3.12 의 값을 반올림하는데 소수점 2자리까지 나타나게 해봅시다.\n",
    "\n",
    "round(3.5 - 3.12, 2)"
   ]
  },
  {
   "cell_type": "code",
   "execution_count": 37,
   "id": "88ce256b-b9e4-4cd0-8cda-48d8a7738e00",
   "metadata": {},
   "outputs": [
    {
     "data": {
      "text/plain": [
       "False"
      ]
     },
     "execution_count": 37,
     "metadata": {},
     "output_type": "execute_result"
    }
   ],
   "source": [
    "# 3.5 - 3.12의 결과와 0.38의 값이 같은지 == 을 사용해서 확인해봅시다.\n",
    "\n",
    "3.5 - 3.12 == 0.38"
   ]
  },
  {
   "cell_type": "code",
   "execution_count": 38,
   "id": "def615c6-0719-4583-b9ee-6abdc78669e7",
   "metadata": {},
   "outputs": [
    {
     "name": "stdout",
     "output_type": "stream",
     "text": [
      "0.3799999999999999\n"
     ]
    }
   ],
   "source": [
    "# print를 이용해서 3.5 - 3.12의 값을 확인해 봅시다.\n",
    "\n",
    "print(3.5 - 3.12)"
   ]
  },
  {
   "cell_type": "markdown",
   "id": "4ae04cdd-2c76-4d7d-9387-1ca6ef3088aa",
   "metadata": {},
   "source": [
    "* 따라서 다음과 같은 방법으로 처리 할 수 있습니다. (이외에 다양한 방법이 있음)"
   ]
  },
  {
   "cell_type": "code",
   "execution_count": 39,
   "id": "d1d13a40-f5e5-4224-a90e-af28a90008a4",
   "metadata": {},
   "outputs": [
    {
     "data": {
      "text/plain": [
       "True"
      ]
     },
     "execution_count": 39,
     "metadata": {},
     "output_type": "execute_result"
    }
   ],
   "source": [
    "# 1. 기본적인 처리방법을 알아봅시다.\n",
    "# 변수 a, b에 각각의 실수 값을 저장합니다.\n",
    "# 그리고 abs()를 이용하여 a와 b의 차이를 구합니다.\n",
    "# a와 b의 차이가 1e-10 값 이하이면 a 와 b 는 같다고 볼 수 있습니다.\n",
    "\n",
    "a = 3.5 - 3.12\n",
    "b = 0.38\n",
    "\n",
    "abs(a - b) <= 1e-10"
   ]
  },
  {
   "cell_type": "code",
   "execution_count": 40,
   "id": "c5868c41-02a6-40ec-8b9a-e4473da08ebe",
   "metadata": {},
   "outputs": [
    {
     "data": {
      "text/plain": [
       "True"
      ]
     },
     "execution_count": 40,
     "metadata": {},
     "output_type": "execute_result"
    }
   ],
   "source": [
    "# 2. sys 모듈을 통해 처리하는 방법을 알아봅시다.\n",
    "# `epsilon` 은 부동소수점 연산에서 반올림을 함으로써 발생하는 오차 상환\n",
    "# abs() 를 이용하여 a, b의 차이를 구합니다.\n",
    "# a와 b의 차이가 sys.float_info.epsilon의 값 이하이면 a, b 는 같다고 볼 수 있습니다.\n",
    "\n",
    "import sys\n",
    "abs(a - b) <= sys.float_info.epsilon"
   ]
  },
  {
   "cell_type": "code",
   "execution_count": 41,
   "id": "3b348e0a-45ab-4ad5-86a1-6408438dba40",
   "metadata": {},
   "outputs": [
    {
     "data": {
      "text/plain": [
       "True"
      ]
     },
     "execution_count": 41,
     "metadata": {},
     "output_type": "execute_result"
    }
   ],
   "source": [
    "# 3. python 3.5부터 활용 가능한 math 모듈을 통해 처리하는 법을 알아봅시다.\n",
    "# math.isclose() 를 이용해서 a와 b의 값이 같은지 확인할수 있습니다.\n",
    "\n",
    "import math\n",
    "math.isclose(a, b)"
   ]
  },
  {
   "cell_type": "markdown",
   "id": "ea3d1c54-0cf2-48c9-ab76-0d2341308b26",
   "metadata": {},
   "source": [
    "### (3) complex\n",
    "\n",
    "`complex`(복소수, complex number)는 실수로 표현되는 실수부와 허수부를 가집니다.\n",
    "\n",
    "허수부를 `j`로 표현합니다."
   ]
  },
  {
   "cell_type": "code",
   "execution_count": 42,
   "id": "714a8aa9-5c65-47d4-bd35-3b37e572a14c",
   "metadata": {},
   "outputs": [
    {
     "data": {
      "text/plain": [
       "complex"
      ]
     },
     "execution_count": 42,
     "metadata": {},
     "output_type": "execute_result"
    }
   ],
   "source": [
    "# 변수 a에 복소수 3-4j를 넣고 해당 변수의 type을 알아봅시다.\n",
    "\n",
    "a = 3 - 4j\n",
    "type(a)"
   ]
  },
  {
   "cell_type": "code",
   "execution_count": 43,
   "id": "9ca17506-2dce-4445-93ba-5d8074eba9fc",
   "metadata": {},
   "outputs": [
    {
     "data": {
      "text/plain": [
       "(1+2j)"
      ]
     },
     "execution_count": 43,
     "metadata": {},
     "output_type": "execute_result"
    }
   ],
   "source": [
    "# 문자열'1+2j' 을 복소수로 변환해봅시다.\n",
    "\n",
    "complex('1+2j')"
   ]
  },
  {
   "cell_type": "code",
   "execution_count": 44,
   "id": "00e9a042-b5ec-485c-a790-74d21fa8a34f",
   "metadata": {},
   "outputs": [
    {
     "ename": "ValueError",
     "evalue": "complex() arg is a malformed string",
     "output_type": "error",
     "traceback": [
      "\u001b[1;31m---------------------------------------------------------------------------\u001b[0m",
      "\u001b[1;31mValueError\u001b[0m                                Traceback (most recent call last)",
      "\u001b[1;32m~\\AppData\\Local\\Temp/ipykernel_28272/3185145093.py\u001b[0m in \u001b[0;36m<module>\u001b[1;34m\u001b[0m\n\u001b[0;32m      2\u001b[0m \u001b[1;31m# '1 + 2j'를 복소수로 변환해보고 오류를 확인해봅시다.\u001b[0m\u001b[1;33m\u001b[0m\u001b[1;33m\u001b[0m\u001b[1;33m\u001b[0m\u001b[0m\n\u001b[0;32m      3\u001b[0m \u001b[1;33m\u001b[0m\u001b[0m\n\u001b[1;32m----> 4\u001b[1;33m \u001b[0mcomplex\u001b[0m\u001b[1;33m(\u001b[0m\u001b[1;34m'1 + 2j'\u001b[0m\u001b[1;33m)\u001b[0m \u001b[1;31m# ValueError\u001b[0m\u001b[1;33m\u001b[0m\u001b[1;33m\u001b[0m\u001b[0m\n\u001b[0m",
      "\u001b[1;31mValueError\u001b[0m: complex() arg is a malformed string"
     ]
    }
   ],
   "source": [
    "# 문자열을 변환할 때, 문자열은 중앙의 + 또는 - 연산자 주위에 공백을 포함해서는 안 됩니다.\n",
    "# '1 + 2j'를 복소수로 변환해보고 오류를 확인해봅시다.\n",
    "\n",
    "complex('1 + 2j') # ValueError"
   ]
  },
  {
   "cell_type": "markdown",
   "id": "47d8f82b-e8d4-4cca-a72f-58d6d7b5c89a",
   "metadata": {},
   "source": [
    "## 2. 문자열\n",
    "\n",
    "모든 **문자**(String)는 `str` 타입입니다.\n",
    "\n",
    "문자열은 Single quotes(`'`)나 Double quotes(`\"`)을 활용하여 표현 가능합니다.\n",
    "\n",
    "- 작은따옴표: `'\"큰\" 따옴표를 담을 수 있습니다'`\n",
    "\n",
    "- 큰따옴표: `\"'작은' 따옴표를 담을 수 있습니다\"`\n",
    "\n",
    "- 삼중 따옴표: `'''세 개의 작은따옴표'''`, `\"\"\"세 개의 큰따옴표\"\"\"`\n",
    "\n",
    "\n",
    "단, 문자열을 묶을 때 동일한 문장부호를 활용해야하며, `PEP-8`에서는 **하나의 문장부호를 선택**하여 유지하도록 하고 있습니다. \n",
    "(Pick a rule and Stick to it)"
   ]
  },
  {
   "cell_type": "code",
   "execution_count": 1,
   "id": "0d369a00-0165-45f8-8bba-1093530527a5",
   "metadata": {},
   "outputs": [
    {
     "name": "stdout",
     "output_type": "stream",
     "text": [
      "Hi Hing9u\n",
      "<class 'str'>\n"
     ]
    }
   ],
   "source": [
    "# 변수에 문자열을 넣고 출력해봅시다.\n",
    "# 변수 greeting 에 hi를 name 에 'ssafy'를 할당합시다. \n",
    "# 그리고 각각의 변수를 print로 찍어보고 type도 확인해봅시다.\n",
    "\n",
    "greetings = 'Hi'\n",
    "name = 'Hing9u'\n",
    "print(greetings, name)\n",
    "print(type(name))"
   ]
  },
  {
   "cell_type": "code",
   "execution_count": 47,
   "id": "7f8bd3aa-8974-4fd6-b946-f5d6feca2f33",
   "metadata": {},
   "outputs": [
    {
     "name": "stdin",
     "output_type": "stream",
     "text": [
      " 28\n"
     ]
    },
    {
     "name": "stdout",
     "output_type": "stream",
     "text": [
      "28\n",
      "<class 'str'>\n"
     ]
    }
   ],
   "source": [
    "# 변수 age 에 사용자로 부터 입력을 받을 수 있는 input()의 결과를 저장합시다.\n",
    "# age 에 입력받은 값이 저장되었는지 그리고 그 type이 무엇인지 확인해봅시다.\n",
    "# 숫자를 넣었을때와 문자를 넣었을때의 type이 같은지 다른지도 확인해봅시다.\n",
    "\n",
    "age = input()\n",
    "print(age)\n",
    "print(type(age))"
   ]
  },
  {
   "cell_type": "markdown",
   "id": "cd1e4346-2e6f-41d9-8d2d-8d7647abb205",
   "metadata": {},
   "source": [
    "### 따옴표 사용\n",
    "\n",
    "문자열 안에 문장부호(`'`, `\"`)가 사용될 경우 이스케이프 문자(`\\`)를 활용 가능 합니다. "
   ]
  },
  {
   "cell_type": "code",
   "execution_count": 48,
   "id": "b318dc63-a5d3-4918-8e85-c146a532323d",
   "metadata": {},
   "outputs": [
    {
     "ename": "SyntaxError",
     "evalue": "invalid syntax (Temp/ipykernel_28272/2842659827.py, line 3)",
     "output_type": "error",
     "traceback": [
      "\u001b[1;36m  File \u001b[1;32m\"C:\\Users\\User\\AppData\\Local\\Temp/ipykernel_28272/2842659827.py\"\u001b[1;36m, line \u001b[1;32m3\u001b[0m\n\u001b[1;33m    print('철수가 말했다. '안녕?'')\u001b[0m\n\u001b[1;37m                     ^\u001b[0m\n\u001b[1;31mSyntaxError\u001b[0m\u001b[1;31m:\u001b[0m invalid syntax\n"
     ]
    }
   ],
   "source": [
    "# 문자열 안에 문장부호가 들어간 '철수가 말했다. '안녕?'' 을 활용해서 오류를 확인해봅시다.\n",
    "\n",
    "print('철수가 말했다. '안녕?'')"
   ]
  },
  {
   "cell_type": "code",
   "execution_count": 49,
   "id": "5ef8f496-c77e-4a9c-8ff5-f2daf962d0d5",
   "metadata": {},
   "outputs": [
    {
     "name": "stdout",
     "output_type": "stream",
     "text": [
      "철수가 말했다. \"안녕?\"\n",
      "철수가 말했다. '안녕?'\n"
     ]
    }
   ],
   "source": [
    "# 해당 오류를 1) 이스케이프 문자와 2) 서로 다른 문장부호 구성을 통해 해결해봅시다.\n",
    "\n",
    "print('철수가 말했다. \"안녕?\"')\n",
    "print('철수가 말했다. \\'안녕?\\'')"
   ]
  },
  {
   "cell_type": "markdown",
   "id": "dfc353d1-c87e-4380-8c47-8c0096ccb888",
   "metadata": {},
   "source": [
    "여러줄에 걸쳐있는 문장은 다음과 같이 표현 가능합니다.\n",
    "\n",
    "* `PEP-8`에 따르면 이 경우에는 반드시 `\"\"\"`를 사용하도록 되어 있다."
   ]
  },
  {
   "cell_type": "code",
   "execution_count": 50,
   "id": "4deaa2a5-ecd2-4289-9122-a8f00048c0a0",
   "metadata": {},
   "outputs": [
    {
     "name": "stdout",
     "output_type": "stream",
     "text": [
      "\n",
      "개행문자(역슬래시 + n) 없이\n",
      "여러 줄을 그대로 출력 가능합니다.\n",
      "\n"
     ]
    }
   ],
   "source": [
    "# 여러줄을 출력해봅시다.\n",
    "\n",
    "print(\"\"\"\n",
    "개행문자(역슬래시 + n) 없이\n",
    "여러 줄을 그대로 출력 가능합니다.\n",
    "\"\"\")"
   ]
  },
  {
   "cell_type": "code",
   "execution_count": 51,
   "id": "12e6f05b-857e-4282-b08e-f804c184fa0b",
   "metadata": {},
   "outputs": [
    {
     "data": {
      "text/plain": [
       "'heyheyhey yo!'"
      ]
     },
     "execution_count": 51,
     "metadata": {},
     "output_type": "execute_result"
    }
   ],
   "source": [
    "# 문자열은 + 연산자로 이어붙이고, * 연산자로 반복시킬 수 있습니다.\n",
    "# 'heyheyhey yo!' 를 출력하도록 코드를 작성해봅시다.\n",
    "\n",
    "3 * 'hey' + ' yo!'"
   ]
  },
  {
   "cell_type": "code",
   "execution_count": 52,
   "id": "c47a2470-3646-419e-9921-c08ed8037a8e",
   "metadata": {},
   "outputs": [
    {
     "data": {
      "text/plain": [
       "'Python'"
      ]
     },
     "execution_count": 52,
     "metadata": {},
     "output_type": "execute_result"
    }
   ],
   "source": [
    "# 당연히 변수화해서도 사용가능합니다.\n",
    "# 변수 prefix에 'Py'를 할당합니다.\n",
    "# 그리고 prefix에 'thon'을 붙여봅시다.\n",
    "\n",
    "prefix = 'Py'\n",
    "prefix + 'thon'"
   ]
  },
  {
   "cell_type": "markdown",
   "id": "5d43ce28-cc1d-498f-9c24-668c17b64c92",
   "metadata": {},
   "source": [
    "### 이스케이프 시퀀스\n",
    "\n",
    "문자열을 활용하는 경우 특수문자 혹은 조작을 하기 위하여 사용되는 것으로 `\\`를 활용하여 이를 구분합니다. \n",
    "\n",
    "|<center>예약문자</center>|내용(의미)|\n",
    "|:--------:|:--------:|\n",
    "|\\n|줄 바꿈|\n",
    "|\\t|탭|\n",
    "|\\r|캐리지리턴|\n",
    "|\\0|널(Null)|\n",
    "|\\\\\\\\ |`\\`|\n",
    "|\\\\'|단일인용부호(`'`)|\n",
    "|\\\\\"|이중인용부호(`\"`)|"
   ]
  },
  {
   "cell_type": "code",
   "execution_count": 53,
   "id": "d9a74b2e-9fb6-4f42-b613-c49fc2f084bb",
   "metadata": {},
   "outputs": [
    {
     "name": "stdout",
     "output_type": "stream",
     "text": [
      "엔터.\n",
      "탭\t탭\n"
     ]
    }
   ],
   "source": [
    "# print를 한 번만 사용하여 이스케이프 문자열을 조합하여 다음 결과가 나올 수 있게 해봅시다.\n",
    "# '엔터\n",
    "# 탭    탭'\n",
    "\n",
    "print('엔터.\\n탭\\t탭')"
   ]
  },
  {
   "cell_type": "code",
   "execution_count": 54,
   "id": "21949815-8e9c-41b0-9d79-d21861065776",
   "metadata": {},
   "outputs": [
    {
     "name": "stdout",
     "output_type": "stream",
     "text": [
      "내용을 띄워서 출력하고 싶으면?\t옆으로 띄워짐\n"
     ]
    }
   ],
   "source": [
    "# print 함수의 end 옵션에도 이스케이프 문자를 사용할 수 있습니다.\n",
    "# 아래 코드를 수정하여 다음의 결과를 출력해봅시다.\n",
    "# '내용을 띄워서 출력하고 싶으면?    옆으로 띄워짐'\n",
    "\n",
    "print('내용을 띄워서 출력하고 싶으면?', end='\\t')\n",
    "print('옆으로 띄워짐')"
   ]
  },
  {
   "cell_type": "code",
   "execution_count": 55,
   "id": "789659b5-1019-48ab-9236-9ff82160aec1",
   "metadata": {},
   "outputs": [
    {
     "name": "stdout",
     "output_type": "stream",
     "text": [
      "개행 문자 말고도 가능합니다!진짜로!알고보면 print는 기본이\\n!"
     ]
    }
   ],
   "source": [
    "# print 함수의 end 옵션의 기본은 \\n입니다.\n",
    "# 물론, end 옵션은 이스케이프 문자열이 아닌 다른 것도 가능합니다.\n",
    "# end에 다른 문자열도 넣을 수 있습니다. \n",
    "# 아래 코드를 수정하여 다음의 결과를 출력해봅시다.\n",
    "# '개행 문자 말고도 가능합니다!진짜로!알고보면 print는 기본이\\n!'\n",
    "\n",
    "print('개행 문자 말고도 가능합니다', end = '!')\n",
    "print('진짜로', end = '!')\n",
    "print('알고보면 print는 기본이\\\\n', end = '!')"
   ]
  },
  {
   "cell_type": "markdown",
   "id": "ad5b3f86-c1f8-4659-9da8-1a3b085fb4cc",
   "metadata": {},
   "source": [
    "### String interpolation \n",
    "\n",
    "* `%-formatting` \n",
    "\n",
    "    * `%d` : 정수\n",
    "    \n",
    "    * `%f` : 실수\n",
    "    \n",
    "    * `%s` : 문자열\n",
    "\n",
    "* [`str.format()` ](https://pyformat.info/)\n",
    "\n",
    "* [`f-strings`](https://www.python.org/dev/peps/pep-0498/) : 파이썬 3.6 이후 버전에서 지원"
   ]
  },
  {
   "cell_type": "code",
   "execution_count": 56,
   "id": "ce41d00c-a1b6-46cf-bc1f-5cfde86d4800",
   "metadata": {},
   "outputs": [],
   "source": [
    "# name 변수에 이름, score 변수에 학점을 넣어봅시다.\n",
    "\n",
    "name = 'Kim'\n",
    "score = 4.5"
   ]
  },
  {
   "cell_type": "code",
   "execution_count": 57,
   "id": "1a09f10e-69aa-43db-ab1e-7c26fbc9d876",
   "metadata": {},
   "outputs": [
    {
     "name": "stdout",
     "output_type": "stream",
     "text": [
      "Hello, Kim\n",
      "내 성적은 4\n",
      "내 성적은 4.500000\n"
     ]
    }
   ],
   "source": [
    "# %-formatting을 활용해봅시다.\n",
    "# print를 이용하여 name 을 출력해봅시다..\n",
    "# print를 이용하여 score를 정수 형태로 출력해봅시다.\n",
    "# print를 이용하여 score를 실수 형태로 출력해봅시다.\n",
    "\n",
    "print('Hello, %s' % name)\n",
    "print('내 성적은 %d' % score)\n",
    "print('내 성적은 %f' % score)"
   ]
  },
  {
   "cell_type": "code",
   "execution_count": 58,
   "id": "1566918e-ad17-43c0-9ddc-d0ff5709e1dc",
   "metadata": {},
   "outputs": [
    {
     "name": "stdout",
     "output_type": "stream",
     "text": [
      "Hello, Kim\n"
     ]
    }
   ],
   "source": [
    "# str.format()을 활용해봅시다.\n",
    "# name 을 출력해봅시다.\n",
    "\n",
    "print('Hello, {}'.format(name))"
   ]
  },
  {
   "cell_type": "code",
   "execution_count": 59,
   "id": "333d3b43-f2c6-4ed9-8fe2-c91a8adaf645",
   "metadata": {},
   "outputs": [
    {
     "name": "stdout",
     "output_type": "stream",
     "text": [
      "Hello, Kim\n"
     ]
    }
   ],
   "source": [
    "# f-string을 활용해봅시다.\n",
    "# name 을 출력해봅시다.\n",
    "\n",
    "print(f'Hello, {name}')"
   ]
  },
  {
   "cell_type": "code",
   "execution_count": 60,
   "id": "84a247c7-6498-4b6a-aa72-536f7d36b342",
   "metadata": {},
   "outputs": [
    {
     "name": "stdout",
     "output_type": "stream",
     "text": [
      "\n",
      "Hello,\n",
      "Kim\n",
      "\n"
     ]
    }
   ],
   "source": [
    "# 여러줄 문자열에서도 사용 가능합니다.\n",
    "# f-string을 이용하여 name을 여러줄 문자열로 출력해봅시다.\n",
    "\n",
    "print(f\"\"\"\n",
    "Hello,\n",
    "{name}\n",
    "\"\"\")"
   ]
  },
  {
   "cell_type": "markdown",
   "id": "947502f2-4f5d-4846-860b-438b9734921a",
   "metadata": {},
   "source": [
    "* f-strings에서는 형식을 지정할 수 있습니다."
   ]
  },
  {
   "cell_type": "code",
   "execution_count": 61,
   "id": "8c48ebf2-7cb3-4771-add2-504c24571261",
   "metadata": {},
   "outputs": [
    {
     "name": "stdout",
     "output_type": "stream",
     "text": [
      "2021-07-20 10:22:21.661280\n"
     ]
    }
   ],
   "source": [
    "# 다양한 형식을 활용하기 위해 datetime 모듈로 오늘을 표현해봅시다.\n",
    "# today 에 현재 시간 날짜를 할당해봅시다.\n",
    "# print를 이용하여 today를 출력해봅시다.\n",
    "\n",
    "from datetime import datetime\n",
    "today = datetime.now()\n",
    "print(today)"
   ]
  },
  {
   "cell_type": "code",
   "execution_count": 62,
   "id": "8cb65b4d-f819-4602-b2fc-86ac5354d004",
   "metadata": {},
   "outputs": [
    {
     "name": "stdout",
     "output_type": "stream",
     "text": [
      "오늘은 2021년 07월 20일 Tue\n"
     ]
    }
   ],
   "source": [
    "# interpolation에서 출력형식을 지정할 수 있습니다.\n",
    "# today에 저장된 시간을 YYYY년, mm월, dd일, a요일 로 구분해서 출력해봅시다.\n",
    "\n",
    "print(f'오늘은 {today:%Y}년 {today:%m}월 {today:%d}일 {today:%a}')"
   ]
  },
  {
   "cell_type": "markdown",
   "id": "b54b4d22-09a1-4cb3-835a-3f212c61ef72",
   "metadata": {},
   "source": [
    "* f-strings에서는 연산과 출력형식 지정도 가능합니다."
   ]
  },
  {
   "cell_type": "code",
   "execution_count": 63,
   "id": "c2d3f8c1-4e89-480c-b1ba-e4b87b90a05c",
   "metadata": {},
   "outputs": [
    {
     "name": "stdout",
     "output_type": "stream",
     "text": [
      "원주율은 3.14. 반지름이 2일때 원의 넓이는 12.566368\n",
      "원주율은 3.14. 반지름이 2일때 원의 넓이는 12.566368\n"
     ]
    }
   ],
   "source": [
    "# string interpolation을 통해 출력형식 지정 뿐만 아니라, 연산도 가능합니다.\n",
    "# pi = 3.141592 를 할당하고 \n",
    "# 원주율은 3.14. 반지를이 2일 때 원의 넓이는 12.566368 이라고 출력해봅시다.\n",
    "\n",
    "pi = 3.141592\n",
    "print(f'원주율은 {pi:.3}. 반지름이 2일때 원의 넓이는 {pi * 2 * 2}')\n",
    "print(f'원주율은 {round(pi, 2)}. 반지름이 2일때 원의 넓이는 {pi * 2 * 2}')"
   ]
  },
  {
   "cell_type": "markdown",
   "id": "21792af7-4afc-4839-9b0b-e34289027e3e",
   "metadata": {},
   "source": [
    "## 3. 참 / 거짓 (Boolean)\n",
    "\n",
    "파이썬에는 `True`와 `False`로 이뤄진 `bool` 타입이 있습니다. 비교/논리 연산을 수행 등에서 활용됩니다.\n",
    "\n",
    "다음은 `False`로 변환됩니다.\n",
    "```\n",
    "0, 0.0, (), [], {}, '', None\n",
    "```"
   ]
  },
  {
   "cell_type": "code",
   "execution_count": 64,
   "id": "a623afa4-b12f-4d69-af7a-8cc7d36434c9",
   "metadata": {},
   "outputs": [
    {
     "name": "stdout",
     "output_type": "stream",
     "text": [
      "<class 'bool'>\n",
      "<class 'bool'>\n"
     ]
    }
   ],
   "source": [
    "# True와 False의 type을 알아봅시다.\n",
    "\n",
    "print(type(True))\n",
    "print(type(False))"
   ]
  },
  {
   "cell_type": "code",
   "execution_count": 65,
   "id": "c3fe8c87-4046-4cd3-82a2-c109e4b8b455",
   "metadata": {},
   "outputs": [
    {
     "data": {
      "text/plain": [
       "True"
      ]
     },
     "execution_count": 65,
     "metadata": {},
     "output_type": "execute_result"
    }
   ],
   "source": [
    "# 다양한 True, False 상황들을 확인해봅시다.\n",
    "# 형변환(Type Conversion)에서 추가적으로 다루는 내용입니다.\n",
    "\n",
    "bool(3.14)"
   ]
  },
  {
   "cell_type": "code",
   "execution_count": 66,
   "id": "0db5ad68-0be9-4ac4-b5c8-48ff9ff077e7",
   "metadata": {},
   "outputs": [
    {
     "data": {
      "text/plain": [
       "False"
      ]
     },
     "execution_count": 66,
     "metadata": {},
     "output_type": "execute_result"
    }
   ],
   "source": [
    "# 0 을 bool 타입으로 형변환해봅시다.\n",
    "\n",
    "bool(0)"
   ]
  },
  {
   "cell_type": "code",
   "execution_count": 67,
   "id": "f76f5710-6615-4c1e-a7b0-243a6eb16433",
   "metadata": {},
   "outputs": [
    {
     "data": {
      "text/plain": [
       "True"
      ]
     },
     "execution_count": 67,
     "metadata": {},
     "output_type": "execute_result"
    }
   ],
   "source": [
    "# 1 을 bool 타입으로 형변환해봅시다.\n",
    "\n",
    "bool(1)"
   ]
  },
  {
   "cell_type": "code",
   "execution_count": 68,
   "id": "a5b95415-122a-4c24-88f9-662b07de9e26",
   "metadata": {},
   "outputs": [
    {
     "data": {
      "text/plain": [
       "False"
      ]
     },
     "execution_count": 68,
     "metadata": {},
     "output_type": "execute_result"
    }
   ],
   "source": [
    "# None 을 bool 타입으로 형변환해봅시다.\n",
    "\n",
    "bool(None)"
   ]
  },
  {
   "cell_type": "code",
   "execution_count": 69,
   "id": "6177eea9-bb3c-4239-a210-d4a817b5bf38",
   "metadata": {},
   "outputs": [
    {
     "data": {
      "text/plain": [
       "False"
      ]
     },
     "execution_count": 69,
     "metadata": {},
     "output_type": "execute_result"
    }
   ],
   "source": [
    "# 빈 리스트를 bool 타입으로 형변환해봅시다.\n",
    "\n",
    "bool([])"
   ]
  },
  {
   "cell_type": "code",
   "execution_count": 70,
   "id": "d8ab06f1-cc6c-4d94-a2e6-1e81a54f2bae",
   "metadata": {},
   "outputs": [
    {
     "data": {
      "text/plain": [
       "False"
      ]
     },
     "execution_count": 70,
     "metadata": {},
     "output_type": "execute_result"
    }
   ],
   "source": [
    "# 빈 문자열을 bool 타입으로 형변환해봅시다.\n",
    "\n",
    "bool('')"
   ]
  },
  {
   "cell_type": "code",
   "execution_count": 71,
   "id": "41c88a3c-3e23-47b5-b244-6cb098a07b02",
   "metadata": {},
   "outputs": [
    {
     "data": {
      "text/plain": [
       "True"
      ]
     },
     "execution_count": 71,
     "metadata": {},
     "output_type": "execute_result"
    }
   ],
   "source": [
    "# ['hi']를 bool 타입으로 형변환해봅시다.\n",
    "\n",
    "bool(['hi'])"
   ]
  },
  {
   "cell_type": "code",
   "execution_count": 72,
   "id": "b926de37-edd2-4c3f-82a1-f1b1a83b4e31",
   "metadata": {},
   "outputs": [
    {
     "data": {
      "text/plain": [
       "True"
      ]
     },
     "execution_count": 72,
     "metadata": {},
     "output_type": "execute_result"
    }
   ],
   "source": [
    "# 'hi'를 bool 타입으로 형변환해봅시다.\n",
    "\n",
    "bool('hi')"
   ]
  },
  {
   "cell_type": "markdown",
   "id": "907bfd38-5916-4c42-8bba-b4ef66fb24a0",
   "metadata": {},
   "source": [
    "## 4. None\n",
    "\n",
    "파이썬에서는 값이 없음을 표현하기 위해 `None` 타입이 존재합니다."
   ]
  },
  {
   "cell_type": "code",
   "execution_count": 73,
   "id": "3ace38e5-8176-4736-9f71-07fdbb472458",
   "metadata": {},
   "outputs": [
    {
     "data": {
      "text/plain": [
       "NoneType"
      ]
     },
     "execution_count": 73,
     "metadata": {},
     "output_type": "execute_result"
    }
   ],
   "source": [
    "# None의 타입을 알아봅시다.\n",
    "\n",
    "type(None)"
   ]
  },
  {
   "cell_type": "code",
   "execution_count": 74,
   "id": "58158ebe-a1b8-40bd-9217-1fd12667c5d8",
   "metadata": {},
   "outputs": [
    {
     "name": "stdout",
     "output_type": "stream",
     "text": [
      "None\n"
     ]
    }
   ],
   "source": [
    "# 변수에 저장해서 확인해봅시다.\n",
    "# 변수 a에 None을 할당하고 출력해봅시다.\n",
    "\n",
    "a = None\n",
    "print(a)"
   ]
  },
  {
   "cell_type": "markdown",
   "id": "1a1810f0-563f-41dc-b76e-46649ab56936",
   "metadata": {},
   "source": [
    "## 5. 형변환\n",
    "\n",
    "파이썬에서 데이터타입은 서로 변환할 수 있습니다. (Type conversion, Typecasting)\n",
    "\n",
    "- 암시적 형변환\n",
    "- 명시적 형변환"
   ]
  },
  {
   "cell_type": "markdown",
   "id": "0d8e1894-19a4-4734-9a68-a27f4040810f",
   "metadata": {},
   "source": [
    "### 암시적 형변환\n",
    "\n",
    "**암시적 형변환**(Implicit Type Conversion)은 사용자가 의도하지 않았지만, 파이썬 내부적으로 자동으로 형변환 하는 경우입니다.\n",
    "아래의 상황에서만 가능합니다.\n",
    "* bool\n",
    "* Numbers (int, float, complex)"
   ]
  },
  {
   "cell_type": "code",
   "execution_count": 75,
   "id": "1fba26f5-2d55-47f3-b88c-b120c65d1d15",
   "metadata": {},
   "outputs": [
    {
     "data": {
      "text/plain": [
       "4"
      ]
     },
     "execution_count": 75,
     "metadata": {},
     "output_type": "execute_result"
    }
   ],
   "source": [
    "# boolean과 integer는 더할 수 있을까요?\n",
    "# True와 임의의 정수를 더해봅시다.\n",
    "\n",
    "True + 3"
   ]
  },
  {
   "cell_type": "code",
   "execution_count": 76,
   "id": "0cbcb9d1-441f-4903-aaf2-1bbac2cbdba7",
   "metadata": {},
   "outputs": [],
   "source": [
    "# int, float, complex를 각각 변수에 대입해봅시다.\n",
    "# 변수 int_number 에 정수를 할당해봅시다.\n",
    "# 변수 float_numbe 에 실수를 할당해봅시다.\n",
    "# 변수 complex_number 에 복소수를 할당해봅시다.\n",
    "\n",
    "int_number = 3\n",
    "float_number = 5.0\n",
    "complex_number = 3+5j"
   ]
  },
  {
   "cell_type": "code",
   "execution_count": 77,
   "id": "79a555ab-fca8-436b-868a-667270711c3d",
   "metadata": {},
   "outputs": [
    {
     "name": "stdout",
     "output_type": "stream",
     "text": [
      "8.0\n",
      "<class 'float'>\n"
     ]
    }
   ],
   "source": [
    "# int와 float를 더해봅시다. 그리고 값을 출력해봅시다.\n",
    "# 그 결과의 type은 무엇일까요?\n",
    "\n",
    "print(int_number + float_number)\n",
    "print(type(int_number + float_number))"
   ]
  },
  {
   "cell_type": "code",
   "execution_count": 78,
   "id": "a6660c54-0c1b-43cc-9e02-ae2ee0fb7068",
   "metadata": {},
   "outputs": [
    {
     "name": "stdout",
     "output_type": "stream",
     "text": [
      "(6+5j)\n",
      "<class 'complex'>\n"
     ]
    }
   ],
   "source": [
    "# int와 complex를 더해봅시다. 그리고 값을 출력해봅시다.\n",
    "# 그 결과의 type은 무엇일까요?\n",
    "\n",
    "print(int_number + complex_number)\n",
    "print(type(int_number + complex_number))"
   ]
  },
  {
   "cell_type": "markdown",
   "id": "867348a8-56e3-4b9d-a354-888e5c4156cb",
   "metadata": {},
   "source": [
    "### 명시적 형변환\n",
    "위의 상황을 제외하고는 모두 **명시적으로 형변환**(Explicit Type Conversion)을 해주어야합니다.\n",
    "\n",
    "* string -> intger  : 형식에 맞는 숫자만 가능\n",
    "* integer -> string : 모두 가능\n",
    "\n",
    "암시적 형변환이 되는 모든 경우도 명시적으로 형변환이 가능합니다.\n",
    "\n",
    "* `int()` : string, float를 int로 변환\n",
    "* `float()` : string, int를 float로 변환\n",
    "* `str()` : int, float, list, tuple, dictionary를 문자열로 변환\n",
    "\n",
    "`list()`, `tuple()` 등은 다음 챕터에서 배울 예정입니다."
   ]
  },
  {
   "cell_type": "code",
   "execution_count": 79,
   "id": "f94eef32-5397-4a08-bce2-99c1e280d7e6",
   "metadata": {},
   "outputs": [
    {
     "ename": "TypeError",
     "evalue": "unsupported operand type(s) for +: 'int' and 'str'",
     "output_type": "error",
     "traceback": [
      "\u001b[1;31m---------------------------------------------------------------------------\u001b[0m",
      "\u001b[1;31mTypeError\u001b[0m                                 Traceback (most recent call last)",
      "\u001b[1;32m~\\AppData\\Local\\Temp/ipykernel_28272/985865609.py\u001b[0m in \u001b[0;36m<module>\u001b[1;34m\u001b[0m\n\u001b[0;32m      2\u001b[0m \u001b[1;31m# 정수와 문자열을 그냥 더해보고 오류를 확인해봅시다.\u001b[0m\u001b[1;33m\u001b[0m\u001b[1;33m\u001b[0m\u001b[1;33m\u001b[0m\u001b[0m\n\u001b[0;32m      3\u001b[0m \u001b[1;33m\u001b[0m\u001b[0m\n\u001b[1;32m----> 4\u001b[1;33m \u001b[1;36m1\u001b[0m \u001b[1;33m+\u001b[0m \u001b[1;34m'등'\u001b[0m\u001b[1;33m\u001b[0m\u001b[1;33m\u001b[0m\u001b[0m\n\u001b[0m",
      "\u001b[1;31mTypeError\u001b[0m: unsupported operand type(s) for +: 'int' and 'str'"
     ]
    }
   ],
   "source": [
    "# integer와 string 사이의 관계는 명시적으로 형변환을 해줘야만 합니다.\n",
    "# 정수와 문자열을 그냥 더해보고 오류를 확인해봅시다.\n",
    "\n",
    "1 + '등'"
   ]
  },
  {
   "cell_type": "code",
   "execution_count": 80,
   "id": "c02a6e59-0d0d-4ca1-b8c8-bc5026775eef",
   "metadata": {},
   "outputs": [
    {
     "data": {
      "text/plain": [
       "'1등'"
      ]
     },
     "execution_count": 80,
     "metadata": {},
     "output_type": "execute_result"
    }
   ],
   "source": [
    "# 정수를 문자열로 형변환하고 문자열과 더해봅시다.\n",
    "\n",
    "str(1) + '등'"
   ]
  },
  {
   "cell_type": "code",
   "execution_count": 81,
   "id": "b80dc90d-abcf-4b72-be1e-d62b4daeca83",
   "metadata": {},
   "outputs": [
    {
     "data": {
      "text/plain": [
       "3"
      ]
     },
     "execution_count": 81,
     "metadata": {},
     "output_type": "execute_result"
    }
   ],
   "source": [
    "# 변수 a에 string 3을 할당하고 integer로 변환해봅시다.\n",
    "\n",
    "a = '3'\n",
    "int(a)"
   ]
  },
  {
   "cell_type": "code",
   "execution_count": 82,
   "id": "58dac508-6558-4cac-b284-4d5a8752c666",
   "metadata": {},
   "outputs": [
    {
     "data": {
      "text/plain": [
       "3.5"
      ]
     },
     "execution_count": 82,
     "metadata": {},
     "output_type": "execute_result"
    }
   ],
   "source": [
    "# 변수 a에 string 3.5를 할당하고 float로 변환해봅시다.\n",
    "\n",
    "a = '3.5'\n",
    "float(a)"
   ]
  },
  {
   "cell_type": "code",
   "execution_count": 83,
   "id": "50898246-69c3-4dc9-9976-cdf54613c287",
   "metadata": {},
   "outputs": [
    {
     "ename": "ValueError",
     "evalue": "invalid literal for int() with base 10: 'hi'",
     "output_type": "error",
     "traceback": [
      "\u001b[1;31m---------------------------------------------------------------------------\u001b[0m",
      "\u001b[1;31mValueError\u001b[0m                                Traceback (most recent call last)",
      "\u001b[1;32m~\\AppData\\Local\\Temp/ipykernel_28272/2253879097.py\u001b[0m in \u001b[0;36m<module>\u001b[1;34m\u001b[0m\n\u001b[0;32m      3\u001b[0m \u001b[1;33m\u001b[0m\u001b[0m\n\u001b[0;32m      4\u001b[0m \u001b[0ma\u001b[0m \u001b[1;33m=\u001b[0m \u001b[1;34m'hi'\u001b[0m\u001b[1;33m\u001b[0m\u001b[1;33m\u001b[0m\u001b[0m\n\u001b[1;32m----> 5\u001b[1;33m \u001b[0mint\u001b[0m\u001b[1;33m(\u001b[0m\u001b[0ma\u001b[0m\u001b[1;33m)\u001b[0m\u001b[1;33m\u001b[0m\u001b[1;33m\u001b[0m\u001b[0m\n\u001b[0m",
      "\u001b[1;31mValueError\u001b[0m: invalid literal for int() with base 10: 'hi'"
     ]
    }
   ],
   "source": [
    "# string은 글자가 숫자일때만 형변환이 가능합니다.\n",
    "# 변수 a에 문자열 'hi'를 할당하고 integer로 변환해봅시다.\n",
    "\n",
    "a = 'hi'\n",
    "int(a)"
   ]
  },
  {
   "cell_type": "code",
   "execution_count": 84,
   "id": "ec54a49b-bf27-49ae-99b6-53d2cb1dc8b2",
   "metadata": {},
   "outputs": [
    {
     "ename": "ValueError",
     "evalue": "invalid literal for int() with base 10: '3.5'",
     "output_type": "error",
     "traceback": [
      "\u001b[1;31m---------------------------------------------------------------------------\u001b[0m",
      "\u001b[1;31mValueError\u001b[0m                                Traceback (most recent call last)",
      "\u001b[1;32m~\\AppData\\Local\\Temp/ipykernel_28272/1212358409.py\u001b[0m in \u001b[0;36m<module>\u001b[1;34m\u001b[0m\n\u001b[0;32m      3\u001b[0m \u001b[1;33m\u001b[0m\u001b[0m\n\u001b[0;32m      4\u001b[0m \u001b[0ma\u001b[0m \u001b[1;33m=\u001b[0m \u001b[1;34m'3.5'\u001b[0m\u001b[1;33m\u001b[0m\u001b[1;33m\u001b[0m\u001b[0m\n\u001b[1;32m----> 5\u001b[1;33m \u001b[0mint\u001b[0m\u001b[1;33m(\u001b[0m\u001b[0ma\u001b[0m\u001b[1;33m)\u001b[0m\u001b[1;33m\u001b[0m\u001b[1;33m\u001b[0m\u001b[0m\n\u001b[0m",
      "\u001b[1;31mValueError\u001b[0m: invalid literal for int() with base 10: '3.5'"
     ]
    }
   ],
   "source": [
    "# string 3.5를 int로 변환할 수는 없습니다.\n",
    "# 변수 a에 string 3.5를 저장하고 integer로 변환하고 오류를 확인해봅시다.\n",
    "\n",
    "a = '3.5'\n",
    "int(a)"
   ]
  },
  {
   "cell_type": "code",
   "execution_count": 85,
   "id": "a45ac3bb-b490-46fd-bfe0-b9f9b53aca6d",
   "metadata": {},
   "outputs": [
    {
     "data": {
      "text/plain": [
       "3"
      ]
     },
     "execution_count": 85,
     "metadata": {},
     "output_type": "execute_result"
    }
   ],
   "source": [
    "# float 3.5는 int로 변환이 가능합니다.\n",
    "# 변수 a에 실수 3.5를 저장하고 integer로 변환해봅시다.\n",
    "\n",
    "a = 3.5\n",
    "int(a)"
   ]
  }
 ],
 "metadata": {
  "kernelspec": {
   "display_name": "Python 3 (ipykernel)",
   "language": "python",
   "name": "python3"
  },
  "language_info": {
   "codemirror_mode": {
    "name": "ipython",
    "version": 3
   },
   "file_extension": ".py",
   "mimetype": "text/x-python",
   "name": "python",
   "nbconvert_exporter": "python",
   "pygments_lexer": "ipython3",
   "version": "3.9.6"
  }
 },
 "nbformat": 4,
 "nbformat_minor": 5
}
