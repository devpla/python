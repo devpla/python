{
 "cells": [
  {
   "cell_type": "markdown",
   "id": "d6c6c7ea-190c-4581-a26f-91770dfea2de",
   "metadata": {},
   "source": [
    "# 변수와 식별자"
   ]
  },
  {
   "cell_type": "markdown",
   "id": "a58a0d1c-69c2-49e2-a5e6-479d4d5c13b8",
   "metadata": {},
   "source": [
    "## 변수\n",
    "\n",
    "* **변수**(Variables)는 할당 연산자 (Assignment Operator) `=`을 통해 **할당**(assignment) 됩니다.\n",
    "* 해당 **데이터 타입**을 확인하기 위해서는 `type()`을 활용합니다.\n",
    "* 해당 값의 **메모리 주소**를 확인하기 위해서는 `id()`를 활용합니다.\n",
    "\n",
    "<center>\n",
    "<img src=\"https://user-images.githubusercontent.com/18046097/61179857-13b41000-a646-11e9-9a88-8487df4eaf52.png\", alt=\"box\"/>\n",
    "</center>"
   ]
  },
  {
   "cell_type": "code",
   "execution_count": 1,
   "id": "b4cfe5bc-1ab9-4d57-83eb-d68801258c95",
   "metadata": {},
   "outputs": [
    {
     "data": {
      "text/plain": [
       "str"
      ]
     },
     "execution_count": 1,
     "metadata": {},
     "output_type": "execute_result"
    }
   ],
   "source": [
    "# 변수 x에 임의의 문자열을 할당해봅시다.\n",
    "# type()을 사용해 결과를 확인해봅시다.\n",
    "\n",
    "x = 'hello'\n",
    "type(x)"
   ]
  },
  {
   "cell_type": "code",
   "execution_count": 16,
   "id": "0caebb4a-e284-494b-83aa-cdf78e81ef9a",
   "metadata": {},
   "outputs": [
    {
     "data": {
      "text/plain": [
       "2281792062960"
      ]
     },
     "execution_count": 16,
     "metadata": {},
     "output_type": "execute_result"
    }
   ],
   "source": [
    "# id()를 사용해 결과를 확인해봅시다.\n",
    "\n",
    "id(x)"
   ]
  },
  {
   "cell_type": "markdown",
   "id": "897e1cdb-1d06-4421-9873-0d25de29d1d8",
   "metadata": {},
   "source": [
    "* 같은 값을 동시에 할당할 수 있습니다."
   ]
  },
  {
   "cell_type": "code",
   "execution_count": 17,
   "id": "15b1b9d8-3c38-47ad-af89-fd8844fa1887",
   "metadata": {},
   "outputs": [
    {
     "name": "stdout",
     "output_type": "stream",
     "text": [
      "1004 1004\n"
     ]
    }
   ],
   "source": [
    "# 같은 값을 x와 y에 동시에 할당해봅시다.\n",
    "# 그리고 print를 이용하여 x, y 값을 확인해봅시다.\n",
    "\n",
    "x = y = 1004\n",
    "print(x, y)"
   ]
  },
  {
   "cell_type": "markdown",
   "id": "c5f30148-c88f-4ede-ab6c-d6d607be825c",
   "metadata": {},
   "source": [
    "* 다른 값을 동시에 할당 가능합니다."
   ]
  },
  {
   "cell_type": "code",
   "execution_count": 18,
   "id": "ce44dd97-f87e-4f37-9858-7ee03164f5b7",
   "metadata": {},
   "outputs": [
    {
     "name": "stdout",
     "output_type": "stream",
     "text": [
      "1 2\n"
     ]
    }
   ],
   "source": [
    "# 두 개의 변수 x, y 에 1, 2 값을 동시에 할당해봅시다.\n",
    "# 그리고 print를 이용하여 x, y 값을 확인해봅시다.\n",
    "\n",
    "x, y = 1, 2\n",
    "print(x, y)"
   ]
  },
  {
   "cell_type": "code",
   "execution_count": 19,
   "id": "0acc3e73-fe4d-4db9-8691-80a0a45e4460",
   "metadata": {},
   "outputs": [
    {
     "ename": "TypeError",
     "evalue": "cannot unpack non-iterable int object",
     "output_type": "error",
     "traceback": [
      "\u001b[1;31m---------------------------------------------------------------------------\u001b[0m",
      "\u001b[1;31mTypeError\u001b[0m                                 Traceback (most recent call last)",
      "\u001b[1;32m~\\AppData\\Local\\Temp/ipykernel_28272/3748828729.py\u001b[0m in \u001b[0;36m<module>\u001b[1;34m\u001b[0m\n\u001b[0;32m      2\u001b[0m \u001b[1;31m# 두 개의 변수에 하나의 값을 넣었을때의 오류를 확인해봅시다.\u001b[0m\u001b[1;33m\u001b[0m\u001b[1;33m\u001b[0m\u001b[1;33m\u001b[0m\u001b[0m\n\u001b[0;32m      3\u001b[0m \u001b[1;33m\u001b[0m\u001b[0m\n\u001b[1;32m----> 4\u001b[1;33m \u001b[0mx\u001b[0m\u001b[1;33m,\u001b[0m \u001b[0my\u001b[0m \u001b[1;33m=\u001b[0m \u001b[1;36m1\u001b[0m\u001b[1;33m\u001b[0m\u001b[1;33m\u001b[0m\u001b[0m\n\u001b[0m",
      "\u001b[1;31mTypeError\u001b[0m: cannot unpack non-iterable int object"
     ]
    }
   ],
   "source": [
    "# 두 개의 변수 x, y에 값 1을 할당해봅시다.\n",
    "# 두 개의 변수에 하나의 값을 넣었을때의 오류를 확인해봅시다.\n",
    "\n",
    "x, y = 1"
   ]
  },
  {
   "cell_type": "code",
   "execution_count": 20,
   "id": "de353782-6798-452b-9379-e3443e23de6a",
   "metadata": {},
   "outputs": [
    {
     "ename": "ValueError",
     "evalue": "too many values to unpack (expected 2)",
     "output_type": "error",
     "traceback": [
      "\u001b[1;31m---------------------------------------------------------------------------\u001b[0m",
      "\u001b[1;31mValueError\u001b[0m                                Traceback (most recent call last)",
      "\u001b[1;32m~\\AppData\\Local\\Temp/ipykernel_28272/1169980124.py\u001b[0m in \u001b[0;36m<module>\u001b[1;34m\u001b[0m\n\u001b[0;32m      2\u001b[0m \u001b[1;31m# 두 개의 변수에 세 개의 값을 넣었을때의 오류를 확인해 봅시다.\u001b[0m\u001b[1;33m\u001b[0m\u001b[1;33m\u001b[0m\u001b[1;33m\u001b[0m\u001b[0m\n\u001b[0;32m      3\u001b[0m \u001b[1;33m\u001b[0m\u001b[0m\n\u001b[1;32m----> 4\u001b[1;33m \u001b[0mx\u001b[0m\u001b[1;33m,\u001b[0m \u001b[0my\u001b[0m \u001b[1;33m=\u001b[0m \u001b[1;36m1\u001b[0m\u001b[1;33m,\u001b[0m \u001b[1;36m2\u001b[0m\u001b[1;33m,\u001b[0m \u001b[1;36m3\u001b[0m\u001b[1;33m\u001b[0m\u001b[1;33m\u001b[0m\u001b[0m\n\u001b[0m",
      "\u001b[1;31mValueError\u001b[0m: too many values to unpack (expected 2)"
     ]
    }
   ],
   "source": [
    "# 두 개의 변수 x, y에 값 1, 2, 3 을 동시에 할당해 봅시다.\n",
    "# 두 개의 변수에 세 개의 값을 넣었을때의 오류를 확인해 봅시다.\n",
    "\n",
    "x, y = 1, 2, 3"
   ]
  },
  {
   "cell_type": "markdown",
   "id": "6f125648-21d3-4f6e-a136-f2e4be43b66a",
   "metadata": {},
   "source": [
    "* 이를 활용하면 서로 값을 바꾸고 싶은 경우 아래와 같이 활용 가능합니다."
   ]
  },
  {
   "cell_type": "code",
   "execution_count": 3,
   "id": "4ac0d115-d89e-4517-a04a-f7c4861866b8",
   "metadata": {},
   "outputs": [
    {
     "name": "stdout",
     "output_type": "stream",
     "text": [
      "1 2\n"
     ]
    }
   ],
   "source": [
    "# 변수 x와 y의 값을 바꿔봅시다.\n",
    "# 그리고 결과를 print를 이용해 확인해봅시다.\n",
    "\n",
    "x = 1 \n",
    "y = 2\n",
    "print(x, y)"
   ]
  },
  {
   "cell_type": "code",
   "execution_count": 4,
   "id": "62a1a34e-d03c-4dcd-a423-7dc46f83f929",
   "metadata": {},
   "outputs": [
    {
     "name": "stdout",
     "output_type": "stream",
     "text": [
      "2 1\n"
     ]
    }
   ],
   "source": [
    "# 방법 1 : 임시 변수 활용\n",
    "\n",
    "tmp = x\n",
    "x = y\n",
    "y = tmp\n",
    "print(x, y)"
   ]
  },
  {
   "cell_type": "code",
   "execution_count": 6,
   "id": "a9039d25-5318-4775-8f24-2d8d5fb9c979",
   "metadata": {},
   "outputs": [
    {
     "name": "stdout",
     "output_type": "stream",
     "text": [
      "2 1\n"
     ]
    }
   ],
   "source": [
    "# 방법 2 : Pythonic!\n",
    "\n",
    "x = 1\n",
    "y = 2\n",
    "\n",
    "x, y = y, x\n",
    "print(x, y)"
   ]
  },
  {
   "cell_type": "code",
   "execution_count": 23,
   "id": "a1aaeb6f-efdd-4ecc-9036-55f6509c5230",
   "metadata": {},
   "outputs": [
    {
     "name": "stdout",
     "output_type": "stream",
     "text": [
      "1 2\n",
      "2 1\n"
     ]
    }
   ],
   "source": [
    "# tmp와 x, y = y, x 안쓰고 x & y 바꾸기?\n",
    "x = 1 \n",
    "y = 2\n",
    "print(x, y)\n",
    "\n",
    "x = x + y\n",
    "y = x - y\n",
    "x = x - y\n",
    "print(x, y)"
   ]
  },
  {
   "cell_type": "markdown",
   "id": "655c7ae1-46e6-427f-a164-48519483cdf1",
   "metadata": {},
   "source": [
    "## 식별자\n",
    "\n",
    "파이썬에서 **식별자**(Identifiers)는 변수, 함수, 모듈, 클래스 등을 식별하는데 사용되는 이름(name)입니다. \n",
    "\n",
    "* 식별자의 이름은 영문알파벳(대문자와 소문자), 언더스코어(_), 숫자로 구성됩니다.\n",
    "* 첫 글자에 숫자가 올 수 없습니다.\n",
    "* 길이에 제한이 없습니다.\n",
    "* 대소문자(case)를 구별합니다.\n",
    "\n",
    "```{admonition} 아래의 키워드는 사용할 수 없습니다.\n",
    ":class: warning\n",
    "\n",
    "*  [파이썬 문서](https://docs.python.org/ko/3/reference/lexical_analysis.html#keywords)\n",
    "\n",
    "```python\n",
    "False, None, True, and, as, assert, async, await, break, class, continue, def, del, elif, else, except, finally, for, from, global, if, import, in, is, lambda, nonlocal, not, or, pass, raise, return, try, while, with, yield\n",
    "```"
   ]
  },
  {
   "cell_type": "code",
   "execution_count": 24,
   "id": "64407aa7-25a4-4b11-8316-8a45736f18db",
   "metadata": {},
   "outputs": [
    {
     "name": "stdout",
     "output_type": "stream",
     "text": [
      "['False', 'None', 'True', '__peg_parser__', 'and', 'as', 'assert', 'async', 'await', 'break', 'class', 'continue', 'def', 'del', 'elif', 'else', 'except', 'finally', 'for', 'from', 'global', 'if', 'import', 'in', 'is', 'lambda', 'nonlocal', 'not', 'or', 'pass', 'raise', 'return', 'try', 'while', 'with', 'yield']\n"
     ]
    }
   ],
   "source": [
    "# 키워드들을 직접 확인해봅시다.\n",
    "# import 구문은 모듈파트에서 다시 알아봅시다.\n",
    "\n",
    "import keyword\n",
    "print(keyword.kwlist)"
   ]
  },
  {
   "cell_type": "markdown",
   "id": "b4d9fe4f-c449-42dd-bcd3-16add3b36788",
   "metadata": {},
   "source": [
    "*  내장함수나 모듈 등의 이름으로도 만들면 안됩니다.\n",
    "    * 기존의 이름에 다른 값을 할당하게 되므로 더 이상 동작하지 않음"
   ]
  },
  {
   "cell_type": "code",
   "execution_count": 25,
   "id": "31b803f2-6773-49f9-bdcc-c70ac457a81e",
   "metadata": {},
   "outputs": [
    {
     "name": "stdout",
     "output_type": "stream",
     "text": [
      "5\n"
     ]
    }
   ],
   "source": [
    "# 내장함수의 이름을 사용하면 어떤일이 일어나는지 확인해봅시다.\n",
    "# print는 값을 출력해주는 내장함수(Built-in function)입니다.\n",
    "\n",
    "print(5)"
   ]
  },
  {
   "cell_type": "code",
   "execution_count": 26,
   "id": "614a6b8e-0d49-4352-bc91-ab88aa0e1737",
   "metadata": {},
   "outputs": [
    {
     "ename": "TypeError",
     "evalue": "'str' object is not callable",
     "output_type": "error",
     "traceback": [
      "\u001b[1;31m---------------------------------------------------------------------------\u001b[0m",
      "\u001b[1;31mTypeError\u001b[0m                                 Traceback (most recent call last)",
      "\u001b[1;32m~\\AppData\\Local\\Temp/ipykernel_28272/1566697404.py\u001b[0m in \u001b[0;36m<module>\u001b[1;34m\u001b[0m\n\u001b[0;32m      5\u001b[0m \u001b[1;33m\u001b[0m\u001b[0m\n\u001b[0;32m      6\u001b[0m \u001b[0mprint\u001b[0m \u001b[1;33m=\u001b[0m \u001b[1;34m'hi'\u001b[0m\u001b[1;33m\u001b[0m\u001b[1;33m\u001b[0m\u001b[0m\n\u001b[1;32m----> 7\u001b[1;33m \u001b[0mprint\u001b[0m\u001b[1;33m(\u001b[0m\u001b[1;36m5\u001b[0m\u001b[1;33m)\u001b[0m\u001b[1;33m\u001b[0m\u001b[1;33m\u001b[0m\u001b[0m\n\u001b[0m",
      "\u001b[1;31mTypeError\u001b[0m: 'str' object is not callable"
     ]
    }
   ],
   "source": [
    "# 함수 이름 == 변수 이름\n",
    "# 예시로 변수명을 print라하고 문자열 'hi'를 할당해봅시다. \n",
    "# 그리고 print() 를 사용하고 오류를 확인해봅시다.\n",
    "# print은 이제 'hi'라는 값으로 할당되었기 때문에 이전의 화면 출력 기능을 수행하지 못합니다.\n",
    "\n",
    "print = 'hi'\n",
    "print(5)"
   ]
  },
  {
   "cell_type": "code",
   "execution_count": 27,
   "id": "d07f73fb-ebad-4ccc-8df3-69259073b82d",
   "metadata": {},
   "outputs": [],
   "source": [
    "# 뒤에서 진행될 코드에 영향이 갈 수 있기 때문에 방금 생성한 print 변수를 삭제합니다.\n",
    "# 이렇게 하면 변수 print 는 삭제되고 화면출력의 print는 사용가능 합니다.\n",
    "# 자세한 내용은 namespace 파트에서 확인해봅시다.\n",
    "\n",
    "del print"
   ]
  }
 ],
 "metadata": {
  "kernelspec": {
   "display_name": "Python 3 (ipykernel)",
   "language": "python",
   "name": "python3"
  },
  "language_info": {
   "codemirror_mode": {
    "name": "ipython",
    "version": 3
   },
   "file_extension": ".py",
   "mimetype": "text/x-python",
   "name": "python",
   "nbconvert_exporter": "python",
   "pygments_lexer": "ipython3",
   "version": "3.9.6"
  }
 },
 "nbformat": 4,
 "nbformat_minor": 5
}
