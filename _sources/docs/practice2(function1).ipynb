{
 "cells": [
  {
   "cell_type": "markdown",
   "metadata": {},
   "source": [
    "# Practice 2 : 함수 1"
   ]
  },
  {
   "cell_type": "markdown",
   "metadata": {},
   "source": [
    "## `abs()` 직접 구현하기\n",
    "\n",
    "> 절댓값은 숫자형 자료(int, float)가 들어오면 절댓값을 반환하고, 복소수형 자료(complex)가 들어오면 해당하는 자료의 크기를 반환합니다. \n",
    "> \n",
    "> 파이썬 내장 함수 `abs()`를 직접 구현한 `my_abs()`를 작성하시오.\n",
    "\n",
    "---\n",
    "\n",
    "### 공식문서\n",
    "\n",
    "`abs(x)`: 숫자의 절댓값을 돌려줍니다. 인자는 정수 또는 실수입니다. 인자가 복소수면 크기가 반환됩니다.\n",
    "\n",
    "### 복소수 크기 구하는법\n",
    "\n",
    "#### 절댓값\n",
    "\n",
    "실수의 절댓값은 부호를 무시한, 음이 아닌 해당 값입니다. 실수 값 a의 경우, 절댓값은 다음과 같습니다.\n",
    "\n",
    "- a가 0보다 크거나 같은 경우 a\n",
    "- a가 0보다 작은 경우 -a\n",
    "\n",
    "`abs(-0)`은 0을 반환합니다.\n",
    "\n",
    "#### 복소수 크기\n",
    "\n",
    "복소수 크기 (또는 절댓값)는 복소 평면에 플로팅된 원점에서 복소수 값 까지의 벡터 길이입니다. 복소수 값의 경우 $|a + bi|$는 $\\sqrt{a^2 + b^2}$으로 정의됩니다.\n",
    "\n",
    "\n",
    "예시)\n",
    "\n",
    "```python\n",
    "my_abs(3+4j) #=> 5.0\n",
    "my_abs(-0.0) #=> 0.0\n",
    "my_abs(-5) #=> 5\n",
    "```"
   ]
  },
  {
   "cell_type": "code",
   "execution_count": 1,
   "metadata": {},
   "outputs": [],
   "source": [
    "# 아래에 코드를 작성하시오.\n",
    "\n",
    "def my_abs(x):\n",
    "    if type(x) == complex:\n",
    "        return (x.real**2 + x.imag**2) ** (1/2)\n",
    "    elif x <= 0:\n",
    "        return -x\n",
    "    else:\n",
    "        return x"
   ]
  },
  {
   "cell_type": "code",
   "execution_count": 2,
   "metadata": {},
   "outputs": [
    {
     "name": "stdout",
     "output_type": "stream",
     "text": [
      "5.0\n",
      "0.0\n",
      "5\n",
      "5.0 0.0 5\n"
     ]
    }
   ],
   "source": [
    "# 아래의 코드를 실행하여 출력된 결과를 확인하시오.\n",
    "\n",
    "print(my_abs(3+4j))\n",
    "print(my_abs(-0.0))\n",
    "print(my_abs(-5))\n",
    "print(abs(3+4j), abs(-0.0), abs(-5))"
   ]
  },
  {
   "cell_type": "markdown",
   "metadata": {},
   "source": [
    "## `all()` 직접 구현하기\n",
    "\n",
    "> `all()`은 인자로 받는 iterable(range, list)의 모든 요소가 참이거나 비어있으면 True를 반환합니다. \n",
    ">\n",
    "> 파이썬 내장 함수 `all()`을 직접 구현한 `my_all()`을 작성하시오.\n",
    "\n",
    "\n",
    "예시)\n",
    "\n",
    "```python\n",
    "my_all([]) #=> True\n",
    "my_all([1, 2, 5, '6']) #=> True\n",
    "my_all([[], 2, 5, '6']) #=> False\n",
    "```"
   ]
  },
  {
   "cell_type": "code",
   "execution_count": 8,
   "metadata": {},
   "outputs": [],
   "source": [
    "# 아래에 코드를 작성하시오.\n",
    "\n",
    "def my_all(elements):\n",
    "    for element in elements:\n",
    "        if not element:\n",
    "            return False\n",
    "    return True"
   ]
  },
  {
   "cell_type": "code",
   "execution_count": 5,
   "metadata": {},
   "outputs": [],
   "source": [
    "# 다음 코드를 다이어트 해봅시다.\n",
    "\n",
    "def my_all(elements):\n",
    "    # 요소가 있다면\n",
    "    if elements:\n",
    "        # 모든 요소에 대하여\n",
    "        for element in elements:\n",
    "            # 하나라도 bool(요소)의 결과가 False라면, False를 리턴\n",
    "            if bool(element):\n",
    "                continue\n",
    "            else:\n",
    "                return False\n",
    "        else:\n",
    "            return True\n",
    "    \n",
    "    # 요소가 없다면, True를 리턴\n",
    "    else:\n",
    "        return True"
   ]
  },
  {
   "cell_type": "code",
   "execution_count": null,
   "metadata": {},
   "outputs": [],
   "source": [
    "# Short Ver.\n",
    "\n",
    "def my_all(elements):\n",
    "    for element in elements:\n",
    "        if not bool(element):\n",
    "            return False\n",
    "    return True"
   ]
  },
  {
   "cell_type": "code",
   "execution_count": 6,
   "metadata": {},
   "outputs": [
    {
     "name": "stdout",
     "output_type": "stream",
     "text": [
      "True\n",
      "True\n",
      "False\n",
      "True True False\n"
     ]
    }
   ],
   "source": [
    "# 아래의 코드를 실행하여 출력된 결과를 확인하시오.\n",
    "\n",
    "print(my_all([]))\n",
    "print(my_all([1, 2, 5, '6']))\n",
    "print(my_all([[], 2, 5, '6']))\n",
    "print(all([]), all([1, 2, 5, '6']), all([[], 2, 5, '6']))"
   ]
  },
  {
   "cell_type": "markdown",
   "metadata": {},
   "source": [
    "## `any()` 직접 구현하기\n",
    "\n",
    "> `any()`는 인자로 받는 iterable(range, list)의 요소 중 하나라도 참이면 True를 반환하고, 비어있으면 False를 반환합니다. \n",
    "> \n",
    "> 파이썬 내장 함수 `any()`을 직접 구현한 `my_any()` 함수를 작성하시오.\n",
    "\n",
    "예시)\n",
    "\n",
    "```python\n",
    "my_any([1, 2, 5, '6']) #=> True\n",
    "my_any([[], 2, 5, '6']) #=> True\n",
    "my_any([0]) #=> False\n",
    "```"
   ]
  },
  {
   "cell_type": "code",
   "execution_count": 10,
   "metadata": {},
   "outputs": [],
   "source": [
    "# 아래에 코드를 작성하시오.\n",
    "\n",
    "def my_any(elements):\n",
    "    for element in elements:\n",
    "        if element:\n",
    "            return True\n",
    "    return False"
   ]
  },
  {
   "cell_type": "code",
   "execution_count": 15,
   "metadata": {},
   "outputs": [
    {
     "name": "stdout",
     "output_type": "stream",
     "text": [
      "True\n",
      "True\n",
      "False\n",
      "True True False\n"
     ]
    }
   ],
   "source": [
    "print(my_any([1, 2, 5, '6']))\n",
    "print(my_any([[], 2, 5, '6']))\n",
    "print(my_any([0]))\n",
    "print(any([1, 2, 5, '6']), any([[], 2, 5, '6']), any([0])) # any[0] 오타"
   ]
  }
 ],
 "metadata": {
  "kernelspec": {
   "display_name": "Python 3 (ipykernel)",
   "language": "python",
   "name": "python3"
  },
  "language_info": {
   "codemirror_mode": {
    "name": "ipython",
    "version": 3
   },
   "file_extension": ".py",
   "mimetype": "text/x-python",
   "name": "python",
   "nbconvert_exporter": "python",
   "pygments_lexer": "ipython3",
   "version": "3.9.6"
  },
  "toc": {
   "base_numbering": 1,
   "nav_menu": {},
   "number_sections": true,
   "sideBar": true,
   "skip_h1_title": false,
   "title_cell": "Table of Contents",
   "title_sidebar": "Contents",
   "toc_cell": false,
   "toc_position": {},
   "toc_section_display": true,
   "toc_window_display": false
  }
 },
 "nbformat": 4,
 "nbformat_minor": 4
}
