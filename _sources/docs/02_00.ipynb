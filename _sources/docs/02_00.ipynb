{
 "cells": [
  {
   "cell_type": "markdown",
   "id": "9d6a7749-3d61-4e9b-930e-70375d3a2ac2",
   "metadata": {},
   "source": [
    "# 02. 제어문\n",
    "\n",
    "[파이썬 문서](https://docs.python.org/ko/3/tutorial/controlflow.html)\n",
    "\n",
    "지금까지 우리는 위에서부터 아래로 순차적으로 명령을 수행하는 프로그램을 작성하였습니다.\n",
    "\n",
    "특정 상황에 따라 코드를 선택적으로 실행(분기)하거나 동일한 코드를 계속해서 실행해야하려면 어떻게 해야할까요? 이 경우, **코드 실행의 순차적인 흐름을 제어**(Control Flow)할 필요가 있습니다. 이러한 순차적인 코드의 흐름을 제어하는 것을 **제어문**(Control Statement)이라고 하고, 제어문은 크게 **조건문**과 **반복문**으로 나눌 수 있습니다. \n",
    "\n",
    "제어문을 통해 다음과 순서도(Flow Chart)를 코드로 표현할 수 있습니다."
   ]
  },
  {
   "cell_type": "markdown",
   "id": "2c32f701-103c-4ac6-a9fe-f576a8c94e37",
   "metadata": {},
   "source": [
    "<center> \n",
    "    <img src=\"https://user-images.githubusercontent.com/18046097/61180553-25e87b00-a653-11e9-9895-7976d7204734.png\", alt='if flowchart'/>\n",
    "</center>"
   ]
  },
  {
   "cell_type": "code",
   "execution_count": 1,
   "id": "d598d63c-601e-432b-9921-ba28bb8f0918",
   "metadata": {},
   "outputs": [
    {
     "name": "stdout",
     "output_type": "stream",
     "text": [
      "5 이하\n",
      "5\n"
     ]
    }
   ],
   "source": [
    "# 위의 Flow Chart를 조건문으로 작성해봅시다.\n",
    "# if 문을 활용해봅시다.\n",
    "\n",
    "a = 5\n",
    "\n",
    "if a > 5:\n",
    "    print('5 초과')\n",
    "else:\n",
    "    print('5 이하')\n",
    "print(a)"
   ]
  }
 ],
 "metadata": {
  "kernelspec": {
   "display_name": "Python 3 (ipykernel)",
   "language": "python",
   "name": "python3"
  },
  "language_info": {
   "codemirror_mode": {
    "name": "ipython",
    "version": 3
   },
   "file_extension": ".py",
   "mimetype": "text/x-python",
   "name": "python",
   "nbconvert_exporter": "python",
   "pygments_lexer": "ipython3",
   "version": "3.9.6"
  }
 },
 "nbformat": 4,
 "nbformat_minor": 5
}
