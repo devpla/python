{
 "cells": [
  {
   "cell_type": "markdown",
   "id": "15f548b0-7852-490a-8f9f-a6d302bf0bb3",
   "metadata": {},
   "source": [
    "# 연산자\n",
    "\n",
    "```{anmonition} **연산자** (Operator)\n",
    ":class: note\n",
    "\n",
    "- 산술 연산자\n",
    "- 비교 연산자\n",
    "- 논리 연산자\n",
    "- 복합 연산자\n",
    "- 기타 연산자\n",
    "```"
   ]
  },
  {
   "cell_type": "markdown",
   "id": "c51c8eee-443c-43f9-b57c-c8a97199d818",
   "metadata": {},
   "source": [
    "## 산술 연산자\n",
    "Python에서는 기본적인 사칙연산이 가능합니다. \n",
    "\n",
    "|연산자|내용|\n",
    "|----|---|\n",
    "|+|덧셈|\n",
    "|-|뺄셈|\n",
    "|\\*|곱셈|\n",
    "|/|나눗셈|\n",
    "|//|몫|\n",
    "|%|나머지(modulo)|\n",
    "|\\*\\*|거듭제곱|\n",
    "\n",
    "- 나눗셈 (`/`) 은 항상 float를 돌려줍니다.\n",
    "- 정수 나눗셈 으로 (소수부 없이) 정수 결과를 얻으려면 `//` 연산자를 사용합니다.\n"
   ]
  },
  {
   "cell_type": "code",
   "execution_count": 86,
   "id": "46b868e2-ac85-4241-9a91-bd6691b2b65e",
   "metadata": {},
   "outputs": [
    {
     "data": {
      "text/plain": [
       "10715086071862673209484250490600018105614048117055336074437503883703510511249361224931983788156958581275946729175531468251871452856923140435984577574698574803934567774824230985421074605062371141877954182153046474983581941267398767559165543946077062914571196477686542167660429831652624386837205668069376"
      ]
     },
     "execution_count": 86,
     "metadata": {},
     "output_type": "execute_result"
    }
   ],
   "source": [
    "# 2의 1000승을 확인해봅시다.\n",
    "\n",
    "2 ** 1000"
   ]
  },
  {
   "cell_type": "code",
   "execution_count": 87,
   "id": "453c788a-9c15-4fc5-9327-a541788aba32",
   "metadata": {},
   "outputs": [
    {
     "name": "stdout",
     "output_type": "stream",
     "text": [
      "2.5\n",
      "2\n",
      "2\n",
      "1\n"
     ]
    }
   ],
   "source": [
    "# 나눗셈과 관련된 산술연산자를 활용해봅시다.\n",
    "# 5와 2를 나눈 값을 출력해봅시다.\n",
    "# 5와 2를 나눈 값의 몫을 출력해봅시다.\n",
    "# 5와 2를 나눈 값을 integer로 형변환해봅시다.\n",
    "# 5와 2를 나눈 값의 나머지를 출력해봅시다.\n",
    "\n",
    "print(5 / 2)\n",
    "print(5 // 2)\n",
    "print(int(5 / 2))\n",
    "print(5 % 2)"
   ]
  },
  {
   "cell_type": "code",
   "execution_count": 88,
   "id": "8f50900d-a896-4e54-bc44-75c6c6a75d05",
   "metadata": {},
   "outputs": [
    {
     "name": "stdout",
     "output_type": "stream",
     "text": [
      "(2, 1)\n",
      "몫은 2, 나머지는 1\n"
     ]
    }
   ],
   "source": [
    "# divmod는 나눗셈과 관련된 함수입니다.\n",
    "# divmode() 에 5와 2를 넣고 결과를 print로 확인해봅시다.\n",
    "# 변수 quotient, remainder 에 divmode(5, 2)의 값을 할당해봅시다.\n",
    "# f-string을 활용하여 quorient와 remainder의 값을 출력해봅시다.\n",
    "\n",
    "print(divmod(5, 2))\n",
    "quotient, remainder = divmod(5, 2)\n",
    "print(f'몫은 {quotient}, 나머지는 {remainder}')"
   ]
  },
  {
   "cell_type": "code",
   "execution_count": 89,
   "id": "360ac100-d282-4da4-9d9a-aaa37d92a264",
   "metadata": {},
   "outputs": [
    {
     "name": "stdout",
     "output_type": "stream",
     "text": [
      "-4\n",
      "-4\n",
      "4\n"
     ]
    }
   ],
   "source": [
    "# 음수 양수 표현도 해봅시다.\n",
    "# 변수 positive_num 에 4를 할당하고 print할 때 -를 붙여서 print로 출력해봅시다.\n",
    "# 변수 negative_num 에 -4를 할당하고 print할 때 + 와 - 를 붙여서 각각을 print로 출력해봅시다.\n",
    "\n",
    "positive_num = 4\n",
    "print(-positive_num)\n",
    "\n",
    "negative_num = -4\n",
    "print(+negative_num)\n",
    "print(-negative_num)"
   ]
  },
  {
   "cell_type": "markdown",
   "id": "870f56c3-6c50-442e-be98-239bce265d58",
   "metadata": {},
   "source": [
    "## 비교 연산자\n",
    "\n",
    "우리가 수학에서 배운 연산자와 동일하게 값을 비교할 수 있습니다.\n",
    "\n",
    "|연산자|내용|\n",
    "|----|---|\n",
    "|`<`|미만|\n",
    "|`<=`|이하|\n",
    "|`>`|초과|\n",
    "|`>=`|이상|\n",
    "|`==`|같음|\n",
    "|`!=`|같지않음|\n",
    "|`is`|객체 아이덴티티|\n",
    "|`is not`|부정된 객체 아이덴티티|\n"
   ]
  },
  {
   "cell_type": "code",
   "execution_count": 90,
   "id": "f06ac169-b10b-4d4c-899f-c2aeb29d9cce",
   "metadata": {},
   "outputs": [
    {
     "data": {
      "text/plain": [
       "False"
      ]
     },
     "execution_count": 90,
     "metadata": {},
     "output_type": "execute_result"
    }
   ],
   "source": [
    "# 숫자의 대소관계를 비교해봅시다.\n",
    "# 아무 정수 2개를 비교해봅시다.\n",
    "\n",
    "3 > 6"
   ]
  },
  {
   "cell_type": "code",
   "execution_count": 91,
   "id": "79b30bc9-d492-401f-9b5a-e8062607de3b",
   "metadata": {},
   "outputs": [
    {
     "data": {
      "text/plain": [
       "True"
      ]
     },
     "execution_count": 91,
     "metadata": {},
     "output_type": "execute_result"
    }
   ],
   "source": [
    "# 다른 숫자인지 확인해봅시다.\n",
    "# 3의 정수형과 실수형이 같은지 비교해봅시다.\n",
    "\n",
    "3.0 == 3"
   ]
  },
  {
   "cell_type": "code",
   "execution_count": 92,
   "id": "85579cbf-0b5d-4d7a-9e2d-4fe636b6403e",
   "metadata": {},
   "outputs": [
    {
     "data": {
      "text/plain": [
       "False"
      ]
     },
     "execution_count": 92,
     "metadata": {},
     "output_type": "execute_result"
    }
   ],
   "source": [
    "# 같은 숫자인지 확인해봅시다.\n",
    "# 같은 숫자를 != 를 확인하여 비교해봅시다.\n",
    "\n",
    "3 != 3"
   ]
  },
  {
   "cell_type": "code",
   "execution_count": 93,
   "id": "85e3f58c-1188-4006-8b7e-3ffa8449fd39",
   "metadata": {},
   "outputs": [
    {
     "data": {
      "text/plain": [
       "False"
      ]
     },
     "execution_count": 93,
     "metadata": {},
     "output_type": "execute_result"
    }
   ],
   "source": [
    "# 문자열도 같은지 확인해봅시다.\n",
    "# 대문자 HI와 소문자 hi가 같은지 확인해 봅시다.\n",
    "\n",
    "'HI' == 'hi'"
   ]
  },
  {
   "cell_type": "markdown",
   "id": "040a2187-b309-46c0-90ab-9911ae62212f",
   "metadata": {},
   "source": [
    "## 논리 연산자\n",
    "\n",
    "|연산자|내용|\n",
    "|---|---|\n",
    "|a and b|a와 b 모두 True시만 True|\n",
    "|a or b|a 와 b 모두 False시만 False|\n",
    "|not a|True -> False, False -> True|\n",
    "\n",
    "우리가 보통 알고 있는 `&` `|`은 파이썬에서 비트 연산자입니다."
   ]
  },
  {
   "cell_type": "code",
   "execution_count": 94,
   "id": "537eac67-6dbd-48f5-a035-3e8ed1c5f82a",
   "metadata": {},
   "outputs": [
    {
     "name": "stdout",
     "output_type": "stream",
     "text": [
      "True\n",
      "False\n",
      "False\n",
      "False\n"
     ]
    }
   ],
   "source": [
    "# and과 관련해서 모든 case를 출력해봅시다.\n",
    "# True와 False를 이용하여 and 의 모든 경우의 수(4개)를 출력해봅시다. \n",
    "# (True and True), (True and False), ...\n",
    "\n",
    "print(True and True)\n",
    "print(True and False)\n",
    "print(False and True)\n",
    "print(False and False)"
   ]
  },
  {
   "cell_type": "code",
   "execution_count": 95,
   "id": "77ccf7a1-2079-4da0-891b-8f05a8e24874",
   "metadata": {},
   "outputs": [
    {
     "name": "stdout",
     "output_type": "stream",
     "text": [
      "True\n",
      "True\n",
      "True\n",
      "False\n"
     ]
    }
   ],
   "source": [
    "# or과 관련해서 모든 case를 출력해봅시다.\n",
    "# True와 False를 이용하여 or 의 모든 경우의 수(4개)를 출력해봅시다.\n",
    "# (True or True), (True or False), ...\n",
    "\n",
    "print(True or True)\n",
    "print(True or False)\n",
    "print(False or True)\n",
    "print(False or False)"
   ]
  },
  {
   "cell_type": "code",
   "execution_count": 96,
   "id": "d073b027-5b21-401f-b795-48bcbe4d108c",
   "metadata": {},
   "outputs": [
    {
     "name": "stdout",
     "output_type": "stream",
     "text": [
      "False\n",
      "True\n"
     ]
    }
   ],
   "source": [
    "# not을 활용해봅시다.\n",
    "# print를 이용하여 True 와 0의 not 값을 각각 확인해봅시다.\n",
    "\n",
    "print(not True)\n",
    "print(not 0)"
   ]
  },
  {
   "cell_type": "markdown",
   "id": "e95566f3-90aa-4740-9311-799e5fb4abed",
   "metadata": {},
   "source": [
    "* 파이썬에서 and는 a가 거짓이면 a를 리턴하고, 참이면 b를 리턴합니다.\n",
    "* 파이썬에서 or은 a가 참이면 a를 리턴하고, 거짓이면 b를 리턴합니다."
   ]
  },
  {
   "cell_type": "markdown",
   "id": "35221a36-681a-47b8-9041-09b3c2054982",
   "metadata": {},
   "source": [
    "### 단축평가 (Short Circuit Evaluation)\n",
    "* 첫 번째 값이 확실할 때, 두 번째 값은 확인 하지 않습니다.\n",
    "* 조건문에서 뒷 부분을 판단하지 않아도 되기 때문에 속도가 향상됩니다."
   ]
  },
  {
   "cell_type": "code",
   "execution_count": 97,
   "id": "eea797b0-14c0-4a24-be10-eaefadf54b49",
   "metadata": {},
   "outputs": [
    {
     "data": {
      "text/plain": [
       "'b'"
      ]
     },
     "execution_count": 97,
     "metadata": {},
     "output_type": "execute_result"
    }
   ],
   "source": [
    "# 문자열 'a'와 'b'의 and 값이 무엇인지 확인해봅시다.\n",
    "\n",
    "'a' and 'b'"
   ]
  },
  {
   "cell_type": "code",
   "execution_count": 98,
   "id": "557b29cb-7e43-4854-a5d5-7f92d2dc3e74",
   "metadata": {},
   "outputs": [
    {
     "data": {
      "text/plain": [
       "'a'"
      ]
     },
     "execution_count": 98,
     "metadata": {},
     "output_type": "execute_result"
    }
   ],
   "source": [
    "# 문자열 'a'와 'b'의 or 값이 무엇인지 확인해봅시다.\n",
    "\n",
    "'a' or 'b'"
   ]
  },
  {
   "cell_type": "code",
   "execution_count": 99,
   "id": "95e52079-b866-4c7d-9bd9-07744c0a01ae",
   "metadata": {},
   "outputs": [],
   "source": [
    "vowels = 'aeiou'"
   ]
  },
  {
   "cell_type": "code",
   "execution_count": 100,
   "id": "08c95eee-1552-42ac-a3c0-86bd48f6f3b4",
   "metadata": {},
   "outputs": [
    {
     "data": {
      "text/plain": [
       "False"
      ]
     },
     "execution_count": 100,
     "metadata": {},
     "output_type": "execute_result"
    }
   ],
   "source": [
    "# 'a' and 'b' 의 결과값이 vowels에 포함이 되었는지 확인해봅시다.\n",
    "\n",
    "('a' and 'b') in vowels"
   ]
  },
  {
   "cell_type": "code",
   "execution_count": 101,
   "id": "22025cc6-2215-4bec-bf67-15468e19a30b",
   "metadata": {},
   "outputs": [
    {
     "data": {
      "text/plain": [
       "True"
      ]
     },
     "execution_count": 101,
     "metadata": {},
     "output_type": "execute_result"
    }
   ],
   "source": [
    "# 'b' and 'a' 의 결과값이 vowels에 포함이 되었는지 확인해봅시다. \n",
    "\n",
    "('b' and 'a') in vowels"
   ]
  },
  {
   "cell_type": "markdown",
   "id": "5a209a77-84b1-4c09-a756-78b57693ce99",
   "metadata": {},
   "source": [
    "- `and` 는 둘 다 True일 경우만 True이기 때문에 첫번째 값이 True라도 두번째 값을 확인해야 하기 때문에 'b'가 반환됩니다.\n",
    "- `or` 는 하나만 True라도 True이기 때문에 True를 만나면 해당 값을 바로 반환합니다."
   ]
  },
  {
   "cell_type": "code",
   "execution_count": 102,
   "id": "5cae4df8-5ceb-4d17-93e7-5896c8ec4099",
   "metadata": {},
   "outputs": [
    {
     "name": "stdout",
     "output_type": "stream",
     "text": [
      "5\n",
      "0\n",
      "0\n",
      "0\n"
     ]
    }
   ],
   "source": [
    "# and의 단축평가(short-circuit evaluation)에 대해서 알아봅시다.\n",
    "# (3 and 5) , (3 and 0), (0 and 3), (0 and 0) 의 결과를 print로 출력해봅시다.\n",
    "\n",
    "print(3 and 5)\n",
    "print(3 and 0)\n",
    "print(0 and 3)\n",
    "print(0 and 0)"
   ]
  },
  {
   "cell_type": "code",
   "execution_count": 103,
   "id": "8ff4eb1e-8a27-4b08-af64-1f460bcabe6d",
   "metadata": {},
   "outputs": [
    {
     "name": "stdout",
     "output_type": "stream",
     "text": [
      "5\n",
      "3\n",
      "3\n",
      "0\n"
     ]
    }
   ],
   "source": [
    "# or의 단축평가(short-circuit evaluation)에 대해서 알아봅시다.\n",
    "# (3 or 5) , (3 or 0), (0 or 3), (0 or 0) 의 결과를 print로 출력해봅시다.\n",
    "\n",
    "print(5 or 3)\n",
    "print(3 or 0)\n",
    "print(0 or 3)\n",
    "print(0 or 0)"
   ]
  },
  {
   "cell_type": "markdown",
   "id": "ca5ab753-8051-4a6d-81e0-edad0baf40a1",
   "metadata": {},
   "source": [
    "## 복합 연산자\n",
    "\n",
    "복합 연산자는 연산과 대입이 함께 이뤄집니다. \n",
    "\n",
    "가장 많이 활용되는 경우는 반복문을 통해서 갯수를 카운트하거나 할 때 활용됩니다.\n",
    "\n",
    "|연산자|내용|\n",
    "|----|---|\n",
    "|a += b|a = a + b|\n",
    "|a -= b|a = a - b|\n",
    "|a \\*= b|a = a \\* b|\n",
    "|a /= b|a = a / b|\n",
    "|a //= b|a = a // b|\n",
    "|a %= b|a = a % b|\n",
    "|a \\*\\*= b|a = a ** b|"
   ]
  },
  {
   "cell_type": "code",
   "execution_count": 104,
   "id": "e068ed5b-c895-4852-b884-599619a8522b",
   "metadata": {},
   "outputs": [
    {
     "name": "stdout",
     "output_type": "stream",
     "text": [
      "0\n",
      "1\n",
      "2\n",
      "3\n",
      "4\n"
     ]
    }
   ],
   "source": [
    "# 복합연산자는 이럴 때 사용됩니다.\n",
    "# 0으로 할당된 변수 cnt 를\n",
    "# 반복문 while 을 이용하여 5회 반복하는데\n",
    "# 반복하는 동안 cnt를 print로 출력하고 cnt에 1씩 더해봅시다.\n",
    "# 단, cnt 를 더할때는 복합연산자를 사용해봅시다.\n",
    "\n",
    "cnt = 0\n",
    "while cnt < 5:\n",
    "    print(cnt)\n",
    "    cnt += 1"
   ]
  },
  {
   "cell_type": "markdown",
   "id": "71e8bc20-fd27-4f8b-876c-49e7e03b0d2d",
   "metadata": {},
   "source": [
    "## 기타 주요 연산자\n",
    "\n",
    "### Concatenation\n",
    "\n",
    "숫자가 아닌 자료형은 `+` 연산자를 통해 합칠 수 있습니다."
   ]
  },
  {
   "cell_type": "code",
   "execution_count": 105,
   "id": "7882184f-c049-457e-aa7b-d87b70d3b078",
   "metadata": {},
   "outputs": [
    {
     "data": {
      "text/plain": [
       "'hi, bye!'"
      ]
     },
     "execution_count": 105,
     "metadata": {},
     "output_type": "execute_result"
    }
   ],
   "source": [
    "# 문자열을 더해봅시다.(합쳐봅시다.)\n",
    "# 아무 문자 2개를 + 를 이용하여 합쳐봅시다.\n",
    "\n",
    "'hi, ' + 'bye!'"
   ]
  },
  {
   "cell_type": "code",
   "execution_count": 106,
   "id": "e2cc805c-6ba0-4c00-a120-11e2385bac7a",
   "metadata": {},
   "outputs": [
    {
     "data": {
      "text/plain": [
       "[1, 2, 3, 4, 5, 6]"
      ]
     },
     "execution_count": 106,
     "metadata": {},
     "output_type": "execute_result"
    }
   ],
   "source": [
    "# list 등 다른 데이터타입(컨테이너)에서도 활용 가능합니다.\n",
    "# 두 list [1, 2, 3] 과 [4, 5, 6] 을 + 를 이용하여 합쳐봅시다.\n",
    "\n",
    "[1, 2, 3] + [4, 5, 6]"
   ]
  },
  {
   "cell_type": "markdown",
   "id": "39e3117a-d82c-4000-bc6f-ca95ef28d427",
   "metadata": {},
   "source": [
    "### Containment Test\n",
    "\n",
    "`in` 연산자를 통해 요소가 속해있는지 여부를 확인할 수 있습니다."
   ]
  },
  {
   "cell_type": "code",
   "execution_count": 107,
   "id": "0396cebe-1e0a-4599-a570-91489b542fdd",
   "metadata": {},
   "outputs": [
    {
     "data": {
      "text/plain": [
       "True"
      ]
     },
     "execution_count": 107,
     "metadata": {},
     "output_type": "execute_result"
    }
   ],
   "source": [
    "# 문자열안에 특정한 문자가 있는지 확인해봅시다.\n",
    "# 문자열 'a' 가 'apple' 에 속해있는지 확인해봅시다.\n",
    "\n",
    "'a' in 'apple'"
   ]
  },
  {
   "cell_type": "code",
   "execution_count": 108,
   "id": "d884d737-2704-4cbb-8d5b-5327470dd8ec",
   "metadata": {},
   "outputs": [
    {
     "data": {
      "text/plain": [
       "True"
      ]
     },
     "execution_count": 108,
     "metadata": {},
     "output_type": "execute_result"
    }
   ],
   "source": [
    "# list 등 다른 데이터타입(컨테이너)에서도 활용 가능합니다.\n",
    "# 정수 1이 list [1, 2, 3]에 속해있는지 확인해봅시다.\n",
    "\n",
    "1 in [1, 2, 3]"
   ]
  },
  {
   "cell_type": "markdown",
   "id": "0f25b376-40e3-4447-926a-9272d234c8a7",
   "metadata": {},
   "source": [
    "### Identity\n",
    "\n",
    "`is` 연산자를 통해 동일한 object인지 확인할 수 있습니다. (OOP 파트에서 다시 학습하게 됩니다.)"
   ]
  },
  {
   "cell_type": "code",
   "execution_count": 109,
   "id": "b262f3b6-037c-4db7-ae10-1202d51d675f",
   "metadata": {},
   "outputs": [
    {
     "data": {
      "text/plain": [
       "True"
      ]
     },
     "execution_count": 109,
     "metadata": {},
     "output_type": "execute_result"
    }
   ],
   "source": [
    "# 파이썬에서 -5 부터 256 까지의 id는 동일합니다.\n",
    "# 변수 a에는 3을 변수 b에는 3을 할당해봅시다.\n",
    "# 그리고 a 와 b 가 동일한 object인지 확인해봅시다.\n",
    "\n",
    "a = 3\n",
    "b = 3\n",
    "a is b"
   ]
  },
  {
   "cell_type": "code",
   "execution_count": 110,
   "id": "b258c274-397c-4800-baf0-fab79ce2b8b3",
   "metadata": {},
   "outputs": [
    {
     "data": {
      "text/plain": [
       "False"
      ]
     },
     "execution_count": 110,
     "metadata": {},
     "output_type": "execute_result"
    }
   ],
   "source": [
    "# 257 이후의 id 는 다릅니다.\n",
    "# 변수 a에는 257을 변수 b에는 257을 할당해봅시다.\n",
    "# 그리고 a 와 b 가 동일한 object인지 확인해봅시다.\n",
    "\n",
    "a = 257\n",
    "b = 257\n",
    "a is b"
   ]
  },
  {
   "cell_type": "markdown",
   "id": "15448e15-18fd-4c1a-b6c7-c676b7eae879",
   "metadata": {},
   "source": [
    "### Indexing/Slicing\n",
    "`[]`를 통한 값을 접근하고, `[:]`을 통해 슬라이싱할 수 있습니다. (Container 파트에서 자세하게 학습합니다.)"
   ]
  },
  {
   "cell_type": "code",
   "execution_count": 111,
   "id": "1db2aafe-6103-4147-a04d-86dc42b1e0da",
   "metadata": {},
   "outputs": [
    {
     "data": {
      "text/plain": [
       "'h'"
      ]
     },
     "execution_count": 111,
     "metadata": {},
     "output_type": "execute_result"
    }
   ],
   "source": [
    "# 문자열을 인덱싱을 통해 값에 접근해봅시다.\n",
    "# 문자열 'hi'의 첫번째 값을 인덱싱으로 확인해봅시다.\n",
    "\n",
    "'hi'[0]"
   ]
  },
  {
   "cell_type": "markdown",
   "id": "1a035aac-186a-4475-92ea-a373085dbb61",
   "metadata": {},
   "source": [
    "## 연산자 우선순위\n",
    "\n",
    "0. `()`을 통한 grouping\n",
    "\n",
    "1. Slicing\n",
    "\n",
    "2. Indexing\n",
    "\n",
    "3. 제곱연산자\n",
    "    `**`\n",
    "\n",
    "4. 단항연산자 \n",
    "    `+`, `-` (음수/양수 부호)\n",
    "\n",
    "5. 산술연산자\n",
    "    `*`, `/`, `%`\n",
    "    \n",
    "6. 산술연산자\n",
    "    `+`, `-`\n",
    " \n",
    "7. 비교연산자, `in`, `is`\n",
    "\n",
    "8. `not`\n",
    "\n",
    "9. `and` \n",
    "\n",
    "10. `or`\n",
    "\n",
    "[파이썬 문서](https://docs.python.org/ko/3/reference/expressions.html#operator-precedence)\n"
   ]
  },
  {
   "cell_type": "code",
   "execution_count": 112,
   "id": "04258737-46dc-4255-b712-2f0df210ed79",
   "metadata": {},
   "outputs": [
    {
     "data": {
      "text/plain": [
       "-729"
      ]
     },
     "execution_count": 112,
     "metadata": {},
     "output_type": "execute_result"
    }
   ],
   "source": [
    "# 우선순위를 확인해봅시다.\n",
    "# -3 ** 6의 값을 확인해봅시다.\n",
    "\n",
    "-3 ** 6"
   ]
  },
  {
   "cell_type": "code",
   "execution_count": 113,
   "id": "8e477cab-50d8-4814-8b3d-c79849c2c825",
   "metadata": {},
   "outputs": [
    {
     "data": {
      "text/plain": [
       "729"
      ]
     },
     "execution_count": 113,
     "metadata": {},
     "output_type": "execute_result"
    }
   ],
   "source": [
    "# (-3) ** 6의 값을 확인해봅시다.\n",
    "\n",
    "(-3) ** 6"
   ]
  }
 ],
 "metadata": {
  "kernelspec": {
   "display_name": "Python 3 (ipykernel)",
   "language": "python",
   "name": "python3"
  },
  "language_info": {
   "codemirror_mode": {
    "name": "ipython",
    "version": 3
   },
   "file_extension": ".py",
   "mimetype": "text/x-python",
   "name": "python",
   "nbconvert_exporter": "python",
   "pygments_lexer": "ipython3",
   "version": "3.9.6"
  }
 },
 "nbformat": 4,
 "nbformat_minor": 5
}
