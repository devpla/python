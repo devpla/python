{
 "cells": [
  {
   "cell_type": "markdown",
   "metadata": {
    "id": "_iT86re0Qr1-"
   },
   "source": [
    "# 03. 함수\n",
    "\n",
    "```{admonition} 함수 (function)\n",
    ":class: note\n",
    "- 함수의 정의\n",
    "- 함수의 Output\n",
    "- 함수의 Input\n",
    "- 함수와 스코프\n",
    "- 재귀 함수\n",
    "```"
   ]
  },
  {
   "cell_type": "markdown",
   "metadata": {
    "id": "y8fKVgnDQr1_"
   },
   "source": [
    "<center>\n",
    "    <img src=\"https://user-images.githubusercontent.com/18046097/61181746-2a1d9400-a665-11e9-804e-e92940d4fc82.png\", alt=\"func.png\">\n",
    "</center>"
   ]
  },
  {
   "cell_type": "markdown",
   "metadata": {
    "id": "3qT_kvm3Qr2A"
   },
   "source": [
    "## 들어가기전에 \n",
    "다음의 코드를 봅시다. 무엇을 하는 코드일까요?"
   ]
  },
  {
   "cell_type": "code",
   "execution_count": null,
   "metadata": {
    "id": "AWSZg-UPQr2A",
    "outputId": "79cd038d-9c0d-4fea-903a-06cb0f98a44e"
   },
   "outputs": [
    {
     "name": "stdout",
     "output_type": "stream",
     "text": [
      "14.499760534421096\n"
     ]
    }
   ],
   "source": [
    "values = [100, 75, 85, 90, 65, 95, 90, 60, 85, 50, 90, 80]\n",
    "total = 0\n",
    "cnt = 0\n",
    "\n",
    "for value in values:\n",
    "    total += value\n",
    "    cnt += 1\n",
    "mean = total / cnt\n",
    "\n",
    "total_var = 0\n",
    "for value in values:\n",
    "    total_var += (value - mean) ** 2\n",
    "sum_var = total_var / cnt\n",
    "\n",
    "target = sum_var\n",
    "count = 0 \n",
    "while True : \n",
    "    count += 1 \n",
    "    root = 0.5 * (target + (sum_var / target))  \n",
    "    if (abs(root - target) < 0.0000000000000001): \n",
    "        break \n",
    "    target = root\n",
    "\n",
    "std_dev = target\n",
    "print(std_dev)"
   ]
  },
  {
   "cell_type": "markdown",
   "metadata": {
    "id": "YVtOiSZXQr2B"
   },
   "source": [
    "이해하기 쉬운가요? 그리고 만약 다른 곳에서 동일한 작업을 다시해야할 경우 어떻게 해야 할까요?"
   ]
  },
  {
   "cell_type": "code",
   "execution_count": null,
   "metadata": {
    "id": "6Gu7PPlgQr2B",
    "outputId": "51f33afd-f7bf-4d19-b5c7-357f5970b91e"
   },
   "outputs": [
    {
     "name": "stdout",
     "output_type": "stream",
     "text": [
      "14.499760534421096\n"
     ]
    }
   ],
   "source": [
    "import math\n",
    "values = [100, 75, 85, 90, 65, 95, 90, 60, 85, 50, 90, 80]\n",
    "cnt = len(values)\n",
    "mean = sum(values) / cnt\n",
    "sum_var = sum(pow(value - mean, 2) for value in values) / cnt\n",
    "std_dev = math.sqrt(sum_var)\n",
    "print(std_dev)"
   ]
  },
  {
   "cell_type": "markdown",
   "metadata": {
    "id": "oH3bPtveQr2B"
   },
   "source": [
    "한줄로도 가능할까요?"
   ]
  },
  {
   "cell_type": "code",
   "execution_count": null,
   "metadata": {
    "id": "WO0dGeCzQr2C",
    "outputId": "3ac6e25d-0472-412f-f91c-b36baa05b318"
   },
   "outputs": [
    {
     "data": {
      "text/plain": [
       "14.499760534421096"
      ]
     },
     "execution_count": 3,
     "metadata": {
      "tags": []
     },
     "output_type": "execute_result"
    }
   ],
   "source": [
    "import statistics\n",
    "values = [100, 75, 85, 90, 65, 95, 90, 60, 85, 50, 90, 80]\n",
    "statistics.pstdev(values)"
   ]
  },
  {
   "cell_type": "markdown",
   "metadata": {
    "id": "ZqUOxRILQr2C"
   },
   "source": [
    "## 함수\n",
    "\n",
    "> **특정한 기능(function)을 하는 코드의 묶음**\n",
    ">\n",
    "> 일의 단위\n",
    "\n",
    "### 함수를 쓰는 이유\n",
    "\n",
    "- 가독성\n",
    "- 재사용성\n",
    "- 유지보수"
   ]
  },
  {
   "cell_type": "markdown",
   "metadata": {
    "id": "-Zw8O3otQr2C"
   },
   "source": [
    "<center>\n",
    "    <img src=\"https://user-images.githubusercontent.com/18046097/61181741-2984fd80-a665-11e9-93b8-578c56689d0e.png\", alt=\"programming principle\", width = 400px>\n",
    "</center>"
   ]
  },
  {
   "cell_type": "markdown",
   "metadata": {
    "id": "la-hCwUhQr2D"
   },
   "source": [
    "### 함수의 선언과 호출\n",
    "\n",
    "* 함수의 선언은 `def` 키워드를 활용합니다.\n",
    "\n",
    "\n",
    "* **들여쓰기**(4spaces)로 함수의 body(코드 블록)를 작성합니다.\n",
    "    * Docstring은 함수 body 앞에 선택적으로 작성 가능합니다.\n",
    "\n",
    "\n",
    "* 함수는 **매개변수**(parameter)를 넘겨줄 수도 있습니다. (**인자** : argument)\n",
    "\n",
    "\n",
    "* 함수는 동작후에 `return`을 통해 결과값을 전달합니다.\n",
    "    * 반드시 하나의 객체를 반환합니다 (`return` 값이 없으면, `None`을 반환)\n",
    "\n",
    "\n",
    "* 함수는 호출은 `함수명()`으로 합니다. \n",
    "    * 예) `func()` / `func(val1, val2)`\n",
    "\n",
    "---\n",
    "\n",
    "#### 활용법\n",
    "\n",
    "```python\n",
    "def <함수이름>(parameter1, parameter2):\n",
    "    <코드 블럭>\n",
    "    return value\n",
    "```"
   ]
  },
  {
   "cell_type": "markdown",
   "metadata": {
    "id": "dnFpao3eQr2D"
   },
   "source": [
    "#### [연습] 세제곱 함수 \n",
    "> 입력 받은 수를 세제곱하여 반환(return)하는 함수 `cube()`을 작성해보세요.\n",
    "\n",
    "---\n",
    "\n",
    "**[입력 예시]**\n",
    "\n",
    "```py\n",
    "cube(2)\n",
    "```\n",
    "\n",
    "**[출력 예시]**\n",
    "\n",
    "8"
   ]
  },
  {
   "cell_type": "code",
   "execution_count": null,
   "metadata": {
    "id": "VmHsZ1qoQr2D"
   },
   "outputs": [],
   "source": [
    "# 위 문제를 참고하여 아래에 cube 함수를 작성하고 실행해봅시다.\n",
    "\n",
    "def cube(num):                # num은 매개변수 (parameter)\n",
    "    return num ** 3"
   ]
  },
  {
   "cell_type": "code",
   "execution_count": null,
   "metadata": {
    "id": "hdSMRb3hQr2D"
   },
   "outputs": [],
   "source": [
    "cube = lambda num: num ** 3   # 위와 같은 식"
   ]
  },
  {
   "cell_type": "code",
   "execution_count": null,
   "metadata": {
    "id": "qbp_jmCTQr2D",
    "outputId": "b762c921-be14-428a-adad-cbe272e5b2b3"
   },
   "outputs": [
    {
     "data": {
      "text/plain": [
       "8"
      ]
     },
     "execution_count": 10,
     "metadata": {
      "tags": []
     },
     "output_type": "execute_result"
    }
   ],
   "source": [
    "# 해당 코드를 실행하여 잘 동작하는지 확인합니다.\n",
    "\n",
    "cube(2)                       # 2는 인자 (argument)"
   ]
  },
  {
   "cell_type": "markdown",
   "metadata": {
    "id": "bvX-BFfqQr2D"
   },
   "source": [
    "<center>\n",
    "    <img src=\"https://user-images.githubusercontent.com/18046097/61181742-2984fd80-a665-11e9-9d5c-c90e8c64953e.png\", alt=\"function descrpition\">\n",
    "</center>"
   ]
  },
  {
   "cell_type": "code",
   "execution_count": null,
   "metadata": {
    "id": "uJ4-MF3pQr2E",
    "outputId": "5e4181f2-6889-455b-c137-0fcaa14def2c"
   },
   "outputs": [
    {
     "name": "stdout",
     "output_type": "stream",
     "text": [
      "hi\n"
     ]
    }
   ],
   "source": [
    "# 우리가 활용하는 print문도 파이썬에 지정된 함수입니다. \n",
    "# 아래에서 'hi'는 argument이고 출력을 하게 됩니다.\n",
    "\n",
    "print('hi')"
   ]
  },
  {
   "cell_type": "markdown",
   "metadata": {
    "id": "VUbBR4mPQr2E"
   },
   "source": [
    "<center>\n",
    "    <img src=\"https://user-images.githubusercontent.com/18046097/61181739-2984fd80-a665-11e9-991b-f2f058397a69.png\", alt=\"built_in\">\n",
    "</center>\n",
    "\n",
    "[파이썬 문서](https://docs.python.org/ko/3/library/functions.html)"
   ]
  },
  {
   "cell_type": "code",
   "execution_count": null,
   "metadata": {
    "id": "4GTtGmr0Qr2E",
    "outputId": "8e9543db-24ea-4122-f583-0c0e982b3767",
    "tags": [
     "output_scroll"
    ]
   },
   "outputs": [
    {
     "data": {
      "text/plain": [
       "['ArithmeticError',\n",
       " 'AssertionError',\n",
       " 'AttributeError',\n",
       " 'BaseException',\n",
       " 'BlockingIOError',\n",
       " 'BrokenPipeError',\n",
       " 'BufferError',\n",
       " 'BytesWarning',\n",
       " 'ChildProcessError',\n",
       " 'ConnectionAbortedError',\n",
       " 'ConnectionError',\n",
       " 'ConnectionRefusedError',\n",
       " 'ConnectionResetError',\n",
       " 'DeprecationWarning',\n",
       " 'EOFError',\n",
       " 'Ellipsis',\n",
       " 'EnvironmentError',\n",
       " 'Exception',\n",
       " 'False',\n",
       " 'FileExistsError',\n",
       " 'FileNotFoundError',\n",
       " 'FloatingPointError',\n",
       " 'FutureWarning',\n",
       " 'GeneratorExit',\n",
       " 'IOError',\n",
       " 'ImportError',\n",
       " 'ImportWarning',\n",
       " 'IndentationError',\n",
       " 'IndexError',\n",
       " 'InterruptedError',\n",
       " 'IsADirectoryError',\n",
       " 'KeyError',\n",
       " 'KeyboardInterrupt',\n",
       " 'LookupError',\n",
       " 'MemoryError',\n",
       " 'ModuleNotFoundError',\n",
       " 'NameError',\n",
       " 'None',\n",
       " 'NotADirectoryError',\n",
       " 'NotImplemented',\n",
       " 'NotImplementedError',\n",
       " 'OSError',\n",
       " 'OverflowError',\n",
       " 'PendingDeprecationWarning',\n",
       " 'PermissionError',\n",
       " 'ProcessLookupError',\n",
       " 'RecursionError',\n",
       " 'ReferenceError',\n",
       " 'ResourceWarning',\n",
       " 'RuntimeError',\n",
       " 'RuntimeWarning',\n",
       " 'StopAsyncIteration',\n",
       " 'StopIteration',\n",
       " 'SyntaxError',\n",
       " 'SyntaxWarning',\n",
       " 'SystemError',\n",
       " 'SystemExit',\n",
       " 'TabError',\n",
       " 'TimeoutError',\n",
       " 'True',\n",
       " 'TypeError',\n",
       " 'UnboundLocalError',\n",
       " 'UnicodeDecodeError',\n",
       " 'UnicodeEncodeError',\n",
       " 'UnicodeError',\n",
       " 'UnicodeTranslateError',\n",
       " 'UnicodeWarning',\n",
       " 'UserWarning',\n",
       " 'ValueError',\n",
       " 'Warning',\n",
       " 'WindowsError',\n",
       " 'ZeroDivisionError',\n",
       " '__IPYTHON__',\n",
       " '__build_class__',\n",
       " '__debug__',\n",
       " '__doc__',\n",
       " '__import__',\n",
       " '__loader__',\n",
       " '__name__',\n",
       " '__package__',\n",
       " '__spec__',\n",
       " 'abs',\n",
       " 'all',\n",
       " 'any',\n",
       " 'ascii',\n",
       " 'bin',\n",
       " 'bool',\n",
       " 'breakpoint',\n",
       " 'bytearray',\n",
       " 'bytes',\n",
       " 'callable',\n",
       " 'chr',\n",
       " 'classmethod',\n",
       " 'compile',\n",
       " 'complex',\n",
       " 'copyright',\n",
       " 'credits',\n",
       " 'delattr',\n",
       " 'dict',\n",
       " 'dir',\n",
       " 'display',\n",
       " 'divmod',\n",
       " 'enumerate',\n",
       " 'eval',\n",
       " 'exec',\n",
       " 'filter',\n",
       " 'float',\n",
       " 'format',\n",
       " 'frozenset',\n",
       " 'get_ipython',\n",
       " 'getattr',\n",
       " 'globals',\n",
       " 'hasattr',\n",
       " 'hash',\n",
       " 'help',\n",
       " 'hex',\n",
       " 'id',\n",
       " 'input',\n",
       " 'int',\n",
       " 'isinstance',\n",
       " 'issubclass',\n",
       " 'iter',\n",
       " 'len',\n",
       " 'license',\n",
       " 'list',\n",
       " 'locals',\n",
       " 'map',\n",
       " 'max',\n",
       " 'memoryview',\n",
       " 'min',\n",
       " 'next',\n",
       " 'object',\n",
       " 'oct',\n",
       " 'open',\n",
       " 'ord',\n",
       " 'pow',\n",
       " 'print',\n",
       " 'property',\n",
       " 'range',\n",
       " 'repr',\n",
       " 'reversed',\n",
       " 'round',\n",
       " 'set',\n",
       " 'setattr',\n",
       " 'slice',\n",
       " 'sorted',\n",
       " 'staticmethod',\n",
       " 'str',\n",
       " 'sum',\n",
       " 'super',\n",
       " 'tuple',\n",
       " 'type',\n",
       " 'vars',\n",
       " 'zip']"
      ]
     },
     "execution_count": 8,
     "metadata": {
      "tags": []
     },
     "output_type": "execute_result"
    }
   ],
   "source": [
    "# 내장함수 목록을 직접 확인해봅시다.\n",
    "\n",
    "dir(__builtins__)"
   ]
  },
  {
   "cell_type": "code",
   "execution_count": null,
   "metadata": {
    "id": "0fo5tuM5Qr2E"
   },
   "outputs": [],
   "source": [
    "# 편하게 써왔던 random.sample() 함수의 내부도 직접 확인해봅시다.\n",
    "# https://github.com/python/cpython/blob/master/Lib/random.py#L385"
   ]
  },
  {
   "cell_type": "markdown",
   "metadata": {
    "id": "zRLcWgexQr2E"
   },
   "source": [
    "#### [연습] 함수 만들기\n",
    "\n",
    "> 아래의 코드와 동일한 `my_max` 함수를 만들어주세요.\n",
    ">\n",
    "> 정수를 두개 받아서, 큰 값을 반환합니다. \n",
    "\n",
    "```python\n",
    "my_max(1, 5)\n",
    "```\n",
    "---\n",
    "```\n",
    "출력 예시)\n",
    "5\n",
    "```\n"
   ]
  },
  {
   "cell_type": "code",
   "execution_count": 1,
   "metadata": {
    "colab": {
     "base_uri": "https://localhost:8080/"
    },
    "executionInfo": {
     "elapsed": 3,
     "status": "ok",
     "timestamp": 1626840705649,
     "user": {
      "displayName": "채연희",
      "photoUrl": "",
      "userId": "03984966662762542204"
     },
     "user_tz": -540
    },
    "id": "JiwwLYu0Qr2E",
    "outputId": "6f2c7d6c-96a2-47bb-8653-aed423cdab61"
   },
   "outputs": [
    {
     "data": {
      "text/plain": [
       "5"
      ]
     },
     "execution_count": 1,
     "metadata": {
      "tags": []
     },
     "output_type": "execute_result"
    }
   ],
   "source": [
    "# 내장함수 max()를 확인해봅시다.\n",
    "\n",
    "max(1, 5)"
   ]
  },
  {
   "cell_type": "code",
   "execution_count": 3,
   "metadata": {
    "executionInfo": {
     "elapsed": 259,
     "status": "ok",
     "timestamp": 1626840756940,
     "user": {
      "displayName": "채연희",
      "photoUrl": "",
      "userId": "03984966662762542204"
     },
     "user_tz": -540
    },
    "id": "CXJxYoYkQr2E"
   },
   "outputs": [],
   "source": [
    "# 위 문제를 참고하여 아래에 my_max 함수를 작성하고 실행해보세요.\n",
    "\n",
    "\n",
    "def my_max(num1, num2):\n",
    "    if num1 > num2:\n",
    "        return num1\n",
    "    else:\n",
    "        return num2\n",
    "    \n",
    "    num1 if num1 > num2 else num2"
   ]
  },
  {
   "cell_type": "code",
   "execution_count": null,
   "metadata": {
    "id": "QXpYESbAQr2F"
   },
   "outputs": [],
   "source": [
    "# 해당 코드를 통해 올바른 결과가 나오는지 확인하세요.\n",
    "\n",
    "my_max(1, 5)"
   ]
  },
  {
   "cell_type": "markdown",
   "metadata": {
    "id": "4KPqctEAQr2F"
   },
   "source": [
    "#### 함수의 선언과 호출 살펴보기"
   ]
  },
  {
   "cell_type": "code",
   "execution_count": null,
   "metadata": {
    "id": "VkGHm1WKQr2F",
    "tags": []
   },
   "outputs": [],
   "source": [
    "# 아래의 코드의 결과는 무엇일까요? 실행하기 전에 예측해봅시다!\n",
    "\n",
    "num1 = 0\n",
    "num2 = 1\n",
    "\n",
    "def func1(a, b):\n",
    "    return a + b\n",
    "    \n",
    "def func2(a, b):\n",
    "    return a - b\n",
    "    \n",
    "def func3(a, b):\n",
    "    return func1(a, 5) + func2(5, b)\n",
    "    \n",
    "result = func3(num1, num2)\n",
    "print(result)"
   ]
  },
  {
   "cell_type": "markdown",
   "metadata": {
    "id": "9kAzZYyzQr2F"
   },
   "source": [
    "* [Python tutor](http://pythontutor.com/visualize.html#code=num1%20%3D%200%0Anum2%20%3D%201%0A%0Adef%20func1%28a,%20b%29%3A%0A%20%20%20%20return%20a%20%2B%20b%0A%20%20%20%20%0Adef%20func2%28a,%20b%29%3A%0A%20%20%20%20return%20a%20-%20b%0A%20%20%20%20%0Adef%20func3%28a,%20b%29%3A%0A%20%20%20%20return%20func1%28a,%205%29%20%2B%20func2%285,%20b%29%0A%20%20%20%20%0Aresult%20%3D%20func3%28num1,%20num2%29%0Aprint%28result%29&cumulative=false&curInstr=10&heapPrimitives=nevernest&mode=display&origin=opt-frontend.js&py=3&rawInputLstJSON=%5B%5D&textReferences=false)를 통해 실행 순서를 직접 확인하세요.\n",
    "\n",
    "* 함수는 호출되면 계산을 수행하고, 값을 반환하며 종료됩니다."
   ]
  },
  {
   "cell_type": "markdown",
   "metadata": {
    "id": "XTY29KXQQr2F"
   },
   "source": [
    "## 함수의 Output"
   ]
  },
  {
   "cell_type": "markdown",
   "metadata": {
    "id": "4S0xygZCQr2F"
   },
   "source": [
    "## 함수의 return\n",
    "\n",
    "앞서 설명한 것과 마찬가지로 함수는 반환되는 값이 있으며, 이는 어떠한 종류(~~의 객체~~)라도 상관없습니다. \n",
    " \n",
    "단, **오직 한 개의 객체**만 반환됩니다.\n",
    "- 복수의 객체를 return 하는 경우 -> 복수의 객체를 하나의 `tuple`로 반환합니다.\n",
    "- 명시적인 return 값이 없는 경우 -> 하나의 객체 `None`을 반환합니다.\n",
    "\n",
    "함수가 return 되거나 종료되면, 함수를 호출한 곳으로 돌아갑니다.\n",
    "\n",
    "```{admonition} return vs print\n",
    ":class: warning\n",
    "- return은 함수 안에서만 사용되는 **키워드**\n",
    "- print는 출력을 위해 사용되는 **함수**\n",
    "- REPL (Read-Eval-Print Loop) 환경에서는 마지막으로 작성된 코드의 리턴 값을 보여주므로 같은 동작을 하는 것으로 착각할 수 있음.\n",
    "```"
   ]
  },
  {
   "cell_type": "markdown",
   "metadata": {
    "id": "Pr2dMRvdQr2F"
   },
   "source": [
    "### [실습] 사각형의 넓이를 구하는 함수\n",
    "> 너비와 높이를 입력 받아 사각형의 넓이와 둘레를 반환(return)하는 함수 `rectangle()`을 작성해보세요.\n",
    "\n",
    "---\n",
    "\n",
    "**[입력 예시]**\n",
    "\n",
    "```py\n",
    "rectangle(30, 20)\n",
    "```\n",
    "\n",
    "**[출력 예시]**\n",
    "\n",
    "(600, 100)"
   ]
  },
  {
   "cell_type": "code",
   "execution_count": 44,
   "metadata": {
    "executionInfo": {
     "elapsed": 288,
     "status": "ok",
     "timestamp": 1626841289519,
     "user": {
      "displayName": "채연희",
      "photoUrl": "",
      "userId": "03984966662762542204"
     },
     "user_tz": -540
    },
    "id": "kSs6uHEVQr2F"
   },
   "outputs": [],
   "source": [
    "# 위 문제를 참고하여 아래에 rectangle 함수를 작성하고 실행해봅시다.\n",
    "\n",
    "def rectangle(width, height):\n",
    "    area = width * height\n",
    "    parameter = 2 * (width + height)\n",
    "    return area, parameter"
   ]
  },
  {
   "cell_type": "code",
   "execution_count": 45,
   "metadata": {
    "colab": {
     "base_uri": "https://localhost:8080/"
    },
    "executionInfo": {
     "elapsed": 3,
     "status": "ok",
     "timestamp": 1626841291429,
     "user": {
      "displayName": "채연희",
      "photoUrl": "",
      "userId": "03984966662762542204"
     },
     "user_tz": -540
    },
    "id": "2B-r5oORQr2F",
    "outputId": "c10dc0ee-f271-4b05-8780-0a93bb9c4271"
   },
   "outputs": [
    {
     "name": "stdout",
     "output_type": "stream",
     "text": [
      "(600, 100)\n",
      "(3500, 240)\n"
     ]
    }
   ],
   "source": [
    "# 해당 코드를 통해 올바른 결과가 나오는지 확인하세요.\n",
    "print(rectangle(30, 20))\n",
    "print(rectangle(50, 70))"
   ]
  },
  {
   "cell_type": "markdown",
   "metadata": {
    "id": "VGo-FthpQr2F"
   },
   "source": [
    "### [연습] 함수를 정의하고 값을 반환해봅시다.\n",
    " \n",
    "> 리스트 두개를 받아 각각 더한 결과를 비교하여 값이 큰 리스트를 반환하는 함수를 만들어주세요.\n",
    "\n",
    "```python\n",
    "my_list_max([10, 3], [5, 9])\n",
    "```\n",
    "---\n",
    "```\n",
    "예시 출력)\n",
    "[5, 9]\n",
    "```\n"
   ]
  },
  {
   "cell_type": "code",
   "execution_count": 47,
   "metadata": {
    "executionInfo": {
     "elapsed": 274,
     "status": "ok",
     "timestamp": 1626841354586,
     "user": {
      "displayName": "채연희",
      "photoUrl": "",
      "userId": "03984966662762542204"
     },
     "user_tz": -540
    },
    "id": "hIUrT_9EQr2F"
   },
   "outputs": [],
   "source": [
    "# 위 문제를 참고하여 아래에 my_list_max 함수를 작성하고 호출하세요.\n",
    "\n",
    "def my_list_max(list1, list2):\n",
    "    if sum(list1) > sum(list2):\n",
    "        return list1\n",
    "    else:\n",
    "        return list2"
   ]
  },
  {
   "cell_type": "code",
   "execution_count": 46,
   "metadata": {
    "executionInfo": {
     "elapsed": 277,
     "status": "ok",
     "timestamp": 1626841452434,
     "user": {
      "displayName": "채연희",
      "photoUrl": "",
      "userId": "03984966662762542204"
     },
     "user_tz": -540
    },
    "id": "wXWCc6QETh5Y"
   },
   "outputs": [],
   "source": [
    "def my_list_max(list1, list2):\n",
    "    return list1 if sum(list1) > sum(list2) else list2"
   ]
  },
  {
   "cell_type": "code",
   "execution_count": 48,
   "metadata": {
    "colab": {
     "base_uri": "https://localhost:8080/"
    },
    "executionInfo": {
     "elapsed": 270,
     "status": "ok",
     "timestamp": 1626841454097,
     "user": {
      "displayName": "채연희",
      "photoUrl": "",
      "userId": "03984966662762542204"
     },
     "user_tz": -540
    },
    "id": "ou_SWECIQr2G",
    "outputId": "123fe55c-af67-42c7-f0df-652e5957fc19"
   },
   "outputs": [
    {
     "name": "stdout",
     "output_type": "stream",
     "text": [
      "[5, 9]\n"
     ]
    }
   ],
   "source": [
    "# 해당 코드를 통해 올바른 결과가 나오는지 확인하세요.\n",
    "\n",
    "print(my_list_max([10, 3], [5, 9]))"
   ]
  },
  {
   "cell_type": "markdown",
   "metadata": {
    "id": "rKFcediYQr2G"
   },
   "source": [
    "## 함수의 입력 (Input)"
   ]
  },
  {
   "cell_type": "markdown",
   "metadata": {
    "id": "aTsLMJ30Qr2G"
   },
   "source": [
    "### 매개변수 & 전달인자\n",
    "\n",
    "#### (1) 매개변수 (parameter)\n",
    "\n",
    "```python\n",
    "def func(x):\n",
    "      return x + 2\n",
    "```\n",
    "\n",
    "* `x` 는 매개변수(parameter)입니다.\n",
    "* 입력을 받아 함수 내부에서 활용할 `변수`라고 생각하면 됩니다.\n",
    "* 함수의 정의 부분에서 볼 수 있습니다.\n",
    "\n",
    "\n",
    "#### (2) 전달인자 (argument)\n",
    "\n",
    "```python\n",
    "func(2)\n",
    "```\n",
    "\n",
    "* `2` 는 (전달)인자(argument)\n",
    "* 실제로 전달되는 `입력값`이라고 생각하면 됩니다.\n",
    "* 함수를 호출하는 부분에서 볼 수 있습니다.\n",
    "    \n",
    "> 주로 혼용해서 사용하지만 엄밀하게 따지면 둘은 다르게 구분되어 사용됩니다. 개념적 구분보다 함수가 작동하는 원리를 이해하는게 더 중요합니다."
   ]
  },
  {
   "cell_type": "markdown",
   "metadata": {
    "id": "-yHjn-raQr2G"
   },
   "source": [
    "### 함수의 인자\n",
    "\n",
    "함수는 입력값(input)으로 `인자(argument)`를 넘겨줄 수 있습니다."
   ]
  },
  {
   "cell_type": "markdown",
   "metadata": {
    "id": "jvOhnPlcQr2G"
   },
   "source": [
    "#### 위치 인자 \n",
    "\n",
    "기본적으로 **인자는 위치에 따라 함수 내에 전달**(Positional Arguments)됩니다. "
   ]
  },
  {
   "cell_type": "markdown",
   "metadata": {
    "id": "OkH0ujX0Qr2G"
   },
   "source": [
    "##### [연습] 원기둥의 부피\n",
    "\n",
    "> 원기둥의 반지름(r)과 높이(h)를 받아서 부피를 return하는 함수 `cylinder()`를 작성하세요.\n",
    ">\n",
    "> *원기둥 부피 = 3.14 * 반지름 * 반지름 * 높이*"
   ]
  },
  {
   "cell_type": "code",
   "execution_count": 52,
   "metadata": {
    "executionInfo": {
     "elapsed": 415,
     "status": "ok",
     "timestamp": 1626841757646,
     "user": {
      "displayName": "채연희",
      "photoUrl": "",
      "userId": "03984966662762542204"
     },
     "user_tz": -540
    },
    "id": "mj67LtLzQr2G"
   },
   "outputs": [],
   "source": [
    "# 위 문제를 참고하여 아래에 cylinder 함수를 작성하고 호출하세요.\n",
    "\n",
    "def cylinder(r, h):\n",
    "    return round(3.14 * r**2 * h, 5)"
   ]
  },
  {
   "cell_type": "code",
   "execution_count": 53,
   "metadata": {
    "colab": {
     "base_uri": "https://localhost:8080/"
    },
    "executionInfo": {
     "elapsed": 265,
     "status": "ok",
     "timestamp": 1626841759072,
     "user": {
      "displayName": "채연희",
      "photoUrl": "",
      "userId": "03984966662762542204"
     },
     "user_tz": -540
    },
    "id": "OqOA3DKbQr2G",
    "outputId": "9ab559aa-a696-495a-86de-9311c80c3d68"
   },
   "outputs": [
    {
     "name": "stdout",
     "output_type": "stream",
     "text": [
      "157.0\n",
      "62.8\n"
     ]
    }
   ],
   "source": [
    "# 해당 코드를 통해 올바른 결과가 나오는지 확인하세요.\n",
    "\n",
    "print(cylinder(5, 2))\n",
    "print(cylinder(2, 5)) # 순서를 바꾸면 다른 값이 나옵니다."
   ]
  },
  {
   "cell_type": "markdown",
   "metadata": {
    "id": "52omp1KBQr2G"
   },
   "source": [
    "<center>\n",
    "    <img src=\"https://user-images.githubusercontent.com/18046097/61181743-2a1d9400-a665-11e9-8df2-e4856caf16e4.png\", alt=\"function example 02\">\n",
    "</center>"
   ]
  },
  {
   "cell_type": "markdown",
   "metadata": {
    "id": "f5MeipgiQr2G"
   },
   "source": [
    "#### 기본 인자 값 \n",
    "\n",
    "**함수를 정의할 때, 기본값** (Default Argument Values)을 지정하여 함수를 호출할 때 인자의 값을 설정하지 않도록하여, 정의된 것 보다 더 적은 개수의 인자들로 호출 될 수 있습니다.\n",
    "\n",
    "---\n",
    "\n",
    "**활용법**\n",
    "```python\n",
    "def func(p1=v1):\n",
    "    return p1\n",
    "```"
   ]
  },
  {
   "cell_type": "markdown",
   "metadata": {
    "id": "M8StRIkyQr2G"
   },
   "source": [
    "##### [연습] 기본 인자 값 활용\n",
    "\n",
    "> 이름을 받아서 다음과 같이 인사하는 함수 `greeting()`을 작성하세요. 이름이 길동이면, \"길동, 안녕?\" 이름이 없으면 \"익명, 안녕?\" 으로 출력하세요."
   ]
  },
  {
   "cell_type": "code",
   "execution_count": 18,
   "metadata": {
    "executionInfo": {
     "elapsed": 270,
     "status": "ok",
     "timestamp": 1626842089087,
     "user": {
      "displayName": "채연희",
      "photoUrl": "",
      "userId": "03984966662762542204"
     },
     "user_tz": -540
    },
    "id": "ywysKXfaQr2G"
   },
   "outputs": [],
   "source": [
    "# 위 문제를 참고하여 아래에 greeting 함수를 작성하고 실행해봅시다.\n",
    "\n",
    "def greeting(name = '익명'):\n",
    "    return f'{name}, 안녕?'"
   ]
  },
  {
   "cell_type": "code",
   "execution_count": 19,
   "metadata": {
    "colab": {
     "base_uri": "https://localhost:8080/"
    },
    "executionInfo": {
     "elapsed": 273,
     "status": "ok",
     "timestamp": 1626842102205,
     "user": {
      "displayName": "채연희",
      "photoUrl": "",
      "userId": "03984966662762542204"
     },
     "user_tz": -540
    },
    "id": "CC2cy06zQr2H",
    "outputId": "9c22f52a-ffd5-466a-de70-fdf3aa7af9ad"
   },
   "outputs": [
    {
     "name": "stdout",
     "output_type": "stream",
     "text": [
      "익명, 안녕?\n",
      "철수, 안녕?\n"
     ]
    }
   ],
   "source": [
    "# 해당 코드를 통해 올바른 결과가 나오는지 확인하세요.\n",
    "\n",
    "print(greeting())\n",
    "print(greeting('철수'))"
   ]
  },
  {
   "cell_type": "markdown",
   "metadata": {
    "id": "vP2po2vUQr2H"
   },
   "source": [
    "* 기본 인자 값이 설정되어 있더라도 기존의 함수와 동일하게 호출 가능합니다.\n",
    "\n",
    "\n",
    "<center>\n",
    "    <img src=\"https://user-images.githubusercontent.com/18046097/61181744-2a1d9400-a665-11e9-9095-6924ca11122e.png\">\n",
    "</center>"
   ]
  },
  {
   "cell_type": "markdown",
   "metadata": {
    "id": "rPD2kmj2Qr2H"
   },
   "source": [
    "* 호출시 인자가 없으면 기본 인자 값이 활용됩니다.\n",
    "\n",
    "\n",
    "<center>\n",
    "    <img src=\"https://user-images.githubusercontent.com/18046097/61181745-2a1d9400-a665-11e9-95ef-e50e463e1583.png\", alt=\"function example 03\">\n",
    "</center>"
   ]
  },
  {
   "cell_type": "markdown",
   "metadata": {
    "id": "KMeMAc6GQr2H"
   },
   "source": [
    "```{warning}\n",
    "단, **기본 인자값**(Default Argument Value)을 가지는 인자 다음에 **기본 값이 없는 인자**를 사용할 수는 없습니다.\n",
    "- 위치 매개변수 - 기본 인자 매개변수 순으로 정의해야 함.\n",
    "- 순서) 위치인자(basic) => 기본인자(default)\n",
    "```"
   ]
  },
  {
   "cell_type": "code",
   "execution_count": 20,
   "metadata": {
    "colab": {
     "base_uri": "https://localhost:8080/",
     "height": 141
    },
    "executionInfo": {
     "elapsed": 262,
     "status": "error",
     "timestamp": 1626842265920,
     "user": {
      "displayName": "채연희",
      "photoUrl": "",
      "userId": "03984966662762542204"
     },
     "user_tz": -540
    },
    "id": "-vMwALOXQr2H",
    "outputId": "033a938b-bca0-4684-825e-bb8efd6d8400"
   },
   "outputs": [
    {
     "ename": "SyntaxError",
     "evalue": "ignored",
     "output_type": "error",
     "traceback": [
      "\u001b[0;36m  File \u001b[0;32m\"<ipython-input-20-85fc8bb36d98>\"\u001b[0;36m, line \u001b[0;32m2\u001b[0m\n\u001b[0;31m    def greeting(name='john', age):\u001b[0m\n\u001b[0m                ^\u001b[0m\n\u001b[0;31mSyntaxError\u001b[0m\u001b[0;31m:\u001b[0m non-default argument follows default argument\n"
     ]
    }
   ],
   "source": [
    "# 다음 코드를 실행해서 오류를 확인해봅시다.\n",
    "\n",
    "def greeting(name='john', age):\n",
    "    return f'{name}은 {age}살입니다.'"
   ]
  },
  {
   "cell_type": "code",
   "execution_count": 21,
   "metadata": {
    "executionInfo": {
     "elapsed": 264,
     "status": "ok",
     "timestamp": 1626842281807,
     "user": {
      "displayName": "채연희",
      "photoUrl": "",
      "userId": "03984966662762542204"
     },
     "user_tz": -540
    },
    "id": "2IqkkViyQr2H"
   },
   "outputs": [],
   "source": [
    "# 오류가 발생하지 않도록 아래에 직접 수정하고 실행해봅시다.\n",
    "\n",
    "def greeting(age, name='john'):\n",
    "    return f'{name}은 {age}살입니다.'"
   ]
  },
  {
   "cell_type": "code",
   "execution_count": 23,
   "metadata": {
    "colab": {
     "base_uri": "https://localhost:8080/"
    },
    "executionInfo": {
     "elapsed": 263,
     "status": "ok",
     "timestamp": 1626842301230,
     "user": {
      "displayName": "채연희",
      "photoUrl": "",
      "userId": "03984966662762542204"
     },
     "user_tz": -540
    },
    "id": "fe2t7PBkQr2H",
    "outputId": "095d31e8-e37f-422f-8f09-9bdab0d52933"
   },
   "outputs": [
    {
     "name": "stdout",
     "output_type": "stream",
     "text": [
      "john은 1살입니다.\n",
      "json은 2살입니다.\n"
     ]
    }
   ],
   "source": [
    "# 해당 코드를 통해 올바른 결과가 나오는지 확인하세요.\n",
    "\n",
    "print(greeting(1))\n",
    "print(greeting(2, 'json'))"
   ]
  },
  {
   "cell_type": "markdown",
   "metadata": {
    "id": "_uf__R5jQr2H"
   },
   "source": [
    "#### 키워드 인자 \n",
    "\n",
    "**함수를 호출할 때 키워드 인자** (Keyword Arguments)를 활용하여 직접 변수의 이름으로 특정 인자를 전달할 수 있습니다."
   ]
  },
  {
   "cell_type": "code",
   "execution_count": 2,
   "metadata": {
    "executionInfo": {
     "elapsed": 274,
     "status": "ok",
     "timestamp": 1626842351235,
     "user": {
      "displayName": "채연희",
      "photoUrl": "",
      "userId": "03984966662762542204"
     },
     "user_tz": -540
    },
    "id": "-9yv4X_LQr2H"
   },
   "outputs": [],
   "source": [
    "# 다음 코드를 실행해서 greeting 함수를 선언합니다.\n",
    "\n",
    "def greeting(age, name):\n",
    "    return f'{name}은 {age}살입니다.'"
   ]
  },
  {
   "cell_type": "code",
   "execution_count": 3,
   "metadata": {
    "colab": {
     "base_uri": "https://localhost:8080/",
     "height": 36
    },
    "executionInfo": {
     "elapsed": 402,
     "status": "ok",
     "timestamp": 1626842353647,
     "user": {
      "displayName": "채연희",
      "photoUrl": "",
      "userId": "03984966662762542204"
     },
     "user_tz": -540
    },
    "id": "XBe8gJG2Qr2H",
    "outputId": "32848d28-9fb4-427d-da60-2baa4b592392"
   },
   "outputs": [
    {
     "data": {
      "text/plain": [
       "'철수은 24살입니다.'"
      ]
     },
     "execution_count": 3,
     "metadata": {},
     "output_type": "execute_result"
    }
   ],
   "source": [
    "# 아래와 같이 키워드 인자를 사용해서 함수를 호출할 수 있습니다.\n",
    "\n",
    "greeting(name='철수', age=24)"
   ]
  },
  {
   "cell_type": "code",
   "execution_count": 4,
   "metadata": {
    "id": "25O-0NWFQr2H"
   },
   "outputs": [
    {
     "data": {
      "text/plain": [
       "'철수은 24살입니다.'"
      ]
     },
     "execution_count": 4,
     "metadata": {},
     "output_type": "execute_result"
    }
   ],
   "source": [
    "# 위치 인자와 함께 사용할 수 있습니다.\n",
    "\n",
    "greeting(24, name='철수')"
   ]
  },
  {
   "cell_type": "markdown",
   "metadata": {
    "id": "4ABv93CFQr2I"
   },
   "source": [
    "```{warning}\n",
    "단, 아래와 같이 **키워드 인자**를 활용한 다음에 **위치 인자**를 활용할 수는 없습니다.\n",
    "```"
   ]
  },
  {
   "cell_type": "code",
   "execution_count": 5,
   "metadata": {
    "id": "TB-bwuglQr2I"
   },
   "outputs": [
    {
     "ename": "SyntaxError",
     "evalue": "positional argument follows keyword argument (Temp/ipykernel_14428/681848598.py, line 2)",
     "output_type": "error",
     "traceback": [
      "\u001b[1;36m  File \u001b[1;32m\"C:\\Users\\User\\AppData\\Local\\Temp/ipykernel_14428/681848598.py\"\u001b[1;36m, line \u001b[1;32m2\u001b[0m\n\u001b[1;33m    greeting(age=24, '철수')\u001b[0m\n\u001b[1;37m                         ^\u001b[0m\n\u001b[1;31mSyntaxError\u001b[0m\u001b[1;31m:\u001b[0m positional argument follows keyword argument\n"
     ]
    }
   ],
   "source": [
    "# 다음 코드를 실행해서 오류를 확인해봅시다.\n",
    "\n",
    "greeting(age=24, '철수')"
   ]
  },
  {
   "cell_type": "markdown",
   "metadata": {
    "id": "Rl8RwyzmXcRO"
   },
   "source": [
    "```{admonition} 순서\n",
    ":class: note\n",
    "- 정의할 때 parameter 순서\n",
    "  - basic => default value\n",
    "- 호출할 때 argument 순서\n",
    "  - position => keyword\n",
    "```"
   ]
  },
  {
   "cell_type": "markdown",
   "metadata": {
    "id": "d8cQO9AYQr2I"
   },
   "source": [
    "### 정해지지 않은 여러 개의 인자 처리\n"
   ]
  },
  {
   "cell_type": "markdown",
   "metadata": {
    "id": "6ECDhrkDQr2I"
   },
   "source": [
    "우리가 주로 활용하는 `print()` 함수는 [파이썬 표준 라이브러리의 내장함수](https://docs.python.org/ko/3.6/library/functions.html) 중 하나이며, 다음과 같이 구성되어있습니다.\n",
    "> <center>\n",
    "    <img src=\"https://user-images.githubusercontent.com/18046097/61181751-2b4ec100-a665-11e9-9a7c-a19a8c445cfa.png\", alt=\"print\">\n",
    "</center>"
   ]
  },
  {
   "cell_type": "code",
   "execution_count": 26,
   "metadata": {
    "colab": {
     "base_uri": "https://localhost:8080/"
    },
    "executionInfo": {
     "elapsed": 287,
     "status": "ok",
     "timestamp": 1626842666616,
     "user": {
      "displayName": "채연희",
      "photoUrl": "",
      "userId": "03984966662762542204"
     },
     "user_tz": -540
    },
    "id": "xVt6xLCeQr2I",
    "outputId": "eabe5888-8bd1-4f7b-9ec8-b05dc6a8a1e6"
   },
   "outputs": [
    {
     "name": "stdout",
     "output_type": "stream",
     "text": [
      "첫번째 문장\n",
      "두번째 문장_세번째 문장 네번째 문장\n",
      "다섯번째 문장/마지막 문장끝!"
     ]
    }
   ],
   "source": [
    "# 직접 실행해서 확인해봅시다.\n",
    "\n",
    "print('첫번째 문장')\n",
    "print('두번째 문장', end='_')\n",
    "print('세번째 문장', '네번째 문장')\n",
    "print('다섯번째 문장', '마지막 문장', sep='/', end='끝!')"
   ]
  },
  {
   "cell_type": "markdown",
   "metadata": {
    "id": "yc_QTX31Qr2I"
   },
   "source": [
    "#### 가변(임의) 인자 리스트\n",
    "\n",
    "앞서 설명한 `print()`처럼 개수가 정해지지 않은 임의의 인자를 받기 위해서는 **함수를 정의할 때 가변 인자 리스트**(Arbitrary Argument Lists) `*args`를 활용합니다. \n",
    "\n",
    "가변 인자 리스트는 `tuple` 형태로 처리가 되며, 매개변수에 `*`로 표현합니다. \n",
    "\n",
    "---\n",
    "\n",
    "**활용법**\n",
    "\n",
    "```python\n",
    "def func(a, b, *args):\n",
    "```\n",
    "> `*args` : 임의의 개수의 위치인자를 받음을 의미\n",
    "> \n",
    "> 보통, 이 가변 인자 리스트는 매개변수 목록의 마지막에 옵니다.\n",
    "\n",
    "```{warning}\n",
    "가변 인자 리스트가 위치 인자보다 앞쪽에 올 수 없습니다.\n",
    "```"
   ]
  },
  {
   "cell_type": "code",
   "execution_count": 27,
   "metadata": {
    "colab": {
     "base_uri": "https://localhost:8080/"
    },
    "executionInfo": {
     "elapsed": 267,
     "status": "ok",
     "timestamp": 1626842674691,
     "user": {
      "displayName": "채연희",
      "photoUrl": "",
      "userId": "03984966662762542204"
     },
     "user_tz": -540
    },
    "id": "r04S5zFgQr2I",
    "outputId": "57ce2899-c184-45f8-cf6f-93674bf68af1"
   },
   "outputs": [
    {
     "name": "stdout",
     "output_type": "stream",
     "text": [
      "hi,안녕,Guten Tag,gonnichiwa\n"
     ]
    }
   ],
   "source": [
    "# 가변 인자 예시\n",
    "# print문은 *obejcts를 통해 임의의 숫자의 인자를 모두 처리합니다.\n",
    "# 아래의 코드로 확인해봅시다.\n",
    "\n",
    "print('hi', '안녕', 'Guten Tag', 'gonnichiwa', sep=',')"
   ]
  },
  {
   "cell_type": "code",
   "execution_count": 28,
   "metadata": {
    "ExecuteTime": {
     "end_time": "2021-01-15T07:38:26.599448Z",
     "start_time": "2021-01-15T07:38:26.588437Z"
    },
    "colab": {
     "base_uri": "https://localhost:8080/"
    },
    "executionInfo": {
     "elapsed": 405,
     "status": "ok",
     "timestamp": 1626842682669,
     "user": {
      "displayName": "채연희",
      "photoUrl": "",
      "userId": "03984966662762542204"
     },
     "user_tz": -540
    },
    "id": "uiVxzQwNQr2I",
    "outputId": "1894576e-6326-4d9a-e904-d0c3f6db72af"
   },
   "outputs": [
    {
     "name": "stdout",
     "output_type": "stream",
     "text": [
      "(1, 2)\n",
      "<class 'tuple'>\n"
     ]
    }
   ],
   "source": [
    "# args는 함수 내부에서 tuple로 처리됩니다.\n",
    "# 아래의 코드로 확인해봅시다.\n",
    "\n",
    "def my_func(*args):\n",
    "    return args\n",
    "    \n",
    "print(my_func(1, 2))\n",
    "print(type(my_func(1, 2)))"
   ]
  },
  {
   "cell_type": "markdown",
   "metadata": {
    "id": "l8NhwW0yQr2J"
   },
   "source": [
    "##### [연습] 가변 인자 리스트를 사용해봅시다.\n",
    "\n",
    "> 정수를 여러 개 받아서 가장 큰 값을 반환(return)하는 함수 `my_max()`를 작성하세요.\n",
    ">\n",
    "> max 내장 함수 사용은 금지합니다.\n",
    "\n",
    "```python\n",
    "my_max(10, 20, 30, 50)\n",
    "```\n",
    "---\n",
    "```\n",
    "예시출력)\n",
    "50\n",
    "```"
   ]
  },
  {
   "cell_type": "code",
   "execution_count": 29,
   "metadata": {
    "colab": {
     "base_uri": "https://localhost:8080/"
    },
    "executionInfo": {
     "elapsed": 269,
     "status": "ok",
     "timestamp": 1626843051262,
     "user": {
      "displayName": "채연희",
      "photoUrl": "",
      "userId": "03984966662762542204"
     },
     "user_tz": -540
    },
    "id": "cJWWvw9KQr2J",
    "outputId": "b1c9aa9b-e67f-4a9e-d24c-85a0720aa32e"
   },
   "outputs": [
    {
     "data": {
      "text/plain": [
       "4"
      ]
     },
     "execution_count": 29,
     "metadata": {
      "tags": []
     },
     "output_type": "execute_result"
    }
   ],
   "source": [
    "max(1, 2, 3, 4)"
   ]
  },
  {
   "cell_type": "code",
   "execution_count": 6,
   "metadata": {
    "id": "9SzOFn7BQr2J"
   },
   "outputs": [],
   "source": [
    "# 위 문제를 참고하여 아래에 my_max 함수를 작성하세요.\n",
    "\n",
    "def my_max(*args):\n",
    "    return max(args)"
   ]
  },
  {
   "cell_type": "code",
   "execution_count": 7,
   "metadata": {
    "id": "jSgxRcawQr2J"
   },
   "outputs": [
    {
     "data": {
      "text/plain": [
       "-1"
      ]
     },
     "execution_count": 7,
     "metadata": {},
     "output_type": "execute_result"
    }
   ],
   "source": [
    "# 다음 코드를 실행해 올바른 결과가 나오는지 확인하세요.\n",
    "\n",
    "my_max(-1, -2, -3, -4)"
   ]
  },
  {
   "cell_type": "markdown",
   "metadata": {
    "id": "4RgIZGu4Qr2J"
   },
   "source": [
    "#### 가변(임의) 키워드 인자\n",
    "\n",
    "정해지지 않은 키워드 인자들은 **함수를 정의할 때 가변 키워드 인자** (Arbitrary Keyword Arguments) `**kwargs`를 활용합니다. \n",
    "\n",
    "가변 키워드 인자는 **`dict`** 형태로 처리가 되며, 매개변수에 `**`로 표현합니다. \n",
    "\n",
    "---\n",
    "\n",
    "**활용법**\n",
    "\n",
    "```python\n",
    "def func(**kwargs):\n",
    "```\n",
    "> `**kwargs` : 임의의 개수의 키워드 인자를 받음을 의미합니다"
   ]
  },
  {
   "cell_type": "markdown",
   "metadata": {
    "id": "RsGoWDoUQr2J"
   },
   "source": [
    "우리가 dictionary를 만들 때 사용할 수 있는 `dict()` 함수는 [파이썬 표준 라이브러리의 내장함수](https://docs.python.org/ko/3.6/library/functions.html) 중 하나이며, 다음과 같이 구성되어 있습니다.\n",
    "> <center>\n",
    "    <img src=\"https://user-images.githubusercontent.com/18046097/61181740-2984fd80-a665-11e9-94cf-7f5ab41873b1.png\", alt=\"dictionary\">\n",
    "</center>"
   ]
  },
  {
   "cell_type": "code",
   "execution_count": 8,
   "metadata": {
    "id": "RO4ROoiTQr2J"
   },
   "outputs": [
    {
     "name": "stdout",
     "output_type": "stream",
     "text": [
      "{'한국어': '안녕', '영어': 'hi'}\n"
     ]
    }
   ],
   "source": [
    "# 딕셔너리 생성 함수 예시입니다.(가변 키워드 인자 활용)\n",
    "\n",
    "# hi = {'한국어': '안녕', '영어': 'hi'}\n",
    "hi = dict(한국어='안녕', 영어='hi')\n",
    "print(hi)"
   ]
  },
  {
   "cell_type": "code",
   "execution_count": 9,
   "metadata": {
    "id": "PLI2v0eQQr2J"
   },
   "outputs": [
    {
     "ename": "SyntaxError",
     "evalue": "expression cannot contain assignment, perhaps you meant \"==\"? (Temp/ipykernel_14428/1178151218.py, line 5)",
     "output_type": "error",
     "traceback": [
      "\u001b[1;36m  File \u001b[1;32m\"C:\\Users\\User\\AppData\\Local\\Temp/ipykernel_14428/1178151218.py\"\u001b[1;36m, line \u001b[1;32m5\u001b[0m\n\u001b[1;33m    dict(1=1, 2=2) # X\u001b[0m\n\u001b[1;37m         ^\u001b[0m\n\u001b[1;31mSyntaxError\u001b[0m\u001b[1;31m:\u001b[0m expression cannot contain assignment, perhaps you meant \"==\"?\n"
     ]
    }
   ],
   "source": [
    "# 주의사항\n",
    "# 식별자는 숫자만으로는 이루어질 수가 없습니다.(키워드인자로 넘기면 함수 안에서 식별자로 쓰이기 때문)\n",
    "# 코드를 실행해서 오류를 확인해봅시다.\n",
    "\n",
    "dict(1=1, 2=2) # X"
   ]
  },
  {
   "cell_type": "code",
   "execution_count": 10,
   "metadata": {
    "id": "8jKCHpO-Qr2J"
   },
   "outputs": [
    {
     "data": {
      "text/plain": [
       "{1: 1, 2: 2}"
      ]
     },
     "execution_count": 10,
     "metadata": {},
     "output_type": "execute_result"
    }
   ],
   "source": [
    "# Key가 숫자인 딕셔너리를 만들고 싶다면, 아래와 같이 사용해야합니다.\n",
    "\n",
    "dict([(1, 1), (2, 2)])\n",
    "dict(((1,1), (2,2)))"
   ]
  },
  {
   "cell_type": "code",
   "execution_count": 11,
   "metadata": {
    "id": "tGBk2KgFQr2J"
   },
   "outputs": [
    {
     "name": "stdout",
     "output_type": "stream",
     "text": [
      "{'한국어': '안녕', '영어': 'hi', '독일어': 'Guten Tag'}\n"
     ]
    }
   ],
   "source": [
    "# 아래의 코드를 실행시켜 kwargs가 딕셔너리로 처리되는 것을 확인해봅시다.\n",
    "\n",
    "def my_dict(**kwargs):\n",
    "    return kwargs\n",
    "\n",
    "print(my_dict(한국어='안녕', 영어='hi', 독일어='Guten Tag'))"
   ]
  },
  {
   "cell_type": "markdown",
   "metadata": {
    "id": "DuwFPNc3Qr2J"
   },
   "source": [
    "```{note}\n",
    "위치인자와 `*agrs`, `**kwargs`를 함께 사용했을 때 올바른 순서\n",
    "\n",
    "`my_info(x, y, *args, **kwargs)`\n",
    "```"
   ]
  },
  {
   "cell_type": "markdown",
   "metadata": {},
   "source": [
    "```{tip}\n",
    "`*`가 하나일 경우 `tuple`, `**`일 경우 `dictionary`로 처리된다.\n",
    "```"
   ]
  },
  {
   "cell_type": "markdown",
   "metadata": {
    "id": "wZWicQAnQr2J"
   },
   "source": [
    "##### [실습] URL 생성기\n",
    "\n",
    "> `my_url()` 함수를 만들어 완성된 URL을 반환하는 함수를 작성하세요.\n",
    ">\n",
    ">\n",
    "\n",
    "```python\n",
    "my_url(sidoname='서울', key='asdf')\n",
    "```\n",
    "\n",
    "---\n",
    "\n",
    "```\n",
    "예시 출력)\n",
    "https://api.go.kr?sidoname=서울&key=asdf&\n",
    "```"
   ]
  },
  {
   "cell_type": "code",
   "execution_count": 16,
   "metadata": {
    "id": "wKrHjvl4Qr2J"
   },
   "outputs": [],
   "source": [
    "# 입력받은 가변 키워드 인자를 활용하여 'https://api.go.kr?'를 BASE_URL로 사용하는 URL을 생성해봅시다.\n",
    "# 가변 키워드 인자(kwargs)를 사용하는 my_url 함수를 직접 작성해보세요.\n",
    "\n",
    "def my_url(**kwargs):\n",
    "    url = 'https://api.go.kr?'\n",
    "    for k, v in kwargs.items():\n",
    "        url += f'{k}={v}&'\n",
    "    return url[:-1]"
   ]
  },
  {
   "cell_type": "code",
   "execution_count": 17,
   "metadata": {
    "ExecuteTime": {
     "end_time": "2021-01-15T07:33:07.945581Z",
     "start_time": "2021-01-15T07:33:07.931569Z"
    },
    "id": "d4gSjM8VQr2K"
   },
   "outputs": [
    {
     "name": "stdout",
     "output_type": "stream",
     "text": [
      "https://api.go.kr?sidoname=서울&key=asdf\n"
     ]
    }
   ],
   "source": [
    "# 다음 코드를 실행하여 결과를 확인해보세요.\n",
    "\n",
    "print(my_url(sidoname='서울', key='asdf'))"
   ]
  },
  {
   "cell_type": "markdown",
   "metadata": {
    "id": "d_Sd4RrxQr2K"
   },
   "source": [
    "## 함수와 스코프\n",
    "\n",
    "함수는 코드 내부에 **스코프** (scope)를 생성합니다. 함수로 생성된 공간은 **지역 스코프** (local scope)라고 불리며, 그 외의 공간인 **전역 스코프** (global scope)와 구분됩니다.\n",
    "\n",
    "* **전역 스코프**(`global scope`): 코드 어디에서든 참조할 수 있는 공간\n",
    "* **지역 스코프**(`local scope`): 함수가 만든 스코프로 함수 내부에서만 참조할 수 있는 공간\n",
    "\n",
    "\n",
    "* **전역 변수**(`global variable`): 전역 스코프에 정의된 변수\n",
    "* **지역 변수**(`local variable`): 지역 스코프에 정의된 변수\n"
   ]
  },
  {
   "cell_type": "code",
   "execution_count": 11,
   "metadata": {
    "id": "pmxUeILMQr2K"
   },
   "outputs": [
    {
     "name": "stdout",
     "output_type": "stream",
     "text": [
      "10\n",
      "10\n"
     ]
    }
   ],
   "source": [
    "# 전역 스코프와 지역 스코프를 알아봅시다.\n",
    "\n",
    "# 전역 스코프에서는 지역 스코프의 변수를 참조할 수 없습니다.\n",
    "# 그러나 반대로 지역스코프에서 전역스코프의 변수는 참조(접근)할 수 있습니다.\n",
    "\n",
    "# func 함수 바깥에서 함수 안의 지역 변수 c를 출력하고 오류를 확인해보세요.\n",
    "# 그리고 반대로 func 함수 내부에서 전역 변수 a를 출력하고 결과를 확인해보세요.\n",
    "\n",
    "a = 10\n",
    "\n",
    "def func():\n",
    "    c = 20\n",
    "    print(a)\n",
    "\n",
    "func()\n",
    "# print(c)\n",
    "print(a)"
   ]
  },
  {
   "cell_type": "code",
   "execution_count": 19,
   "metadata": {
    "id": "niuXswu0Qr2K"
   },
   "outputs": [
    {
     "name": "stdout",
     "output_type": "stream",
     "text": [
      "30\n",
      "10\n"
     ]
    }
   ],
   "source": [
    "# 전역 스코프와 지역 스코프에 같은 이름의 변수를 만들면 어떻게 될까요?\n",
    "# 아래 코드를 실행시켜보고 결과를 확인해보세요.\n",
    "\n",
    "a = 10 # 전역 변수(global)\n",
    "\n",
    "def func(b):\n",
    "    a = 30 # 지역 변수(local variable)\n",
    "    print(a)\n",
    "    \n",
    "func(a)\n",
    "print(a)"
   ]
  },
  {
   "cell_type": "markdown",
   "metadata": {
    "id": "X5YA_e2OQr2K",
    "tags": []
   },
   "source": [
    "### 변수의 수명주기\n",
    "\n",
    "변수의 이름은 각자의 **수명주기** (lifecycle)가 있습니다.\n",
    "\n",
    "* **빌트인 스코프** (built-in scope): 파이썬이 실행된 이후부터 영원히 유지\n",
    "\n",
    "\n",
    "* **전역 스코프** (global scope): 모듈이 호출된 시점 이후 혹은 이름 선언된 이후부터 인터프리터가 끝날 때 까지 유지\n",
    "\n",
    "\n",
    "* **지역(함수) 스코프** (local scope): 함수가 호출될 때 생성되고, 함수가 종료될 때까지 유지 (함수 내에서 처리되지 않는 예외를 일으킬 때 삭제됨)"
   ]
  },
  {
   "cell_type": "markdown",
   "metadata": {
    "id": "GR0MXRotQr2K"
   },
   "source": [
    "### 이름 검색 규칙 (resolution)\n",
    "\n",
    "파이썬에서 사용되는 이름(식별자)들은 **이름공간** (namespace)에 저장되어 있습니다.\n",
    "\n",
    "아래와 같은 순서로 이름을 찾아나가며, `LEGB Rule` 이라고 부릅니다.\n",
    "\n",
    "* `L`ocal scope: 함수\n",
    "\n",
    "* `E`nclosed scope: 특정 함수의 상위 함수 \n",
    "\n",
    "* `G`lobal scope: 함수 밖의 변수 혹은 import된 모듈\n",
    "\n",
    "* `B`uilt-in scope: 파이썬안에 내장되어 있는 함수 또는 속성\n",
    "\n",
    "**즉, 함수 내에서는 바깥 스코프의 변수에 접근 가능하나 수정은 할 수 없습니다.**"
   ]
  },
  {
   "cell_type": "code",
   "execution_count": 12,
   "metadata": {
    "id": "3VH4-FoZQr2K"
   },
   "outputs": [
    {
     "ename": "TypeError",
     "evalue": "'str' object is not callable",
     "output_type": "error",
     "traceback": [
      "\u001b[1;31m---------------------------------------------------------------------------\u001b[0m",
      "\u001b[1;31mTypeError\u001b[0m                                 Traceback (most recent call last)",
      "\u001b[1;32m~\\AppData\\Local\\Temp/ipykernel_12184/753899690.py\u001b[0m in \u001b[0;36m<module>\u001b[1;34m\u001b[0m\n\u001b[0;32m      5\u001b[0m \u001b[1;33m\u001b[0m\u001b[0m\n\u001b[0;32m      6\u001b[0m \u001b[0mprint\u001b[0m \u001b[1;33m=\u001b[0m \u001b[1;34m'ssafy'\u001b[0m\u001b[1;33m\u001b[0m\u001b[1;33m\u001b[0m\u001b[0m\n\u001b[1;32m----> 7\u001b[1;33m \u001b[0mprint\u001b[0m\u001b[1;33m(\u001b[0m\u001b[1;36m3\u001b[0m\u001b[1;33m)\u001b[0m\u001b[1;33m\u001b[0m\u001b[1;33m\u001b[0m\u001b[0m\n\u001b[0m",
      "\u001b[1;31mTypeError\u001b[0m: 'str' object is not callable"
     ]
    }
   ],
   "source": [
    "# 이것을 통해 첫시간에 내장함수의 식별자를 사용할 수 없었던 예제에서 오류가 생기는 이유를 확인할 수 있습니다.\n",
    "# Built-in scope와 Global scope를 알아봅시다.\n",
    "\n",
    "# 아래 코드를 실행하여 오류를 확인해보세요.\n",
    "\n",
    "print = 'ssafy'\n",
    "print(3)"
   ]
  },
  {
   "cell_type": "code",
   "execution_count": 13,
   "metadata": {
    "id": "nP6rQJDxQr2K"
   },
   "outputs": [],
   "source": [
    "# print 함수를 다시 사용할 수 있도록 print라는 이름의 변수를 삭제합니다.\n",
    "\n",
    "del print"
   ]
  },
  {
   "cell_type": "markdown",
   "metadata": {
    "id": "93M57eBrQr2K"
   },
   "source": [
    "1. `print()` 코드가 실행되면\n",
    "\n",
    "\n",
    "2. 함수에서 실행된 코드가 아니기 때문에 `L`, `E` 를 건너 뛰고,\n",
    "\n",
    "\n",
    "3. `print`라는 식별자를 Global scope에서 찾아서 `print = ssafy`를 가져오고, \n",
    "\n",
    "\n",
    "4. 이는 함수가 아니라 변수이기 때문에 `not callable`하다라는 오류를 내뱉게 됩니다.\n",
    "\n",
    "\n",
    "5. 우리가 원하는 `print()`은 Built-in scope에 있기 때문입니다."
   ]
  },
  {
   "cell_type": "code",
   "execution_count": 19,
   "metadata": {
    "id": "RSZDwk2NQr2K"
   },
   "outputs": [
    {
     "name": "stdout",
     "output_type": "stream",
     "text": [
      "3\n"
     ]
    }
   ],
   "source": [
    "# Global scope와 Local scope를 알아봅시다.\n",
    "# 함수 밖의 변수 a는 전역 변수에 해당하고, 함수 내부의 변수 a는 지역 변수에 해당합니다.\n",
    "# 함수의 실행 결과로 어떤 변수의 값이 반환되는지 확인해보세요.\n",
    "\n",
    "a = 1                  # gloabl\n",
    "def local_scope(a):\n",
    "    a = 3              # local\n",
    "    print(a)\n",
    "\n",
    "local_scope(a)"
   ]
  },
  {
   "cell_type": "code",
   "execution_count": 16,
   "metadata": {
    "id": "IynUcSoUQr2K",
    "scrolled": true
   },
   "outputs": [
    {
     "name": "stdout",
     "output_type": "stream",
     "text": [
      "30 20 40\n"
     ]
    }
   ],
   "source": [
    "# LEGB Rule을 자세히 알아봅시다.\n",
    "\n",
    "# 아래 코드를 실행시켜보고 print문에서 출력되는 \n",
    "# 각 변수가 어느 스코프에 해당하는 변수인지 확인해보고 왜 그렇게 되는지 고민해보세요.\n",
    "\n",
    "a = 10                        # gloabl\n",
    "b = 20                        # global\n",
    "def enclosed():\n",
    "    a = 30                    # enclosed\n",
    "    def local():\n",
    "        c = 40                # local\n",
    "        print(a, b, c)\n",
    "        # B   E  G  L\n",
    "    local()\n",
    "    a = 50                    # enclosed 함수의 local\n",
    "enclosed()"
   ]
  },
  {
   "cell_type": "code",
   "execution_count": 20,
   "metadata": {},
   "outputs": [
    {
     "name": "stdout",
     "output_type": "stream",
     "text": [
      "3\n"
     ]
    }
   ],
   "source": [
    "# 스코프는 함수에서만 적용됩니다.\n",
    "# 아래와 같이 for문을 확인해보세요.\n",
    "\n",
    "a = 1\n",
    "\n",
    "for a in [1, 2, 3]:         # for문을 통해 global a 할당\n",
    "    pass\n",
    "\n",
    "print(a)"
   ]
  },
  {
   "cell_type": "markdown",
   "metadata": {},
   "source": [
    "#### nonlocal\n",
    "\n",
    "전역을 제외하고 가장 가까운 (둘러 싸고 있는) 스코프의 변수를 연결하도록 합니다.\n",
    "- `nonlocal`에 나열된 이름은 같은 코드 플록에서 `nonlocal` 앞에 등장할 수 없음.\n",
    "- `nonlonal`에 나열된 이름은 매개변수, for 루프 대상, 클래스/함수 정의 등으로 정의되지 않아야 함.\n",
    "\n",
    "`global`과는 달리 이미 존재하는 이름과의 연결만 가능함"
   ]
  },
  {
   "cell_type": "code",
   "execution_count": 17,
   "metadata": {
    "id": "S8NHfpe9Qr2L"
   },
   "outputs": [
    {
     "name": "stdout",
     "output_type": "stream",
     "text": [
      "3\n"
     ]
    }
   ],
   "source": [
    "# 전역 변수를 바꿀 수 있을까요?\n",
    "\n",
    "# 기본적으로 지역 스코프에서 전역 스코프의 변수를 바꿀 수는 없습니다.\n",
    "# 아래 코드에서 함수 내부의 global_num은 지역 변수로 생성됩니다.\n",
    "# 코드를 실행시킨 뒤 결과를 확인해보세요.\n",
    "\n",
    "global_num = 3\n",
    "def local_scope():\n",
    "    global_num = 5\n",
    "\n",
    "local_scope()\n",
    "print(global_num)"
   ]
  },
  {
   "cell_type": "markdown",
   "metadata": {},
   "source": [
    "#### global\n",
    "\n",
    "현재 코드 블록 전체에 적용되며, 나열된 식별자(이름)들이 전역 변수임을 나타냅니다.\n",
    "- `global`에 나열된 이름은 같은 코드 블록에서 `global` 앞에 등장할 수 없음.\n",
    "- `global`에 나열된 이름은 매개변수, for 루프 대상, 클래스/함수 정의 등으로 정의되지 않아야 함."
   ]
  },
  {
   "cell_type": "code",
   "execution_count": 18,
   "metadata": {
    "id": "ARifTeglQr2L"
   },
   "outputs": [
    {
     "name": "stdout",
     "output_type": "stream",
     "text": [
      "5\n"
     ]
    }
   ],
   "source": [
    "# 전역에 있는 변수를 바꾸고 싶다면, 아래와 같이 선언할 수 있습니다. (일반적으로 권장 X)\n",
    "\n",
    "# global 키워드를 사용하여 지역 스코프에서 전역 변수의 값을 바꿀 수 있습니다.\n",
    "# 코드를 실행시킨 뒤 결과를 확인해보세요.\n",
    "\n",
    "global_num = 3\n",
    "def local_scope():\n",
    "    global global_num\n",
    "    global_num = 5\n",
    "\n",
    "local_scope()\n",
    "print(global_num)"
   ]
  },
  {
   "cell_type": "markdown",
   "metadata": {
    "id": "WBfkOQgpQr2L"
   },
   "source": [
    "```{warning}\n",
    "\n",
    "* 기본적으로 함수에서 선언된 변수는 Local scope에 생성되며, 함수 종료 시 사라집니다.\n",
    "* 해당 스코프에 변수가 없는 경우 LEGB rule에 의해 이름을 검색합니다.\n",
    "    * 변수에 접근은 가능하지만, **해당 변수를 재할당할 수는 없습니다.**\n",
    "    * 값을 할당하는 경우 해당 스코프의 이름공간에 새롭게 생성되기 때문입니다.\n",
    "    * **단, 함수 내에서 필요한 상위 스코프 변수는 인자로 넘겨서 활용합니다.** (*클로저 제외)\n",
    "* 상위 스코프에 있는 변수를 수정하고 싶다면 global, nonlocal 키워드를 활용 가능합니다.\n",
    "    * 단, 코드가 복잡해지면서 변수의 변경을 추적하기 어렵고, 예기치 못한 오류가 발생합니다.\n",
    "    * 가급적 사용하지 않는 것을 권장하며 **함수로 값을 바꾸고자 한다면 항상 인자로 넘기고 리턴 값을 사용하는 것을 추천**\n",
    "    \n",
    "```\n",
    "\n",
    "```{admonition} 클로저란?\n",
    ":class: tip\n",
    "어떤 함수 내부에 중첩된 형태로써 외부 스코프 변수에 접근 가능한 함수\n",
    "```"
   ]
  },
  {
   "cell_type": "code",
   "execution_count": 27,
   "metadata": {},
   "outputs": [
    {
     "name": "stdout",
     "output_type": "stream",
     "text": [
      "100 1000\n",
      "1 1000\n"
     ]
    }
   ],
   "source": [
    "var_x = 1\n",
    "var_a = 2\n",
    "\n",
    "def x():\n",
    "    var_x = 10              # enclosed\n",
    "    \n",
    "    def y():\n",
    "        nonlocal var_x      # enclosed\n",
    "        global var_a        # global var_a = 1000\n",
    "        var_x = 100\n",
    "        var_a = 1000\n",
    "        print(var_x, var_a) \n",
    "    y()\n",
    "x()\n",
    "print(var_x, var_a)         # global var_x = 1 \n",
    "\n",
    "# 그러나 가급적 사용하지 말자."
   ]
  },
  {
   "cell_type": "markdown",
   "metadata": {
    "id": "yGp03hU8Qr2L"
   },
   "source": [
    "## 재귀 함수\n",
    "\n",
    "**재귀 함수**(recursive function)는 함수 내부에서 자기 자신을 호출 하는 함수를 뜻합니다.\n",
    "\n",
    "- 무한한 호출을 목표로 하는 것이 아니며, 알고리즘을 설계 및 구현에서 유용하게 활용됩니다.\n",
    "    - 알고리즘 중 재귀 함수로 로직을 표현하기 쉬운 경우가 있습니다. (ex. 점화식)\n",
    "    - 변수의 사용이 줄어들며, 코드의 가독성이 높아집니다.\n",
    "- 1개 이상의 **base case**(종료되는 상황)가 존재하고, 수렴하도록 작성합니다.\n",
    "    - 같은 문제를 다른 Input 값을 통해서 해결하는 과정\n",
    "        - 큰 문제를 해결하기 위해 작은 문제로 좁히고, 작은 문제의 해답을 이용하여 해결\n",
    "    - 작은 문제는 base case에 도달하여 재귀 함수가 끝날 수 있도록 함."
   ]
  },
  {
   "cell_type": "markdown",
   "metadata": {
    "id": "4WjYekNSQr2L"
   },
   "source": [
    "### 팩토리얼 계산\n",
    "> 팩토리얼은 1부터 n 까지 양의 정수를 차례대로 곱한 값이며 `!` 기호로 표기합니다. 예를 들어 3!은 3 * 2 * 1이며 결과는 6 입니다.\n",
    ">\n",
    "> `팩토리얼(factorial)`을 계산하는 함수 `fact(n)`를 작성하세요. \n",
    ">\n",
    "> n은 1보다 큰 정수라고 가정하고, 팩토리얼을 계산한 값을 반환합니다.\n",
    "\n",
    "$$\n",
    "\\displaystyle n! = \\prod_{ k = 1 }^{ n }{ k }\n",
    "$$\n",
    "\n",
    "$$\n",
    "\\displaystyle n! = 1*2*3*...*(n-1)*n\n",
    "$$\n",
    "\n",
    "---\n",
    "```\n",
    "예시 출력)\n",
    "120\n",
    "```"
   ]
  },
  {
   "cell_type": "markdown",
   "metadata": {
    "id": "0Lay5izFQr2L"
   },
   "source": [
    "#### 반복문을 이용한 팩토리얼 계산"
   ]
  },
  {
   "cell_type": "code",
   "execution_count": 32,
   "metadata": {
    "id": "TO49uP4xQr2L"
   },
   "outputs": [],
   "source": [
    "# 팩토리얼을 반복문을 이용하여 구현해봅시다.\n",
    "\n",
    "def fact(n):\n",
    "    result = 1\n",
    "    for i in range(1, n + 1):\n",
    "        result *= i\n",
    "    return result\n",
    "\n",
    "# while문으로 풀기\n",
    "\n",
    "# def fact(n):\n",
    "#     result = 1\n",
    "#     while n > 1:\n",
    "#         result *= n\n",
    "#         n -= 1\n",
    "#     return result"
   ]
  },
  {
   "cell_type": "code",
   "execution_count": 33,
   "metadata": {
    "id": "0Mkll8lGQr2L"
   },
   "outputs": [
    {
     "data": {
      "text/plain": [
       "120"
      ]
     },
     "execution_count": 33,
     "metadata": {},
     "output_type": "execute_result"
    }
   ],
   "source": [
    "# 해당 코드를 통해 올바른 결과가 나오는지 확인하세요.\n",
    "fact(5)"
   ]
  },
  {
   "cell_type": "markdown",
   "metadata": {
    "id": "LzidTXAVQr2L"
   },
   "source": [
    "#### 재귀를 이용한 팩토리얼 계산\n",
    "\n",
    "```\n",
    "1! = 1\n",
    "2! = 1 * 2 = 1! * 2 \n",
    "3! = 1 * 2 * 3 = 2! * 3\n",
    "```"
   ]
  },
  {
   "cell_type": "code",
   "execution_count": 36,
   "metadata": {
    "id": "b4RyF83dQr2L"
   },
   "outputs": [],
   "source": [
    "# 재귀를 이용하여 팩토리얼을 구현해봅시다.\n",
    "# 여기에 코드를 작성하세요.\n",
    "\n",
    "def factorial(n):\n",
    "    if n == 1:\n",
    "        return 1\n",
    "    return n * factorial(n - 1)"
   ]
  },
  {
   "cell_type": "code",
   "execution_count": 37,
   "metadata": {
    "id": "89vPmiTRQr2M"
   },
   "outputs": [
    {
     "data": {
      "text/plain": [
       "120"
      ]
     },
     "execution_count": 37,
     "metadata": {},
     "output_type": "execute_result"
    }
   ],
   "source": [
    "# 해당 코드를 통해 올바른 결과가 나오는지 확인하세요.\n",
    "factorial(5)"
   ]
  },
  {
   "cell_type": "markdown",
   "metadata": {
    "id": "N4Q2b5jIQr2M"
   },
   "source": [
    "### 반복문과 재귀함수\n",
    "```python\n",
    "factorial(3)\n",
    "3 * factorail(2)\n",
    "3 * 2 * factorial(1)\n",
    "3 * 2 * 1\n",
    "3 * 2\n",
    "6\n",
    "```\n",
    "\n",
    "두 코드 모두 원리는 같습니다! \n",
    "\n",
    "\n",
    "1. 반복문 코드\n",
    "    - n이 1보다 큰 경우 반복문을 돌며, n은 1씩 감소합니다. \n",
    "    - 마지막에 n이 1이면 더 이상 반복문을 돌지 않습니다.\n",
    "  \n",
    "  \n",
    "2. 재귀 함수 코드\n",
    "    - 재귀 함수를 호출하며, n은 1씩 감소합니다. \n",
    "    - 마지막에 n이 1이면 더 이상 추가 함수를 호출하지 않습니다.\n"
   ]
  },
  {
   "cell_type": "markdown",
   "metadata": {
    "id": "uGYMrtjaQr2M"
   },
   "source": [
    "* 재귀함수는 기본적으로 같은 문제이지만 점점 범위가 줄어드는 문제를 풀게 됩니다.\n",
    "\n",
    "* 재귀함수를 작성시에는 반드시, `base case`가 존재 하여야 합니다. \n",
    "\n",
    "* `base case`는 점점 범위가 줄어들어 반복되지 않는 최종적으로 도달하는 곳을 의미합니다. \n",
    "\n",
    "* 재귀를 이용한 팩토리얼 계산에서의 base case는 **n이 1일때, 함수가 아닌 정수 반환하는 것**입니다"
   ]
  },
  {
   "cell_type": "markdown",
   "metadata": {
    "id": "R5Nx16DNQr2M"
   },
   "source": [
    "```{admonition} 재귀 함수 주의 사항\n",
    ":class: warning\n",
    "* 팩토리얼 재귀함수를 [Python Tutor](https://goo.gl/k1hQYz)에서 확인해보면, 함수가 호출될 때마다 메모리 공간에 쌓이는 것을 볼 수 있습니다.\n",
    "* 이 경우, 메모리 스택이 넘치거나(Stack overflow) 프로그램 실행 속도가 늘어지는 단점이 생깁니다.\n",
    "* 파이썬에서는 이를 방지하기 위해 1,000번이 넘어가게 되면 더이상 함수를 호출하지 않고, 종료됩니다. (최대 재귀 깊이 (maximum recursion depth))\n",
    "* 호출 횟수가 최대 재귀 깊이를 넘어가게 되면 `Recursion Error`가 발생합니다.\n",
    "```"
   ]
  },
  {
   "cell_type": "code",
   "execution_count": 6,
   "metadata": {},
   "outputs": [
    {
     "name": "stdout",
     "output_type": "stream",
     "text": [
      "3000\n"
     ]
    }
   ],
   "source": [
    "import sys\n",
    "print(sys.getrecursionlimit())"
   ]
  },
  {
   "cell_type": "markdown",
   "metadata": {
    "id": "aDiyZ-BjQr2M"
   },
   "source": [
    "#### 최대 재귀 깊이\n",
    "\n",
    "\n",
    "```python\n",
    "def ssafy():\n",
    "    print('Hello, ssafy!')\n",
    "    ssafy()\n",
    " \n",
    "ssafy()\n",
    "```\n",
    "---\n",
    "\n",
    "`ssafy()`를 호출하면 아래와 같이 문자열이 계속 출력되다가 RecursionError가 발생합니다.\n",
    "\n",
    "파이썬에서는 최대 재귀 깊이(maximum recursion depth)가 1,000으로 정해져 있기 때문입니다.\n",
    "\n",
    "---\n",
    "\n",
    "```bash\n",
    "Hello, world!\n",
    "Hello, world!\n",
    "...\n",
    "Hello, world!\n",
    "---------------------------------------------------------------------------\n",
    "RecursionError                            Traceback (most recent call last)\n",
    "\n",
    "...\n",
    "\n",
    "<ipython-input-11-2bbb40950c86> in hello()\n",
    "      1 def hello():\n",
    "      2     print('Hello, world!')\n",
    "----> 3     hello()\n",
    "      4 \n",
    "      5 hello()\n",
    "\n",
    "RecursionError: maximum recursion depth exceeded while calling a Python object\n",
    "```"
   ]
  },
  {
   "cell_type": "code",
   "execution_count": 1,
   "metadata": {
    "id": "UW0KwewFQr2M"
   },
   "outputs": [],
   "source": [
    "# 직접 오류를 확인하세요.\n",
    "\n",
    "# def ssafy():\n",
    "#     print('Hello, ssafy!', end=\" \")\n",
    "#     ssafy()\n",
    "\n",
    "# ssafy()"
   ]
  },
  {
   "cell_type": "markdown",
   "metadata": {
    "id": "Xvt-SLAnQr2M"
   },
   "source": [
    "### [실습] 피보나치 수열\n",
    "\n",
    "첫째 및 둘째 항이 1이며 그 뒤의 모든 항은 바로 앞 두 항의 합인 수열입니다. \n",
    "\n",
    "(0), 1, 1, 2, 3, 5, 8\n",
    "\n",
    "> 피보나치 수열은 다음과 같은 점화식이 있습니다. \n",
    ">\n",
    "> 피보나치 값을 리턴하는 두가지 방식의 코드를 모두 작성해주세요.\n",
    ">\n",
    "\n",
    "$$\n",
    "\\displaystyle F_0 = F_1 = 1\n",
    "$$\n",
    "\n",
    "$$\n",
    "F_n=F_{n-1}+F_{n-2}\\qquad(n\\in\\{2,3,4,\\dots\\})\n",
    "$$\n",
    "\n",
    "1) `fib(n)` : 재귀함수\n",
    "\n",
    "2) `fib_loop(n)` : 반복문 활용한 함수\n",
    "\n",
    "---\n",
    "```\n",
    "예시 입력)\n",
    "fib(10)\n",
    "\n",
    "예시 호출)\n",
    "55\n",
    "```"
   ]
  },
  {
   "cell_type": "code",
   "execution_count": 29,
   "metadata": {
    "id": "jP3inOiWQr2M"
   },
   "outputs": [],
   "source": [
    "# 재귀를 이용한 코드 fib() 를 작성하세요.\n",
    "\n",
    "def fib(n):\n",
    "    if n < 2:\n",
    "        return n\n",
    "    else:\n",
    "        return fib(n-1) + fib(n-2)"
   ]
  },
  {
   "cell_type": "code",
   "execution_count": 13,
   "metadata": {
    "id": "xwJo9CzaQr2M"
   },
   "outputs": [
    {
     "data": {
      "text/plain": [
       "55"
      ]
     },
     "execution_count": 13,
     "metadata": {},
     "output_type": "execute_result"
    }
   ],
   "source": [
    "# 해당 코드를 통해 올바른 결과가 나오는지 확인하세요.\n",
    "\n",
    "fib(10)"
   ]
  },
  {
   "cell_type": "code",
   "execution_count": 20,
   "metadata": {
    "id": "PtyuRypzQr2M"
   },
   "outputs": [],
   "source": [
    "# 반복문(for문)을 이용한 코드 fib_loop() 를 작성하세요.\n",
    "\n",
    "def fib_loop(n):\n",
    "    result = []\n",
    "    for i in range(n):\n",
    "        if i in (0, 1):\n",
    "            result.append(1)\n",
    "        else:\n",
    "            result.append(result[i-2] + result[i-1])\n",
    "    return result[n-1]"
   ]
  },
  {
   "cell_type": "code",
   "execution_count": 23,
   "metadata": {},
   "outputs": [],
   "source": [
    "def fib_loop(n):\n",
    "    if n < 2:\n",
    "        return n\n",
    "    \n",
    "    result = [0, 1]\n",
    "    \n",
    "    for i in range(2, n+1):\n",
    "        next_num = result[i-1] + result[i-2]\n",
    "        result.append(next_num)\n",
    "    return result[-1]"
   ]
  },
  {
   "cell_type": "code",
   "execution_count": 24,
   "metadata": {
    "id": "3j_mbF7fQr2M"
   },
   "outputs": [
    {
     "data": {
      "text/plain": [
       "55"
      ]
     },
     "execution_count": 24,
     "metadata": {},
     "output_type": "execute_result"
    }
   ],
   "source": [
    "# 해당 코드를 통해 올바른 결과가 나오는지 확인하세요.\n",
    "fib_loop(10)"
   ]
  },
  {
   "cell_type": "code",
   "execution_count": 17,
   "metadata": {
    "id": "QdfPf4RTQr2N"
   },
   "outputs": [
    {
     "data": {
      "text/plain": [
       "55"
      ]
     },
     "execution_count": 17,
     "metadata": {},
     "output_type": "execute_result"
    }
   ],
   "source": [
    "# 반복문(while 문)을 이용한 코드 fib_loop2()을 작성하세요.\n",
    "\n",
    "def fib_loop2(n):\n",
    "    i = 0\n",
    "    result = []\n",
    "    while i < n + 1:\n",
    "        if i in (0, 1):\n",
    "            result.append(1)\n",
    "        else:\n",
    "            result.append(result[i-2] + result[i-1])\n",
    "        i += 1\n",
    "    return result[n-1]\n",
    "\n",
    "fib_loop2(10)"
   ]
  },
  {
   "cell_type": "markdown",
   "metadata": {
    "id": "Lef5ke8lQr2N"
   },
   "source": [
    "### 반복문과 재귀 함수의 차이\n",
    "\n",
    "* 알고리즘 자체가 재귀적인 표현이 자연스러운 경우 재귀함수를 사용합니다.\n",
    "* 재귀 호출은 `변수 사용` 을 줄여줄 수 있습니다."
   ]
  },
  {
   "cell_type": "code",
   "execution_count": 36,
   "metadata": {
    "id": "2LDwhxGuQr2N"
   },
   "outputs": [
    {
     "name": "stdout",
     "output_type": "stream",
     "text": [
      "0.13866543769836426\n"
     ]
    }
   ],
   "source": [
    "# 재귀 호출은 입력 값이 커질 수록 연산 속도가 오래걸립니다.\n",
    "# fib() 함수에 10 이상의 값을 넣어보고 실행한 뒤 연산 시간을 확인해보세요.\n",
    "\n",
    "import time\n",
    "\n",
    "start = time.time()\n",
    "fib(30)\n",
    "end = time.time()\n",
    "\n",
    "print(end - start)"
   ]
  },
  {
   "cell_type": "code",
   "execution_count": 38,
   "metadata": {
    "id": "YgwPdwobQr2N"
   },
   "outputs": [
    {
     "name": "stdout",
     "output_type": "stream",
     "text": [
      "0.004734039306640625\n"
     ]
    }
   ],
   "source": [
    "# 반복문은 재귀로 구현된 함수보다 연산 속도가 빠른 편입니다.\n",
    "# fib_loop() 함수에 10 이상의 값을 넣어보고 실행한 뒤 연산 시간을 확인해보세요.\n",
    "# 그리고 100배 더 큰 1000 이상의 값도 넣어보고 실행한 뒤 연산 시간을 확인해보세요.\n",
    "\n",
    "import time\n",
    "\n",
    "start = time.time()\n",
    "fib_loop(10000)\n",
    "end = time.time()\n",
    "\n",
    "print(end - start)"
   ]
  },
  {
   "cell_type": "code",
   "execution_count": 43,
   "metadata": {},
   "outputs": [
    {
     "name": "stdout",
     "output_type": "stream",
     "text": [
      "0:00:00.139081\n"
     ]
    }
   ],
   "source": [
    "# 시간을 더 정확하게 측정하는 방법\n",
    "\n",
    "from timeit import default_timer as timer\n",
    "from datetime import timedelta\n",
    "\n",
    "start = timer()\n",
    "fib(30)\n",
    "end = timer()\n",
    "\n",
    "print(timedelta(seconds = end - start))"
   ]
  },
  {
   "cell_type": "code",
   "execution_count": 39,
   "metadata": {},
   "outputs": [
    {
     "name": "stdout",
     "output_type": "stream",
     "text": [
      "0:00:00.004688\n"
     ]
    }
   ],
   "source": [
    "from timeit import default_timer as timer\n",
    "from datetime import timedelta\n",
    "\n",
    "start = timer()\n",
    "fib_loop(10000)\n",
    "end = timer()\n",
    "\n",
    "print(timedelta(seconds = end - start))"
   ]
  },
  {
   "cell_type": "markdown",
   "metadata": {},
   "source": [
    "```{admonition} convention\n",
    ":class: note\n",
    "\n",
    "1. 리스트 / 배열을 담는 변수명은 복수형으로\n",
    "2. 함수 이름은 동사형으로 짓는다. 이름에서 return의 type을 추측할 수 있으면 더 좋다. (ex. `get_fibonacci()`, `is_adult()`, `get_lotto_numbers()`)\n",
    "\n",
    "```"
   ]
  }
 ],
 "metadata": {
  "celltoolbar": "Edit Metadata",
  "colab": {
   "collapsed_sections": [],
   "name": "03_function.ipynb",
   "provenance": [],
   "toc_visible": true
  },
  "kernelspec": {
   "display_name": "Python 3 (ipykernel)",
   "language": "python",
   "name": "python3"
  },
  "language_info": {
   "codemirror_mode": {
    "name": "ipython",
    "version": 3
   },
   "file_extension": ".py",
   "mimetype": "text/x-python",
   "name": "python",
   "nbconvert_exporter": "python",
   "pygments_lexer": "ipython3",
   "version": "3.9.6"
  },
  "output_scroll": true,
  "toc": {
   "base_numbering": 1,
   "nav_menu": {},
   "number_sections": true,
   "sideBar": true,
   "skip_h1_title": false,
   "title_cell": "Table of Contents",
   "title_sidebar": "Contents",
   "toc_cell": false,
   "toc_position": {},
   "toc_section_display": true,
   "toc_window_display": false
  },
  "toc-autonumbering": false,
  "toc-showcode": false,
  "toc-showmarkdowntxt": false,
  "toc-showtags": true
 },
 "nbformat": 4,
 "nbformat_minor": 4
}
